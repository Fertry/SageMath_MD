{
 "cells": [
  {
   "cell_type": "markdown",
   "metadata": {},
   "source": [
    "<h3 style=\"text-align: center;\"><strong>ESCUELA DE INGENIERÍA INFORMÁTICA - UNIVERSIDAD DE SEVILLA</strong></h3>\n",
    "<h3 style=\"text-align: center;\"><strong>GRADO EN INGENIERÍA INFORMÁTICA-TECNOLOGÍAS INFORMÁTICAS</strong></h3>\n",
    "<h1 style=\"font-size: 1em; text-align: center;\"><strong>MATEMÁTICA DISCRETA<br /></strong></h1>\n",
    "<h2 style=\"font-size: 1.17em; text-align: center;\"><strong>Práctica 1. Introducción a grafos en Sage.</strong></h2>\n",
    "<p>En esta primera sesión nos marcamos como objetivo fundamental hacer un ligero repaso al tratamiento de grafos con Sage, con objeto de poder afrontar con solvencia el resto de prácticas.</p>\n",
    "<p>La práctica está diseñada con suficientes explicaciones con tal de que se pueda seguir de manera autónoma el hilo de la misma. El documento contiene, además de multitud de ejemplos resueltos, algunos ejercicios propuestos cuya resolución se recomienda para poder seguir la práctica con mayor garantía.</p>\n",
    "<p>La práctica presenta los siguientes apartados:</p>\n",
    "<p>1) <a href=\"#intrografo\">Formas de introducir un grafo</a>.</p>\n",
    "<p>2) <a href=\"#repregrafo\">Representación gráfica de un grafo</a>.</p>\n",
    "<p>3) <a href=\"#inforgrafo\">Cómo obtener información de un grafo</a>.</p>\n",
    "<p>4) <a href=\"#operagrafo\">Operaciones con grafos</a>.</p>\n",
    "<p> </p>\n",
    "<p>Al final del documento hay además una <a href=\"#cuestiones\">colección de otros ejercicios propuestos.</a></p>\n",
    "<p> </p>\n",
    "<p>SAGE es un paquete de <strong>software matemático libre y de código abierto</strong> bajo licencia GNU GPL. En realidad SAGE engloba, bajo una misma interface, a cerca de un centenar de paquetes de software matemático libre, poniéndolos a disposición del usuario de forma transparente. El lenguaje de programación empleado para ello es <strong>Python </strong>y en ese sentido, el lenguaje propio de SAGE es compatible en un 99% con Python. Utilizaremos los recursos que provee SAGE para manipular grafos en la asignatura de Matemática Discreta. A continuación explicaremos brevemente las características principales del programa. </p>\n",
    "<p>Para instrucciones, manuales y descargas se puede visitar <a href=\"http://www.sagemath.org\">http://www.sagemath.org</a></p>\n",
    "<p>Para el uso de Sage en grafos podemos consultar el manual  <a href=\"http://doc.sagemath.org/html/en/reference/graphs/index.html</a></p>\n",
    "\n",
    "<h2><a name=\"intrografo\"></a>1. Formas de introducir un grafo en Sage.</h2>\n",
    "<p>En Sage un grafo no dirigido es un objeto de clase <strong>Graph</strong> y un grafo dirigido, de clase <strong>DiGraph</strong>.</p>\n",
    "<p>Sage dispone de una extensa librería para grafos no dirigidos (dirigidos). Esta es la librería \"<em>graphs</em>\" (\"<em>digraphs</em>\"). Podemos ver la colección de grafos que contiene dicha librería sin más que teclear \"<em>graphs.+ Tab </em>\" (\"<em>digraphs.+ Tab </em>\").</p>"
   ]
  },
  {
   "cell_type": "code",
   "execution_count": null,
   "metadata": {},
   "outputs": [],
   "source": [
    "graphs."
   ]
  },
  {
   "cell_type": "code",
   "execution_count": null,
   "metadata": {},
   "outputs": [],
   "source": [
    "digraphs."
   ]
  },
  {
   "cell_type": "markdown",
   "metadata": {},
   "source": [
    "<p>Por ejemplo, las siguientes instrucciones asignan a la variable k37 el grafo bipartito completo $K_{3,7}$ y a continuación nos lo representa gráficamente:</p>"
   ]
  },
  {
   "cell_type": "code",
   "execution_count": null,
   "metadata": {},
   "outputs": [],
   "source": [
    "k37=graphs.CompleteBipartiteGraph(3,7)"
   ]
  },
  {
   "cell_type": "code",
   "execution_count": null,
   "metadata": {},
   "outputs": [],
   "source": [
    "k37.plot()"
   ]
  },
  {
   "cell_type": "markdown",
   "metadata": {},
   "source": [
    "<p>O algo más sofisticado: un grafo aleatorio de 20 vértices y  con probabilidad 0.3 de que exista cada arista:</p>"
   ]
  },
  {
   "cell_type": "code",
   "execution_count": null,
   "metadata": {},
   "outputs": [],
   "source": [
    "G_azar=graphs.RandomGNP(20,0.3)\n",
    "G_azar.plot(figsize=5)"
   ]
  },
  {
   "cell_type": "markdown",
   "metadata": {},
   "source": [
    "<p>Veamos cómo podemos crear nuestros propios grafos. Con las instrucciones siguientes definimos un grafo G y un digrafo DG, ambos sin ningún vértice:</p>"
   ]
  },
  {
   "cell_type": "code",
   "execution_count": null,
   "metadata": {},
   "outputs": [],
   "source": [
    "G = Graph(); DG=DiGraph()  # grafos vacios, sin ningún vértice"
   ]
  },
  {
   "cell_type": "markdown",
   "metadata": {},
   "source": [
    "<p>Como es habitual en Sage, una vez que tenemos definido un objeto, podemos obtener rápidamente un listado de atríbutos y métodos aplicables a dicho objeto. Así podremos obtener una lista de los métodos y atributos aplicables a nuestro objeto grafo, tecleando \"<em>G.+<Tab></em>\"  y de forma similar para nuestro objeto de tipo digrafo, tecleando \"<em>DG.+<Tab></em>\". La mayoría de tales métodos y atributos son comunes para grafos y digrafos.</p>"
   ]
  },
  {
   "cell_type": "code",
   "execution_count": null,
   "metadata": {},
   "outputs": [],
   "source": [
    "G."
   ]
  },
  {
   "cell_type": "code",
   "execution_count": null,
   "metadata": {},
   "outputs": [],
   "source": [
    "DG."
   ]
  },
  {
   "cell_type": "markdown",
   "metadata": {},
   "source": [
    "<p>Una de las formas más simples e intuitivas de definir un grafo (sobre todo si son de pequeño tamaño) es mediante un diccionario que describa las listas de adyacencias, donde las claves (keys) son los números asociados a los vértices y los valores (values) son la lista de vértices adyacentes.</p>\n",
    "<p>Nota: Si se trata de un grafo no dirigido, no es preciso añadir los recíprocos en las listas de adyacencias.</p>"
   ]
  },
  {
   "cell_type": "code",
   "execution_count": null,
   "metadata": {},
   "outputs": [],
   "source": [
    "G1= Graph({1:[2,3,4],2:[3,4,5],4:[5]})  \n",
    "G2= Graph({1:[2,3,4],2:[1,3,4,5],3:[1,2],4:[1,2,5],5:[2,4]})"
   ]
  },
  {
   "cell_type": "code",
   "execution_count": null,
   "metadata": {},
   "outputs": [],
   "source": [
    "#Dibujamos el primer grafo\n",
    "G1.plot(figsize=2)"
   ]
  },
  {
   "cell_type": "code",
   "execution_count": null,
   "metadata": {},
   "outputs": [],
   "source": [
    "#Dibujamos el segundo grafo\n",
    "G2.plot(figsize=2) \n",
    "#Como se ve son el mismo grafo"
   ]
  },
  {
   "cell_type": "code",
   "execution_count": null,
   "metadata": {},
   "outputs": [],
   "source": [
    "DG1=DiGraph({'a':['b','c','d'],'b':['c','d','e'],'d':['e']})\n",
    "DG2=DiGraph({'a':['b','c','d'],'b':['a','c','d','e'],'c':['a','b'],'d':['a','b','e'],'e':['b','d']})\n",
    "#Obsérvese que las etiquetas de los vértices no tienen por qué ser numéricas"
   ]
  },
  {
   "cell_type": "code",
   "execution_count": null,
   "metadata": {},
   "outputs": [],
   "source": [
    "#Dibujamos el primer digrafo\n",
    "plot(DG1,figsize = 3,layout='circular')"
   ]
  },
  {
   "cell_type": "code",
   "execution_count": null,
   "metadata": {},
   "outputs": [],
   "source": [
    "#Dibujamos el segundo digrafo y se aprecia que no son el mismo\n",
    "plot(DG2,figsize = 3,layout='circular')"
   ]
  },
  {
   "cell_type": "markdown",
   "metadata": {},
   "source": [
    "<p><strong><strong>EJERCICIO</strong> 1:</strong> Introducir en una variable el grafo siguiente</p>\n",
    "<p><img src=\"grafo0.png\" alt=\"\" width=\"126\" height=\"211\" /></p>"
   ]
  },
  {
   "cell_type": "code",
   "execution_count": null,
   "metadata": {},
   "outputs": [],
   "source": []
  },
  {
   "cell_type": "markdown",
   "metadata": {},
   "source": [
    "<p>Tamibién podemos crear un grafo a partir de su matriz de adyacencia:</p>"
   ]
  },
  {
   "cell_type": "code",
   "execution_count": null,
   "metadata": {},
   "outputs": [],
   "source": [
    "M=matrix([[0, 1, 0, 1],[1, 0, 1, 0],[0, 1, 0, 1],[1, 0, 1, 0]]); show(M)"
   ]
  },
  {
   "cell_type": "code",
   "execution_count": null,
   "metadata": {},
   "outputs": [],
   "source": [
    "GM=Graph(M)\n",
    "plot(GM, figsize=2)"
   ]
  },
  {
   "cell_type": "markdown",
   "metadata": {},
   "source": [
    "<p>Para grafos más grandes una opción más cómoda puede ser la de definir los conjuntos de vértices y aristas por separado y añadírselos al grafo, creado previamente como grafo vacío. Por ejemplo, vamos a definir un grafo cuyo conjunto de vértices $V$ sean los naturales del $1$ al $10$, y en el que dos vértices son adyacentes si se diferencian en $1$ ó $2$ unidades. </p>"
   ]
  },
  {
   "cell_type": "code",
   "execution_count": null,
   "metadata": {},
   "outputs": [],
   "source": [
    "G3=Graph()  #grafo vacío"
   ]
  },
  {
   "cell_type": "code",
   "execution_count": null,
   "metadata": {},
   "outputs": [],
   "source": [
    "V=[1..10]   #definimos el conjunto de vértices \n",
    "E=[ (i,j) for (i,j) in cartesian_product([V,V]) if (i==j+1 or i==j+2 ) ]   #definimos las aristas"
   ]
  },
  {
   "cell_type": "code",
   "execution_count": null,
   "metadata": {},
   "outputs": [],
   "source": [
    "G3.add_vertices(V)    #añadimos los vértices\n",
    "G3.add_edges(E)       #añadimos las aristas"
   ]
  },
  {
   "cell_type": "code",
   "execution_count": null,
   "metadata": {},
   "outputs": [],
   "source": [
    "G3.plot(figsize=5,layout='circular')#representamos el grafo"
   ]
  },
  {
   "cell_type": "markdown",
   "metadata": {},
   "source": [
    "<p>Las siguientes instrucciones crean el grafo $Gn$ (hemos puesto el caso $n=5$, pero para otros valores de $n$ basta cambiar la primera línea), definido en el examen de Septiembre (2015). Este grafo tiene como conjunto de vértices $V$ y aristas $A$ los siguientes:</p>\n",
    "<p>$$V=\\{x_1,x_2,\\dots,x_n,y_1,y_2,\\dots,y_n\\}$$</p>\n",
    "<p>$$A=\\{ \\{x_i,x_{i+1} \\}, \\{x_i,y_{i+1} \\}, \\{y_i,y_{i+1}\\},\\{y_i,x_{i+1} \\}, 1 \\le i\\le n-1    \\}\\bigcup \\{\\{x_i,y_i \\}, 1 \\le i\\le n \\}$$</p>"
   ]
  },
  {
   "cell_type": "code",
   "execution_count": null,
   "metadata": {},
   "outputs": [],
   "source": [
    "n=5   #Cambiando este valor podemos tener cualquier Gn\n",
    "Gn=Graph()   #Grafo vacío\n",
    "x=['x'+str(i) for i in [1..n]]  #x es la lista de las etiquetas de los vértices x1, x2, ...\n",
    "y=['y'+str(i) for i in [1..n]]  #y es la lista de las etiquetas de los vértices y1, y2, ...\n",
    "Gn.add_vertices(x)   #añadimos los vértices xi\n",
    "Gn.add_vertices(y)   #añadimos los vértices yi\n",
    "aristas1=[(x[i],x[i+1]) for i in [0..n-2]]   #listas de aristas  \n",
    "aristas2=[(y[i],y[i+1]) for i in [0..n-2]]   #    [0..n-2] porque nos referimos a los elementos de x[] e y[]\n",
    "aristas3=[(x[i],y[i+1]) for i in [0..n-2]]   #    y sabemos que x[0]='x1', x[1]='x2', etc ...\n",
    "aristas4=[(y[i],x[i+1]) for i in [0..n-2]]   #\n",
    "aristas5=[(x[i],y[i]) for i in [0..n-1]]     #\n",
    "Gn.add_edges(aristas1)    #\n",
    "Gn.add_edges(aristas2)    # \n",
    "Gn.add_edges(aristas3)    # añadimos las aristas\n",
    "Gn.add_edges(aristas4)    #\n",
    "Gn.add_edges(aristas5)    #"
   ]
  },
  {
   "cell_type": "code",
   "execution_count": null,
   "metadata": {},
   "outputs": [],
   "source": [
    "Gn.plot(figsize=5)"
   ]
  },
  {
   "cell_type": "markdown",
   "metadata": {},
   "source": [
    "<p>Para más información sobre las distintas formas de definir un grafo, ejecutar<span style=\"color: #0000ff;\"> Graph?</span></p>"
   ]
  },
  {
   "cell_type": "code",
   "execution_count": null,
   "metadata": {},
   "outputs": [],
   "source": [
    "Graph?"
   ]
  },
  {
   "cell_type": "code",
   "execution_count": null,
   "metadata": {},
   "outputs": [],
   "source": []
  },
  {
   "cell_type": "markdown",
   "metadata": {},
   "source": [
    "<p><strong><strong>EJERCICIO</strong> 2:</strong> Definimos, para $m\\ge 5$ la familia de grafos $L_m$ como los grafos cuyo conjunto de vértices son los elementos de $Z_m$ y cuyas aristas son todas las de la forma $\\{i,i+2\\}$ e $\\{i,i+3\\}$ para todo $i=0,1,\\dots,m-1$. Introducir en una variable $Lm$ dicho grafo, dando previamente un valor a $m$.</p>\n",
    "<p>NOTA: En Sage, la funciñón<em> mod(a,b)</em> devuelve el resto de dividir <em>a</em> por<em> b</em>.</p>"
   ]
  },
  {
   "cell_type": "code",
   "execution_count": null,
   "metadata": {},
   "outputs": [],
   "source": []
  },
  {
   "cell_type": "markdown",
   "metadata": {},
   "source": [
    "<h2><a name=\"repregrafo\"></a>2. Representación gráfica de un grafo</h2>\n",
    "<p>Como ya hemos visto anteriormente, el principal método para representar un grafo es \"<em>plot</em>\".  Este comando presenta varios parámetros que nos permitirán una representación gráfica mas adecuada para el grafo. Ya hemos estudiado el parámetro \"<em>figsize=</em>\" que nos permite indicar con qué tamaño queremos el dibujo. Otros parámetros especialemnte útiles son los siguientes (que son ilustrados con algunos ejemplos de representación del grafo \"<em>Gn</em>\" definido anteriormente):</p>\n",
    "<p>      - <em>layout</em> permite indicar un modelo de representación gráfica. Son de resaltar \"<em>layout='circular'</em>\" que distribuye los vértices a lo largo de una circunferencia y \"<em>layout='tree</em>' que dibuja el grafo, cuando se trate de un grafo árbol, en niveles.</p>\n",
    "<p>      - <em>vertex_size</em> permite indicar un tamaño para los vértices.</p>\n",
    "<p>      - <em>vertex_colors</em> nos permitirá asignar colores a los vértices, mediante un diccionario.</p>\n",
    "<p>      - <em>edge_colors</em> para colorear las aristas.</p>\n",
    "<p>      - <em>pos</em> nos permitirá dar una posición específica a cada vértice. Esta asignación se hará mediante un diccionario.</p>\n",
    "<h3>:</h3>\n",
    "<p> </p>"
   ]
  },
  {
   "cell_type": "code",
   "execution_count": null,
   "metadata": {},
   "outputs": [],
   "source": [
    "arbol=Graph({'a':['d','e','f'],'b':['d','g','h'],'c':['d']})\n",
    "arbol.plot(tree_root='a',layout='tree',figsize=3)"
   ]
  },
  {
   "cell_type": "code",
   "execution_count": null,
   "metadata": {},
   "outputs": [],
   "source": [
    "Gn.plot(layout='circular',vertex_size=500,figsize=3)"
   ]
  },
  {
   "cell_type": "code",
   "execution_count": null,
   "metadata": {},
   "outputs": [],
   "source": [
    "colores={'blue':x,'red':y}  #asignamos el color azul a la lista x1,x2... y el rojo a los y1,y2,...\n",
    "Gn.plot(vertex_colors=colores,figsize=4)"
   ]
  },
  {
   "cell_type": "markdown",
   "metadata": {},
   "source": [
    "<p>Como siempre podemos obtener información completa del método \"<em>plot</em>\" tecleando \"<em>grafo.plot?</em>\" (siendo <em>grafo</em> el nombre de un objeto de tipo Graph).</p>"
   ]
  },
  {
   "cell_type": "code",
   "execution_count": null,
   "metadata": {},
   "outputs": [],
   "source": [
    "Gn.plot?"
   ]
  },
  {
   "cell_type": "code",
   "execution_count": null,
   "metadata": {},
   "outputs": [],
   "source": [
    "posicionesx_lista=[('x'+str(i),[100,200-10*(i-1)]) for i in [1..n]] #posiciones para los vértices x1, x2 ...\n",
    "posicionesy_lista=[('y'+str(i),[150,200-10*(i-1)]) for i in [1..n]] #posiciones para los vértices y1, y2 ...\n",
    "posiciones=dict(posicionesx_lista+posicionesy_lista)     #Convierte la lista en un diccionario\n",
    "Gn.plot(pos=posiciones,vertex_colors=colores,figsize=3)"
   ]
  },
  {
   "cell_type": "markdown",
   "metadata": {},
   "source": [
    "<p>El resto de parámetros del método \"<em>plot</em>\" pueden verse tecleando \"<em>grafo.plot(+ Tab </em>\" (siendo <em>grafo</em> el nombre de un objeto de tipo Graph).</p>"
   ]
  },
  {
   "cell_type": "code",
   "execution_count": null,
   "metadata": {},
   "outputs": [],
   "source": [
    "Gn.plot("
   ]
  },
  {
   "cell_type": "markdown",
   "metadata": {},
   "source": [
    "<p><strong>EJERCICIO 3</strong>: Representar gráficamente los grafo $L_5$, $L_6$, $L_7$ y $L_8$, siendo $L_m$ el grafo definido en el ejercicio 2. Para poder apreciar mejor el grafo, dibujarlo con los vértices dispuestos en una circunferencia.</p>"
   ]
  },
  {
   "cell_type": "code",
   "execution_count": null,
   "metadata": {},
   "outputs": [],
   "source": []
  },
  {
   "cell_type": "markdown",
   "metadata": {},
   "source": [
    "<p><strong><strong>EJERCICIO</strong> 4:</strong> El grafo definido a continuación es un grafo bipartito, siendo los conjuntos de vértices $V_1=\\{1,4,6,7\\}$ y $V_2=\\{2,3,5\\}$. Representarlo poniendo los vértices separados y con distinto color.</p>"
   ]
  },
  {
   "cell_type": "code",
   "execution_count": null,
   "metadata": {},
   "outputs": [],
   "source": [
    "bipartito=Graph({1:[3,5],2:[4,6,7],3:[6,7],4:[5],5:[6]})\n",
    "bipartito.plot(figsize=2)"
   ]
  },
  {
   "cell_type": "code",
   "execution_count": null,
   "metadata": {},
   "outputs": [],
   "source": []
  },
  {
   "cell_type": "code",
   "execution_count": null,
   "metadata": {},
   "outputs": [],
   "source": []
  },
  {
   "cell_type": "markdown",
   "metadata": {},
   "source": [
    "<h2><a name=\"inforgrafo\"></a>3. Cómo obtener información de un grafo en Sage</h2>\n",
    "<p>Una vez definido el grafo en Sage, podemos obtener múltiples caracteríticas y propiedades. Por ejemplo podemos obtenerr la matriz de adyacencia:</p>"
   ]
  },
  {
   "cell_type": "code",
   "execution_count": null,
   "metadata": {},
   "outputs": [],
   "source": [
    "A=Gn.adjacency_matrix()     #matriz de adyacencia de Gn\n",
    "show(A)"
   ]
  },
  {
   "cell_type": "markdown",
   "metadata": {},
   "source": [
    "<p>La lista de vértices, la lista de aristas, los grados de los vértices del grafo, etc.</p>"
   ]
  },
  {
   "cell_type": "code",
   "execution_count": null,
   "metadata": {},
   "outputs": [],
   "source": [
    "Gn.vertices() #lista de vértices del grafo Gn"
   ]
  },
  {
   "cell_type": "code",
   "execution_count": null,
   "metadata": {},
   "outputs": [],
   "source": [
    "Gn.edges() #lista de aristas del grafo Gn"
   ]
  },
  {
   "cell_type": "code",
   "execution_count": null,
   "metadata": {},
   "outputs": [],
   "source": [
    "Gn.edges(labels=False)"
   ]
  },
  {
   "cell_type": "code",
   "execution_count": null,
   "metadata": {},
   "outputs": [],
   "source": [
    "Gn.degree() #lista de grados del grafo Gn"
   ]
  },
  {
   "cell_type": "code",
   "execution_count": null,
   "metadata": {},
   "outputs": [],
   "source": [
    "Gn.degree(labels=True) #lista de grados del grafo Gn"
   ]
  },
  {
   "cell_type": "code",
   "execution_count": null,
   "metadata": {},
   "outputs": [],
   "source": [
    "Gn.degree('x1')  #grado del vértice x1 en el grafo Gn"
   ]
  },
  {
   "cell_type": "markdown",
   "metadata": {},
   "source": [
    "<p>Se puede obtener de dos formas distintas el n&uacute;mero de v&eacute;rtices (<em>orden del grafo</em>) y n&uacute;mero de aristas (<em>tama&ntilde;o del grafo</em>) de un grafo.</p>\n",
    "<p>En la siguiente orden utilizamos el comando <strong>print</strong> para poder producir varias salidas en una misma celda. Si se utiliza una versión sobre Python 3, como Sagemath versión 9.1 o posterior, el argumento de estar orden ha de ir entre paréntesis. </p>"
   ]
  },
  {
   "cell_type": "code",
   "execution_count": null,
   "metadata": {},
   "outputs": [],
   "source": [
    "print(Gn.order())\n",
    "print(Gn.num_verts())\n",
    "print(Gn.size())\n",
    "print(Gn.num_edges())   #número de aristas de Gn"
   ]
  },
  {
   "cell_type": "code",
   "execution_count": null,
   "metadata": {},
   "outputs": [],
   "source": [
    "Gn.neighbors('x1')   #vértices adyacentes (vecinos) al vértice x1 en Gn (entorno del vértice x1)"
   ]
  },
  {
   "cell_type": "markdown",
   "metadata": {},
   "source": [
    "<p>Igualmente podemos obtener información sobre digrafos:</p>"
   ]
  },
  {
   "cell_type": "code",
   "execution_count": null,
   "metadata": {},
   "outputs": [],
   "source": [
    "DG1.out_degree(labels=True)  #lista de grados de salida del digrafo DG1"
   ]
  },
  {
   "cell_type": "code",
   "execution_count": null,
   "metadata": {},
   "outputs": [],
   "source": [
    "DG1.in_degree('e')    #grado de entrada del vértice 2 en el digrafo DG1"
   ]
  },
  {
   "cell_type": "markdown",
   "metadata": {},
   "source": [
    "<p>Como dijimos anteriormente, para ver una lista de las opciones disponibles podemos escribir \"<span style=\"color: #0000ff;\">(nombre del grafo o digrafo). +  Tab </span>\"</p>"
   ]
  },
  {
   "cell_type": "code",
   "execution_count": null,
   "metadata": {},
   "outputs": [],
   "source": []
  },
  {
   "cell_type": "markdown",
   "metadata": {},
   "source": [
    "<p><strong><strong>EJERCICIO</strong> 5:</strong> Utilizando los métodos y atributos disponibles para grafos, responder a las siguientes preguntas referentes al grafo Gn (para $n=5$) definido anteriormente: ¿Es el grafo Gn un grafo bipartito?, ¿es Gn un grafo plano?, ¿es Gn un grafo regular?</p>"
   ]
  },
  {
   "cell_type": "code",
   "execution_count": null,
   "metadata": {},
   "outputs": [],
   "source": []
  },
  {
   "cell_type": "code",
   "execution_count": null,
   "metadata": {},
   "outputs": [],
   "source": []
  },
  {
   "cell_type": "code",
   "execution_count": null,
   "metadata": {},
   "outputs": [],
   "source": []
  },
  {
   "cell_type": "markdown",
   "metadata": {},
   "source": [
    "<p><strong>EJERCICIO 6</strong>: En Sage, el grafo <em>graphs.CirculantGraph(n,k) </em>es el grafo cuyos v&eacute;rtices son $V=\\{0,1,\\dots,n-1\\}$ y cada v&eacute;rtice $i$ es adyacente a $(i+k)\\, \\textstyle{mod}\\, n$, para $k=1,\\dots,n-1$ &iquest;Para qu&eacute; valores de $k$ es bipartito el grafo circulante de $10$ v&eacute;rtices?</p>"
   ]
  },
  {
   "cell_type": "code",
   "execution_count": null,
   "metadata": {},
   "outputs": [],
   "source": []
  },
  {
   "cell_type": "markdown",
   "metadata": {},
   "source": [
    "<h2><a name=\"operagrafo\"></a>4. Operaciones con grafos:</h2>\n",
    "<p>Algunas de las operaciones que podemos hacer con un grafo son la eliminación de vértices y aristas:</p>"
   ]
  },
  {
   "cell_type": "code",
   "execution_count": null,
   "metadata": {},
   "outputs": [],
   "source": [
    "K6=graphs.CompleteGraph(6)\n",
    "K6.plot(figsize=3)"
   ]
  },
  {
   "cell_type": "markdown",
   "metadata": {},
   "source": [
    "<p>Por ejemplo, veamos como al eliminar un vértice del grafo completo $K_6$ obtenemos el grafo $K_5$ (o uno isomorfo a él).</p>"
   ]
  },
  {
   "cell_type": "code",
   "execution_count": null,
   "metadata": {},
   "outputs": [],
   "source": [
    "G5=copy(K6) #Hacemos una copia para preservar K6 intacto\n",
    "G5.delete_vertex(4)\n",
    "G5.plot(figsize=3)"
   ]
  },
  {
   "cell_type": "code",
   "execution_count": null,
   "metadata": {},
   "outputs": [],
   "source": [
    "G5.is_isomorphic(graphs.CompleteGraph(5))"
   ]
  },
  {
   "cell_type": "code",
   "execution_count": null,
   "metadata": {},
   "outputs": [],
   "source": [
    "G5.delete_edge(3,5)\n",
    "G5.plot(figsize=3)"
   ]
  },
  {
   "cell_type": "markdown",
   "metadata": {},
   "source": [
    "<p><strong><strong>EJERCICIO</strong> 7:</strong> El grafo anterior contiene ciclos. Eliminando aristas convertirlo en un grafo acíclico (sin ciclos) y representarlo en niveles.</p>"
   ]
  },
  {
   "cell_type": "code",
   "execution_count": null,
   "metadata": {},
   "outputs": [],
   "source": []
  },
  {
   "cell_type": "markdown",
   "metadata": {},
   "source": [
    "<p>También podemos manejar el complementario de un grafo. A continuación se muestra que el grafo ciclo $C_5$ es autocomplementario.</p>"
   ]
  },
  {
   "cell_type": "code",
   "execution_count": null,
   "metadata": {},
   "outputs": [],
   "source": [
    "C5=graphs.CycleGraph(5)\n",
    "C5compl=C5.complement()\n",
    "C5.plot(figsize=3);C5compl.plot(figsize=3)"
   ]
  },
  {
   "cell_type": "code",
   "execution_count": null,
   "metadata": {},
   "outputs": [],
   "source": [
    "C5compl.is_isomorphic(C5)"
   ]
  },
  {
   "cell_type": "markdown",
   "metadata": {},
   "source": [
    "<p>Los grafos siguientes son isomorfos.</p>"
   ]
  },
  {
   "cell_type": "code",
   "execution_count": null,
   "metadata": {},
   "outputs": [],
   "source": [
    "G6=Graph({0:[1,4,5,6],1:[0,2,6,8,9],2:[1,5,6],3:[4,6,9],4:[0,3,8],5:[0,2,7,9],6:[0,1,2,3,8],7:[5],8:[1,4,6],9:[1,3,5]})\n",
    "G7=Graph({0:[2,3,4,5,8],1:[2,3,6,9],2:[0,1,4],3:[0,1,4,7],4:[0,2,3,5,6],5:[0,4,7],6:[1,4,8],7:[3,5,8],8:[0,6,7],9:[1]})\n",
    "G6.show(figsize=3);G7.show(figsize=3)"
   ]
  },
  {
   "cell_type": "code",
   "execution_count": null,
   "metadata": {},
   "outputs": [],
   "source": [
    "G6.is_isomorphic(G7)"
   ]
  },
  {
   "cell_type": "markdown",
   "metadata": {},
   "source": [
    "<p>Sus complementarios también lo son.</p>"
   ]
  },
  {
   "cell_type": "code",
   "execution_count": null,
   "metadata": {},
   "outputs": [],
   "source": [
    "G6compl=G6.complement()\n",
    "G7compl=G7.complement()\n",
    "G7compl.is_isomorphic(G6compl)"
   ]
  },
  {
   "cell_type": "markdown",
   "metadata": {},
   "source": [
    "<p>Se pone de manifiesto la propiedad estudiada en clase: \"<strong>Dos grafos son isomorfos si, y sólo si, lo son sus complementarios</strong>\".</p>\n",
    "<p><strong>EJERCICIO 8</strong>: Comprobar la propiedad anterior con los grafos siguientes:</p>\n",
    "<p><img src=\"grafo1.png\" alt=\"\" width=\"211\" height=\"211\" /><img src=\"grafo2.png\" alt=\"\" width=\"211\" height=\"211\" /></p>"
   ]
  },
  {
   "cell_type": "code",
   "execution_count": null,
   "metadata": {},
   "outputs": [],
   "source": [
    "Gr1=Graph({'a':['b','c','e','g','h'],'b':['c','d','f','h'],'c':['d','e','g'],'d':['e','f','h'],'e':['f','g'],'f':['g','h'],'g':['h']})\n",
    "Gr2=Graph({1:[2,4,5,6,8],2:[3,5,6,7],3:[4,6,7,8],4:[5,7,8],5:[6,8],6:[7],7:[8] })"
   ]
  },
  {
   "cell_type": "code",
   "execution_count": null,
   "metadata": {},
   "outputs": [],
   "source": []
  },
  {
   "cell_type": "markdown",
   "metadata": {},
   "source": [
    "<p> </p>\n",
    "<p>También podemos obtener el subgrafo inducido por un conjunto de vértices. Por ejemplo, en la siguiente orden obtenemos un grafo aleatorio de 10 vértices y 20 aristas y el subgrafo inducido por sus cinco primeros vértices.</p>"
   ]
  },
  {
   "cell_type": "code",
   "execution_count": null,
   "metadata": {},
   "outputs": [],
   "source": [
    "G8=graphs.RandomGNM(10,20)\n",
    "vert=[0,1,2,3,4]\n",
    "subgrafo=G8.subgraph(vert)"
   ]
  },
  {
   "cell_type": "code",
   "execution_count": null,
   "metadata": {},
   "outputs": [],
   "source": [
    "G8.plot(layout='circular',figsize=4)"
   ]
  },
  {
   "cell_type": "code",
   "execution_count": null,
   "metadata": {},
   "outputs": [],
   "source": [
    "subgrafo.plot(layout='circular',figsize=4)"
   ]
  },
  {
   "cell_type": "markdown",
   "metadata": {},
   "source": [
    "<p>&nbsp;</p>\n",
    "<p>Tambi&eacute;n podemos obtener la uni&oacute;n de grafos \"disjuntos\". Esto en Sage se puede hacer de dos formas distintas:</p>\n",
    "<p>1) <strong>Grafo1 + Grafo2</strong> obtiene la uni&oacute;n de los dos grafos, renumerando los v&eacute;rtices del grafo <em>Grafo2</em>.</p>\n",
    "<p>2) <strong>Grafo1.disjoint_union(Grafo2)</strong> obtiene un grafo isomorfo al anterior, pero los v&eacute;rtices son ahora pares ordenados.</p>"
   ]
  },
  {
   "cell_type": "code",
   "execution_count": null,
   "metadata": {},
   "outputs": [],
   "source": [
    "G9a=graphs.CompleteGraph(2)\n",
    "G9b=graphs.CompleteGraph(3)\n",
    "union1=G9a+G9b\n",
    "union1.plot(figsize=4)"
   ]
  },
  {
   "cell_type": "code",
   "execution_count": null,
   "metadata": {},
   "outputs": [],
   "source": [
    "union2=G9a.disjoint_union(G9b)\n",
    "union2.plot(figsize=5)"
   ]
  },
  {
   "cell_type": "markdown",
   "metadata": {},
   "source": [
    "<p>&nbsp;</p>\n",
    "<p>La suma de grafos se obtiene con la orden <strong>Grafo1.join(Grafo2)</strong> y los v&eacute;rtices son tambi&eacute;n nombrados como pares ordenados, tal como ocurr&iacute;a con la orden disjoint_union.</p>"
   ]
  },
  {
   "cell_type": "code",
   "execution_count": null,
   "metadata": {},
   "outputs": [],
   "source": [
    "suma=G9a.join(G9b)\n",
    "suma.plot(figsize=5)"
   ]
  },
  {
   "cell_type": "markdown",
   "metadata": {},
   "source": [
    "<p><strong>EJERCICIO 9</strong>: Obtener dos grafos aleatorios de 10 vértices y 25 aristas y comprobar que la unión y la suma de ambos no son el mismo grafo (no son isomorfos).</p>"
   ]
  },
  {
   "cell_type": "code",
   "execution_count": null,
   "metadata": {},
   "outputs": [],
   "source": []
  },
  {
   "cell_type": "markdown",
   "metadata": {},
   "source": [
    "<h1><a name=\"cuestiones\"></a><strong>Otros ejercicios propuestos<br /></strong></h1>\n",
    "<p><strong>EJERCICIO 10.</strong> Para distintos valores de $n$, obtener el grafo de línea del ciclo $C_n$ y probar que es isomorfo al propio $C_n$.</p>"
   ]
  },
  {
   "cell_type": "code",
   "execution_count": null,
   "metadata": {},
   "outputs": [],
   "source": []
  },
  {
   "cell_type": "markdown",
   "metadata": {},
   "source": [
    "<p><strong>EJERCICIO 11.</strong> Se define el grafo $H_n$, para cada $n\\ge 2$, como el grafo de $2n$ vértices $V=\\{0,1,2,\\dots,2n-1\\}$ y en el que cada vértice $i$ es adyacente al vértice $(i+1) \\,\\,mod \\,\\, 2n$ y al vértice $(i+n)\\,\\, mod \\,\\,2n$.</p>\n",
    "<p>Realizando cálculos para distintos valores de $n$, responder a las siguientes cuestiones:</p>\n",
    "<p>a) Obtener la lista de grados de $H_n$. ¿Cuántas aristas tiene $H_n$?</p>\n",
    "<p>b) ¿Para qué valores de $n$ es $H_n$ un grafo bipartito?</p>\n",
    "<p>NOTA: En -SAGE la función \"<em>mod(b,a)</em>\" devuelve el resto de dividir <em>b</em> entre <em>a</em>.</p>"
   ]
  },
  {
   "cell_type": "code",
   "execution_count": null,
   "metadata": {},
   "outputs": [],
   "source": []
  },
  {
   "cell_type": "markdown",
   "metadata": {},
   "source": [
    "<p><strong>EJERCICIO 12. </strong>Comprobar cuál(es) de las siguientes afirmaciones son vérdaderas y cuál(es) falsas (ejercicio número 7 del boletín):</p>\n",
    "<p>a) Al sumar los grafos bipartitos completos $K_{1,m}$ y $K_{1,n}$ se obiene el grafo bipartito completo $K_{m+1,n+1}$</p>\n",
    "<p>b) El complementario del grafo bipartito completo $K_{m,n}$ contiene tanto al grafo completo $K_n$ como al grafo completo $K_m$</p>\n",
    "<p>c) Al sumar los complementarios de los grafos completos $K_m$ y $K_n$ se obtiene el grafo bipartito completo $K_{m,n}$</p>\n",
    "<p>d) La suma de los grafos completos $K_m$ y $K_n$ es el grafo completo $K_{m+n}$</p>\n",
    "<p>NOTAS:</p>\n",
    "<p>1) Comprueba la falsedad o veracidad dando diferentes valores a $m$ y $n$.</p>\n",
    "<p>2) La función \"<em>grafo1.is_subgraph(grafo2)</em>\" no funciona del todo correctamente, por eso se recomienda utilizar la función \"<em>grafo1.subgraph_search_count(grafo2)</em>\" que nos indica el número de veces que aparece el grafo \"<em>grafo1</em>\" como subgrafo de \"<em>grafo2</em>\".</p>"
   ]
  },
  {
   "cell_type": "code",
   "execution_count": null,
   "metadata": {},
   "outputs": [],
   "source": []
  },
  {
   "cell_type": "code",
   "execution_count": null,
   "metadata": {},
   "outputs": [],
   "source": []
  },
  {
   "cell_type": "code",
   "execution_count": null,
   "metadata": {},
   "outputs": [],
   "source": []
  },
  {
   "cell_type": "code",
   "execution_count": null,
   "metadata": {},
   "outputs": [],
   "source": []
  },
  {
   "cell_type": "markdown",
   "metadata": {},
   "source": [
    "<p><strong>EJERCICIO 13</strong>: En Sage el grafo \"<em>graphs.CirculantGraph($n$,[$k_1,k_2,\\dots$])</em>\" es el grafo <em>circulante</em> cuyo conjunto de vértices es $V=\\{0,1,\\dots,n-1\\}$ y cada vértice $i$ es adyacente a los vértices $(i+k_1), (i+k_2),\\dots \\,\\, \\displaystyle{mod}\\,\\, n$.</p>\n",
    "<p>Estudiar para qué valores $k$ es plano el grafo circulante \"<em>graphs.CirculantGraph(10,[1,k])</em>\".</p>"
   ]
  },
  {
   "cell_type": "code",
   "execution_count": null,
   "metadata": {},
   "outputs": [],
   "source": []
  },
  {
   "cell_type": "code",
   "execution_count": null,
   "metadata": {},
   "outputs": [],
   "source": []
  },
  {
   "cell_type": "code",
   "execution_count": null,
   "metadata": {},
   "outputs": [],
   "source": []
  },
  {
   "cell_type": "code",
   "execution_count": null,
   "metadata": {},
   "outputs": [],
   "source": []
  }
 ],
 "metadata": {
  "kernelspec": {
   "display_name": "SageMath 9.1",
   "language": "sage",
   "name": "sagemath"
  },
  "language": "python",
  "language_info": {
   "codemirror_mode": {
    "name": "ipython",
    "version": 3
   },
   "file_extension": ".py",
   "mimetype": "text/x-python",
   "name": "python",
   "nbconvert_exporter": "python",
   "pygments_lexer": "ipython3",
   "version": "3.7.3"
  }
 },
 "nbformat": 4,
 "nbformat_minor": 2
}
