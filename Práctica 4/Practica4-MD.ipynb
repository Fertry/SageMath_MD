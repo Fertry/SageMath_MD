{
 "cells": [
  {
   "cell_type": "markdown",
   "metadata": {},
   "source": [
    "<h3 style=\"text-align: center;\"><strong>ESCUELA DE INGENIERÍA INFORMÁTICA - UNIVERSIDAD DE SEVILLA</strong></h3>\n",
    "<h3 style=\"text-align: center;\"><strong>GRADO EN INGENIERÍA INFORMÁTICA-TECNOLOGÍAS INFORMÁTICAS</strong></h3>\n",
    "<h1 style=\"font-size: 1em; text-align: center;\"><strong>MATEMÁTICA DISCRETA<br /></strong></h1>\n",
    "<h2 style=\"font-size: 1.17em; text-align: center;\"><strong>Práctica 4. Árboles.<br /></strong></h2>\n",
    "<p>Esta práctica la dividiremos en los siguiente apartados:</p>\n",
    "<p> 1. <a href=\"#trasteando\">Trasteando con árboles</a>.</p>\n",
    "<p> 2. <a href=\"#dfs\">El árbol DFS y los vértices de corte</a>.</p>\n",
    "<p> 1. <a href=\"#bfs\">El árbol BFS y su uso para resolver laberintos</a>.</p>\n",
    "<p> 1. <a href=\"#ponderados\">Árboles de peso y camino mínimo</a>.</p>\n",
    "<p> </p>\n",
    "<p>Al final de la práctica hay una  <a href=\"#cuestiones\">colección de otros ejercicios propuestos.</a></p>\n",
    "<p> </p>\n",
    "<h2><a name=\"trasteando\"></a><strong>1. Trasteando con árboles.</strong></h2>\n",
    "<p>En esta primera parte trabajaremos con algunas propiedades básicas de los árboles.</p>\n",
    "<p>Sage nos puede decir, con el método <em>G.is_tree</em>, si un grafo es o no un árbol.</p>"
   ]
  },
  {
   "cell_type": "code",
   "execution_count": null,
   "metadata": {},
   "outputs": [],
   "source": [
    "G=Graph({0:[1,2], 1:[0,3],2:[1,3,4],3:[5,6],4:[1,0],5:[6],6:[5]})\n",
    "G.plot(figsize=3)"
   ]
  },
  {
   "cell_type": "code",
   "execution_count": null,
   "metadata": {},
   "outputs": [],
   "source": [
    "G.is_tree()"
   ]
  },
  {
   "cell_type": "code",
   "execution_count": null,
   "metadata": {},
   "outputs": [],
   "source": [
    "T = Graph ({\"v\" :[ \"a\" ,\"w\" ] , \"w\" :[ \"x\" ,\"y\" ] ,\"x\" :[ \"b\" ,\"c\" ] , \"y\" :[ \"d\" ,\"z\" ] ,\"z\" :[ \"e\" ,\"f\" ]})\n",
    "T.plot(figsize=3)"
   ]
  },
  {
   "cell_type": "code",
   "execution_count": null,
   "metadata": {},
   "outputs": [],
   "source": [
    "T.is_tree()"
   ]
  },
  {
   "cell_type": "markdown",
   "metadata": {},
   "source": [
    "<p>Este último es un árbol y lo podemos representar como árbol enraizado.</p>"
   ]
  },
  {
   "cell_type": "code",
   "execution_count": null,
   "metadata": {},
   "outputs": [],
   "source": [
    "T.plot(figsize=3,layout='tree',tree_root='a')"
   ]
  },
  {
   "cell_type": "markdown",
   "metadata": {},
   "source": [
    "<p>Recordemos que, según el teorema de caracterización, un árbol es un grafo que verifiqua alguna de las condiciones siguientes:</p>\n",
    "<ul>\n",
    "<li>Es conexo y no tiene ciclos.</li>\n",
    "<li>Existe un único camino simple entre cualesquiera dos vértices.</li>\n",
    "<li>Es conexo y al eliminar una cualquiera de sus aristas se obtiene un bosque de dos árboles.</li>\n",
    "<li>Es conexo y tiene una arista menos que vértices.</li>\n",
    "<li>Es acíclico (no tiene ciclos) y tiene una arista menos que vértices.</li>\n",
    "</ul>\n",
    "<p> </p>\n",
    "<p>Comprobemos estas propiedades en el árbol $T$.</p>\n",
    "<p>En primer lugar veremos que es conexo y no tiene ciclos, para esto último utilizamos el método <em>G.cycle_basis</em> que nos da una lista de ciclos del grafo.</p>"
   ]
  },
  {
   "cell_type": "code",
   "execution_count": null,
   "metadata": {},
   "outputs": [],
   "source": [
    "print(\"T es conexo? \",T.is_connected())\n",
    "print(\"Ciclos del grafo\",T.cycle_basis())"
   ]
  },
  {
   "cell_type": "markdown",
   "metadata": {},
   "source": [
    "<p>Se puede comprobar que sólo existe un camino entre dos vértices cualesquiera, usando la orden <em>G.all_paths</em>, que nos muestra todos los caminos entre dos vértices. Lo vemos para una pareja de vértices.</p>"
   ]
  },
  {
   "cell_type": "code",
   "execution_count": null,
   "metadata": {},
   "outputs": [],
   "source": [
    "T.all_paths('a','d')"
   ]
  },
  {
   "cell_type": "markdown",
   "metadata": {},
   "source": [
    "<p>Eliminamos una arista y comprobemos que resulta un grafo bosque (con el método <em>grafo.is_forest</em>) con dos árboles.</p>"
   ]
  },
  {
   "cell_type": "code",
   "execution_count": null,
   "metadata": {},
   "outputs": [],
   "source": [
    "H=copy(T)\n",
    "H.delete_edge('w','y')\n",
    "H.is_forest()"
   ]
  },
  {
   "cell_type": "code",
   "execution_count": null,
   "metadata": {},
   "outputs": [],
   "source": [
    "H.connected_components_number()"
   ]
  },
  {
   "cell_type": "markdown",
   "metadata": {},
   "source": [
    "<p>Por último, vemos que tiene un vértice más que aristas. Para ello usamos los métodos <em>G.order</em>, que nos da el número de vértices, y <em>G.size,</em> que nos da el número de aristas.</p>"
   ]
  },
  {
   "cell_type": "code",
   "execution_count": null,
   "metadata": {},
   "outputs": [],
   "source": [
    "T.order()==T.size()+1"
   ]
  },
  {
   "cell_type": "markdown",
   "metadata": {},
   "source": [
    "<p>Si tenemos un grafo G, conexo y con ciclos, podemos convertirlo en árbol eliminando aristas de los ciclos. Para ello jugamos con las funciones \"<em>delete_edge</em>\" y \"<em>cycle_basis</em>\".</p>"
   ]
  },
  {
   "cell_type": "code",
   "execution_count": null,
   "metadata": {},
   "outputs": [],
   "source": [
    "H=copy(G)\n",
    "print(H.is_connected())\n",
    "H.cycle_basis()"
   ]
  },
  {
   "cell_type": "code",
   "execution_count": null,
   "metadata": {},
   "outputs": [],
   "source": [
    "H.delete_edge(1,4)\n",
    "print(\"H es árbol? \",H.is_tree())\n",
    "H.cycle_basis()"
   ]
  },
  {
   "cell_type": "code",
   "execution_count": null,
   "metadata": {},
   "outputs": [],
   "source": [
    "H.delete_edge(2,4)\n",
    "print(\"H es árbol? \",H.is_tree())\n",
    "H.cycle_basis()"
   ]
  },
  {
   "cell_type": "code",
   "execution_count": null,
   "metadata": {},
   "outputs": [],
   "source": [
    "H.delete_edge(1,2)\n",
    "print(\"H es árbol? \",H.is_tree())\n",
    "H.cycle_basis()"
   ]
  },
  {
   "cell_type": "code",
   "execution_count": null,
   "metadata": {},
   "outputs": [],
   "source": [
    "H.delete_edge(1,3)\n",
    "print(\"H es árbol? \",H.is_tree())\n",
    "H.cycle_basis()"
   ]
  },
  {
   "cell_type": "code",
   "execution_count": null,
   "metadata": {},
   "outputs": [],
   "source": [
    "H.delete_edge(5,6)\n",
    "print(\"H es árbol? \",H.is_tree())\n",
    "H.cycle_basis()"
   ]
  },
  {
   "cell_type": "markdown",
   "metadata": {},
   "source": [
    "<p>Las instrucciones anteriores las podríamos meter en un ciclo, utilizando la orden \"<strong>while</strong>\".</p>"
   ]
  },
  {
   "cell_type": "code",
   "execution_count": null,
   "metadata": {},
   "outputs": [],
   "source": [
    "H=copy(G)\n",
    "if H.is_connected():\n",
    "    while not H.is_tree():\n",
    "        ciclo=H.cycle_basis()[0]   #Almacenamos en la variable \"ciclo\" el primer ciclo de la lista\n",
    "        H.delete_edge(ciclo[0],ciclo[1])   #Eliminamos la arista que une a los dos primeros vértices\n",
    "    print(\"Eliminando aristas de G hemos obtenido el árbol H:\")\n",
    "    H.show(layout='tree',figsize=3)\n",
    "else:\n",
    "    print(\"Lo siento, el grafo no es conexo.\")"
   ]
  },
  {
   "cell_type": "markdown",
   "metadata": {},
   "source": [
    "<p>El grafo obtenido es un <strong>árbol recubridor</strong> del grafo $G$.</p>"
   ]
  },
  {
   "cell_type": "code",
   "execution_count": null,
   "metadata": {},
   "outputs": [],
   "source": []
  },
  {
   "cell_type": "markdown",
   "metadata": {},
   "source": [
    "<p><strong>EJERCICIO 1</strong>: El grafo siguiente no es un árbol. ¿Cuántas aristas habrá que suprimir para obtener un árbol recubridor del grafo?, ¿cuales son estas aristas?</p>"
   ]
  },
  {
   "cell_type": "code",
   "execution_count": null,
   "metadata": {},
   "outputs": [],
   "source": [
    "Gr = Graph({0:[1,2,3,6,8,14,17],1:[0,4],2:[0,10,14],3:[0,5,9,16],4:[1,11,13],5:[3,7],6:[0,7,13],7:[5,6,11],8:[0,11],9:[3,12,15],10:[2,15],11:[4,7,8,14],12:[9,14],13:[4,6],14:[0,2,11,12],15:[9,10],16:[3],17:[0]})"
   ]
  },
  {
   "cell_type": "code",
   "execution_count": null,
   "metadata": {},
   "outputs": [],
   "source": []
  },
  {
   "cell_type": "markdown",
   "metadata": {},
   "source": [
    "<p>Las instrucciones anteriores las podríamos meter en un ciclo, utilizando la orden \"<strong>while</strong>\".  Incluso,  podemos definir la función de usuario \"<strong>arbol_recubridor(grafo)</strong>\" que recibe un grafo y nos devuelve un árbol recubridor de dicho grafo, como vemos a continuación:</p>"
   ]
  },
  {
   "cell_type": "code",
   "execution_count": null,
   "metadata": {},
   "outputs": [],
   "source": [
    "def arbol_recubridor(grafo):\n",
    "    '''\n",
    "    Recibe un grafo y si es conexo devuelve un árbol recubridor obtenido \n",
    "    eliminando aristas de ciclos. Si no es conexo devuelve un grafo vacío.\n",
    "    '''\n",
    "    if grafo.is_connected():\n",
    "        while not grafo.is_tree():\n",
    "            ciclo=grafo.cycle_basis()[0]  #Almacenamos en la variable \"ciclo\" el primer ciclo de la lista\n",
    "            grafo.delete_edge(ciclo[0],ciclo[1])   #Eliminamos la arista que une a los dos primeros vértices\n",
    "        print(\"Eliminando aristas de G hemos obtenido el árbol H:\")\n",
    "        return grafo\n",
    "    else:\n",
    "        print(\"Lo siento, el grafo no es conexo.\")\n",
    "        return Graph()"
   ]
  },
  {
   "cell_type": "markdown",
   "metadata": {},
   "source": [
    "<p>Aplicando esta función podemos obtener un árbol recubridor del grafo Gr:</p>"
   ]
  },
  {
   "cell_type": "code",
   "execution_count": null,
   "metadata": {},
   "outputs": [],
   "source": [
    "TGr=arbol_recubridor(Gr)\n",
    "TGr.plot(figsize=4,layout='tree')"
   ]
  },
  {
   "cell_type": "code",
   "execution_count": null,
   "metadata": {},
   "outputs": [],
   "source": []
  },
  {
   "cell_type": "markdown",
   "metadata": {},
   "source": [
    "<p>Si el grafo que tenemos no es conexo, obteniendo el árbol recubridor de cada componente conexa, tendremos el <strong>bosque recubridor</strong> del grafo no conexo.</p>"
   ]
  },
  {
   "cell_type": "markdown",
   "metadata": {},
   "source": [
    "<p>Recuerda que la instrucci&oacute;n <strong>G.connected_components_subgraphs()</strong> nos daba los grafos correspondientes a las componentes conexas de un grafo G, sea conexo o no. As&iacute; por ejemplo si el grafo G tiene 4 componente conexas, &eacute;stas se almacenan en los grafos G1, G2, G3 y G4 con la siguiente instruci&oacute;n:</p>\n",
    "<p style=\"text-align: center;\"><strong>[G1,G2,G3,G4]=G.connected_components_subgraphs()</strong></p>"
   ]
  },
  {
   "cell_type": "code",
   "execution_count": null,
   "metadata": {},
   "outputs": [],
   "source": []
  },
  {
   "cell_type": "markdown",
   "metadata": {},
   "source": [
    "<p><strong>EJERCICIO 2</strong>: Obtener el bosque recubridor del siguiente grafo:</p>"
   ]
  },
  {
   "cell_type": "code",
   "execution_count": null,
   "metadata": {},
   "outputs": [],
   "source": [
    "Gr = Graph({0:[13,10,11],1:[6,3,5],2:[8,4,14],3:[1,5,6],4:[12,9,2,15],5:[3,6,1],6:[1,5,3],7:[13,11],8:[9,2,12],9:[4,8,12],10:[13,11,0],11:[7,10,0],12:[4,8,14,9],13:[10,7,0],14:[15,12,2],15:[4,14]})"
   ]
  },
  {
   "cell_type": "code",
   "execution_count": null,
   "metadata": {},
   "outputs": [],
   "source": []
  },
  {
   "cell_type": "code",
   "execution_count": null,
   "metadata": {},
   "outputs": [],
   "source": []
  },
  {
   "cell_type": "markdown",
   "metadata": {},
   "source": [
    "<h2><a name=\"dfs\"></a><strong>2. El árbol recubridor DFS y los vértices de corte.</strong></h2>\n",
    "<p>Pretendemos en este apartado ver una aplicación del árbol recubridor de búsqueda en profundidad (DFS) al estudio de los vértices de corte de un grafo simple.</p>\n",
    "<p>Con las siguientes instrucciones hemos definido la función \"<strong>arbol_dfs(digrafo,vertice)</strong>\"  que recibe un grafo dirigido y un vértice y nos devuelve el árbol recubridor de busqueda en profundidad (DFS) de \"<em>digrafo</em>\" con raíz en \"<em>vertice</em>\" y la lista ordenada de vértices según han sido visitados.</p>\n",
    "<p>Para poder usarla con grafos simples hemos de convertirlo previamenta a digrafo, con la orden \"<em>digrafo.to_directed()</em>\".</p>"
   ]
  },
  {
   "cell_type": "code",
   "execution_count": null,
   "metadata": {},
   "outputs": [],
   "source": [
    "def arbol_dfs(digrafo,vertice=0):\n",
    "    \n",
    "    '''(T,l)=arbol_dfs(digrafo,vertice) devuelve el árbol dfs del \"digrafo\" con raíz en \"vertice\"\n",
    "       y la lista ordenada de vértices visitados   '''\n",
    "\n",
    "    if not digrafo.has_vertex(vertice):\n",
    "        vertice=digrafo.vertices()[0]  \n",
    "          \n",
    "    visitado=[False for i in range(digrafo.order())]\n",
    "    vertices_dfs=[]\n",
    "    aristas_dfs=[]\n",
    "    pila=[]\n",
    "    \n",
    "    vertices_dfs.append(vertice)\n",
    "    pila.append(vertice)\n",
    "    indice=digrafo.vertices().index(vertice)\n",
    "    visitado[indice]=True\n",
    "    while len(pila)>0:\n",
    "        x=pila[-1]\n",
    "        todos_ady=True\n",
    "        for i in sorted(digrafo.neighbors_out(x)):\n",
    "            indice=digrafo.vertices().index(i)\n",
    "            if not visitado[indice]:\n",
    "                todos_ady=False\n",
    "                y=i\n",
    "                break\n",
    "        if not todos_ady:\n",
    "            pila.append(y)\n",
    "            indice=digrafo.vertices().index(y)\n",
    "            visitado[indice]=True\n",
    "            vertices_dfs.append(y)\n",
    "            aristas_dfs.append((x,y))\n",
    "        else:\n",
    "            pila.remove(x)\n",
    "    \n",
    "    arboldfs=DiGraph()\n",
    "    arboldfs.add_vertices(vertices_dfs)\n",
    "    arboldfs.add_edges(aristas_dfs)  \n",
    "    return (arboldfs,vertices_dfs)"
   ]
  },
  {
   "cell_type": "code",
   "execution_count": null,
   "metadata": {},
   "outputs": [],
   "source": [
    "G=Graph({0:[1,2], 1:[0,3],2:[1,3,4],3:[5,6],4:[1,0],5:[6],6:[5]})\n",
    "G.plot(figsize=3)"
   ]
  },
  {
   "cell_type": "code",
   "execution_count": null,
   "metadata": {},
   "outputs": [],
   "source": [
    "H=G.to_directed()\n",
    "(T,lista)=arbol_dfs(H,3)\n",
    "print(\"Orden de los vértices: \",lista)\n",
    "T.plot(figsize=4,layout='tree')"
   ]
  },
  {
   "cell_type": "markdown",
   "metadata": {},
   "source": [
    "<p>La siguiente propiedad relaciona el árbol DFS de un grafo con sus vértices de corte:</p>\n",
    "<p style=\"text-align: left;\"><em>Un vértice $v\\in V(G)$ es vértice de corte en un grafo $G$ si, y sólo si, al realizar el árbol de búsqueda en profundidad con raíz en v, éste tiene en dicho árbol valencia mayor que 1.</em></p>"
   ]
  },
  {
   "cell_type": "code",
   "execution_count": null,
   "metadata": {},
   "outputs": [],
   "source": [
    "(T,lista)=arbol_dfs(H,0)\n",
    "T.out_degree(0)"
   ]
  },
  {
   "cell_type": "code",
   "execution_count": null,
   "metadata": {},
   "outputs": [],
   "source": [
    "(T,lista)=arbol_dfs(H,3)\n",
    "T.out_degree(3)"
   ]
  },
  {
   "cell_type": "code",
   "execution_count": null,
   "metadata": {},
   "outputs": [],
   "source": []
  },
  {
   "cell_type": "markdown",
   "metadata": {},
   "source": [
    "<p><strong>EJERCICIO 3</strong>:  Utilizando la propiedad anterior, obtener los vértices de corte del grafo siguiente, indicando qué valencia tiene cada uno de estos en el árbol DFS con raíz en él.</p>\n",
    "<p>NOTA: Se trata de crear un ciclo, para todos los vértices, que calcule el árbol dfs correspondiente y verifique si el vértice tiene en el árbol valencia mayor que 1.</p>"
   ]
  },
  {
   "cell_type": "code",
   "execution_count": null,
   "metadata": {},
   "outputs": [],
   "source": [
    "Gr= Graph({0:[1],1:[0,2,6,11,12,15,17],2:[1,3,9,10,13,16],3:[2,4,9],4:[3,5,16],5:[4,12,16,17],6:[1,7,8],7:[6,10,14],8:[6,10,15],9:[2,3,16],10:[2,7,8],11:[1],12:[1,5,16],13:[2],14:[7],15:[1,8],16:[2,4,5,9,12],17:[1,5]})\n",
    "Gr.plot(figsize=3)"
   ]
  },
  {
   "cell_type": "code",
   "execution_count": null,
   "metadata": {},
   "outputs": [],
   "source": []
  },
  {
   "cell_type": "code",
   "execution_count": null,
   "metadata": {},
   "outputs": [],
   "source": []
  },
  {
   "cell_type": "markdown",
   "metadata": {},
   "source": [
    "<h2><a name=\"bfs\"></a><strong>3. Usando el árbol BFS para resolver laberintos.<br /></strong></h2>\n",
    "<p>La siguiente función \"<strong>arbol_bfs(digrafo,vertice)</strong>\"  recibe un grafo dirigido y un vértice y nos devuelve el árbol recubridor de busqueda en anchura (BFS) de \"<em>digrafo</em>\" con raíz en \"<em>vertice</em>\" y la lista ordenada de vértices según han sido visitados.</p>\n",
    "<p>Para poder usarla con grafos simples hemos de convertirlo previamenta a digrafo, con la orden \"<em>digrafo.to_directed()</em>\".</p>"
   ]
  },
  {
   "cell_type": "code",
   "execution_count": null,
   "metadata": {},
   "outputs": [],
   "source": [
    "def arbol_bfs(digrafo,vertice):\n",
    "    '''\n",
    "    (T,l)=arbol_bfs(digrafo,vertice) devuelve el árbol BFS del \"digrafo\" con raíz \n",
    "    en \"vertice\" y la lista ordenada de vértices visitados.   \n",
    "    Si quisieras obtener el bfs de un grafo simple G, antes habrás de convertirlo \n",
    "    en digrafo con la orden G.to_directed()\n",
    "    '''\n",
    "       \n",
    "    visitado=[False for i in range(digrafo.order())]\n",
    "    vertices_bfs=[]\n",
    "    aristas_bfs=[]\n",
    "    cola=[]\n",
    "    \n",
    "    vertices_bfs.append(vertice)\n",
    "    cola.append(vertice)\n",
    "    indice=digrafo.vertices().index(vertice)\n",
    "    visitado[indice]=True\n",
    "    while len(cola)>0:\n",
    "        x=cola[0]\n",
    "        for i in sorted(digrafo.neighbors_out(x)):\n",
    "            indice=digrafo.vertices().index(i)\n",
    "            if not visitado[indice]:\n",
    "                cola.append(i)\n",
    "                visitado[indice]=True\n",
    "                vertices_bfs.append(i)\n",
    "                aristas_bfs.append((x,i))\n",
    "        cola.remove(x)\n",
    "    \n",
    "    arbolbfs=DiGraph()\n",
    "    arbolbfs.add_vertices(vertices_bfs)\n",
    "    arbolbfs.add_edges(aristas_bfs)  \n",
    "    return (arbolbfs,vertices_bfs)"
   ]
  },
  {
   "cell_type": "code",
   "execution_count": null,
   "metadata": {},
   "outputs": [],
   "source": [
    "G=Graph({0:[1,2], 1:[0,3],2:[1,3,4],3:[5,6],4:[1,0],5:[6],6:[5]})\n",
    "G.plot(figsize=3)"
   ]
  },
  {
   "cell_type": "code",
   "execution_count": null,
   "metadata": {},
   "outputs": [],
   "source": [
    "H=G.to_directed()\n",
    "(T,lista)=arbol_bfs(H,1)\n",
    "print(\"Orden de los vértices: \",lista)\n",
    "T.plot(figsize=3,layout='tree')"
   ]
  },
  {
   "cell_type": "code",
   "execution_count": null,
   "metadata": {},
   "outputs": [],
   "source": []
  },
  {
   "cell_type": "markdown",
   "metadata": {},
   "source": [
    "<p>Sabemos que el árbol BFS de un grafo (o digrafo) no ponderado, con raíz en un vértice \"v\" nos permite obtener el camino más corto (con el menor número de aristas) desde el vértice \"v\" a cualquiera de los otros, siendo por tanto la distancia desde el vértice \"v\" a cualquier otro vértice del grafo el número de aristas de dicho camino.</p>\n",
    "<p>Veamos cómo podemos utilizar esta propiedad para obtener la solución más rápida a juegos de laberintos como el consistente en desplazar la pelota roja hasta situarla sobre el cuadro azul.</p>\n",
    "<p><img style=\"display: block; margin-left: auto; margin-right: auto;\" src=\"Laberinto1.jpg\" alt=\"\" width=\"191\" height=\"193\" /></p>\n",
    "<p> Estos laberintos aparecen en la página web <a href=\"http://www.clickmazes.com/newtilt/ixtilt2d.htm\" target=\"_blank\">www.clickmazes.com</a>.</p>\n",
    "<p>Para ello nuestro tablero va a representar un grafo dirigido, donde cada vértice será una posición \"(i,j)\" del tablero y cada arista indica un movimiento posible.</p>\n",
    "<p> </p>\n",
    "<p>Habida cuenta de que los movimientos quedan perfectamente definidos por los obstáculos horizontales y verticales que existen en el interior del tablero, vamos a generar el digrafo de una forma más cómoda, introduciendo en dos listas dichos obstáculos. Estas listas son \"<strong>obs_derecha</strong>\" y \"<strong>obs_abajo</strong>\". Si una celda (i,j) está en la lista \"obs_derecha\" indica que en esa celda hay un obstáculo en su pared derecha y si (i,j) está en la lista \"obs_abajo\" indica que hay un obstáculo en el suelo de dicha celda.</p>\n",
    "<p>Las siguientes líneas definen estas listas para el laberinto de la figura (el primero de los laberintos de la página).</p>"
   ]
  },
  {
   "cell_type": "code",
   "execution_count": null,
   "metadata": {},
   "outputs": [],
   "source": [
    "##Datos correspondientes al primer laberinto \n",
    "n=5  ##Número de filas del tablero\n",
    "m=5  ##Número de columnas del tablero\n",
    "obs_derecha=[(0,2),(2,0),(4,2)]\n",
    "obs_abajo=[(0,1),(1,4),(2,2),(3,1),(3,4)]"
   ]
  },
  {
   "cell_type": "markdown",
   "metadata": {},
   "source": [
    "<p>La siguiente función, \"<strong>digrafo_laberinto(nf,nc,obstver,obsthor)</strong>\", devuelve el digrafo de los movimientos en un laberinto $nf \\times nc$ que tiene los obstáculos en la derecha de las celdas dadas por la lista <em>obstver</em> y en el suelo de las celdas dadas por la lista <em>obsthor</em>.</p>"
   ]
  },
  {
   "cell_type": "code",
   "execution_count": null,
   "metadata": {},
   "outputs": [],
   "source": [
    "def digrafo_laberinto(nf,nc,obstver,obsthor):\n",
    "    ''' \n",
    "    Genera el digrafo correspondiente al movimiento en un laberinto del tipo \"www.clickmazes.com\"\n",
    "    INPUT:\n",
    "    - nf = Número de filas del laberinto\n",
    "    - nc = Número de columnas del laberinto\n",
    "    - obstver = lista de casillas que tienen un obstáculo en su pared derecha\n",
    "    - obsthor = lista de casillas que tienen un obstáculo en su suelo\n",
    "    OUTPUT:\n",
    "    - Grafo dirigido que simula el movimiento de la pelota en el laberinto.\n",
    "    '''\n",
    "    ###Generamos el grafo\n",
    "    DGlaberinto=DiGraph()\n",
    "    ##Los vértices son las casillas del tablero\n",
    "    for i in range(nf):\n",
    "        for j in range(nc):\n",
    "            DGlaberinto.add_vertex((i,j))\n",
    "    ##Creamos las aristas\n",
    "    for i in range(nf):\n",
    "        for j in range(nc):\n",
    "            ##aristas hacia la derecha\n",
    "            seguir=True\n",
    "            i0=i;j0=j\n",
    "            if ((i0,j0) in obstver) or (j0==nc-1): seguir=False\n",
    "            while seguir:\n",
    "                j0+=1\n",
    "                if ((i0,j0) in obstver) or (j0==nc-1): seguir=False\n",
    "            if j!=j0: DGlaberinto.add_edge((i,j),(i0,j0),'Der')\n",
    "        \n",
    "            ##aristas hacia abajo_abajo\n",
    "            seguir=True\n",
    "            i0=i;j0=j\n",
    "            if ((i0,j0) in obsthor) or (i0==nf-1): seguir=False\n",
    "            while seguir:\n",
    "                i0+=1\n",
    "                if ((i0,j0) in obsthor) or (i0==nf-1): seguir=False\n",
    "            if i!=i0: DGlaberinto.add_edge((i,j),(i0,j0),'Abj')\n",
    "                \n",
    "            ##aristas hacia la izquierda\n",
    "            seguir=True\n",
    "            i0=i;j0=j\n",
    "            if ((i0,j0-1) in obstver) or (j0==0): seguir=False\n",
    "            while seguir:\n",
    "                j0-=1\n",
    "                if ((i0,j0-1) in obstver) or (j0==0): seguir=False\n",
    "            if j!=j0: DGlaberinto.add_edge((i,j),(i0,j0),'Izq')\n",
    "                    \n",
    "            ##aristas hacia arriba\n",
    "            seguir=True\n",
    "            i0=i;j0=j\n",
    "            if ((i0-1,j0) in obsthor) or (i0==0): seguir=False\n",
    "            while seguir:\n",
    "                i0-=1\n",
    "                if ((i0-1,j0) in obsthor) or (i0==0): seguir=False\n",
    "            if i!=i0: DGlaberinto.add_edge((i,j),(i0,j0),'Arr')\n",
    "    \n",
    "    return DGlaberinto"
   ]
  },
  {
   "cell_type": "markdown",
   "metadata": {},
   "source": [
    "<p>A continuación generamos el digrafo G que \"modeliza\" nuestro laberinto.</p>"
   ]
  },
  {
   "cell_type": "code",
   "execution_count": null,
   "metadata": {},
   "outputs": [],
   "source": [
    "G=digrafo_laberinto(n,m,obs_derecha,obs_abajo)"
   ]
  },
  {
   "cell_type": "markdown",
   "metadata": {},
   "source": [
    "<p>Obtenemos el árbol de búsqueda en anchura, con raíz en el vértice de inicio (en este caso el (0,0)), que nos dará la menor distancia desde este vértice a todos los demás.</p>"
   ]
  },
  {
   "cell_type": "code",
   "execution_count": null,
   "metadata": {},
   "outputs": [],
   "source": [
    "(T,l)=arbol_bfs(G,(0,0))"
   ]
  },
  {
   "cell_type": "code",
   "execution_count": null,
   "metadata": {},
   "outputs": [],
   "source": [
    "T.plot(layout='tree',figsize=8,vertex_size=600,vertex_colors={'red':[(0,0),(4,4)]})"
   ]
  },
  {
   "cell_type": "markdown",
   "metadata": {},
   "source": [
    "<p>Vemos entonces que la solución más rápida del problema es seguir el camino más corto entre los vértices Inicio y Destino, que es de 9 aristas (movimientos):</p>\n",
    "<p>(0,0)--(0,2)--(2,2)--(2--1)--(1,1)--(1,4)--(0,4)--(0,3)--(4,3)--(4,4)</p>\n",
    "<p>Por lo tanto hemos de pulsar las teclas   Der--Aba--Izq--Arr--Der--Arr--Izq--Aba--Der</p>"
   ]
  },
  {
   "cell_type": "code",
   "execution_count": null,
   "metadata": {},
   "outputs": [],
   "source": []
  },
  {
   "cell_type": "markdown",
   "metadata": {},
   "source": [
    "<p><strong>EJERCICIO 4</strong>: Encontrar la solución (óptima) del laberinto</p>\n",
    "<p><img style=\"display: block; margin-left: auto; margin-right: auto;\" src=\"Laberinto2.jpg\" alt=\"\" width=\"201\" height=\"200\" /></p>"
   ]
  },
  {
   "cell_type": "code",
   "execution_count": null,
   "metadata": {},
   "outputs": [],
   "source": []
  },
  {
   "cell_type": "code",
   "execution_count": null,
   "metadata": {},
   "outputs": [],
   "source": []
  },
  {
   "cell_type": "markdown",
   "metadata": {},
   "source": [
    "<h2><a name=\"ponderados\"></a><strong>4. Árboles de peso y camino mínimo.</strong></h2>\n",
    "<p>En esta apartado estudiaremos algunos problemas relativos a árboles generadores en grafos ponderados.</p>\n",
    "<p>Para definir un grafo (o digrafo) ponderado en Sage, en la orden <em>Graph</em> (o <em>DiGraph</em>) hemos de señalar el parámetro <em>weighted=True.</em> A partir  de este momento, las etiquetas de las aristas son consideradas como su peso.</p>\n",
    "<p>A continuación definimos un grafo ponderado</p>"
   ]
  },
  {
   "cell_type": "code",
   "execution_count": null,
   "metadata": {},
   "outputs": [],
   "source": [
    "Gp=Graph(weighted=True)\n",
    "aristas=[('A','C',36),('B','I',12),('B','J',34),('C','E',45),('C','G',48),('D','G',18),('D','H',36),('E','J',30), ('F','H',40),('G','J',38),('H','J',43)]\n",
    "Gp.add_edges(aristas)"
   ]
  },
  {
   "cell_type": "code",
   "execution_count": null,
   "metadata": {},
   "outputs": [],
   "source": [
    "Gp.plot(figsize=5,edge_labels=True,layout='circular')"
   ]
  },
  {
   "cell_type": "code",
   "execution_count": null,
   "metadata": {},
   "outputs": [],
   "source": []
  },
  {
   "cell_type": "markdown",
   "metadata": {},
   "source": [
    "<h3>4.1 Árbol recubridor de peso mínimo (Kruskal)</h3>\n",
    "<p>La función de usuario \"<strong>Kruskal(G)</strong>\" devuelve un árbol recubridor de peso mínimo del grafo $G$ y el peso de dicho árbol.</p>"
   ]
  },
  {
   "cell_type": "code",
   "execution_count": null,
   "metadata": {},
   "outputs": [],
   "source": [
    "def Kruskal(grafo):\n",
    "    \n",
    "    '''\n",
    "    Obtiene un árbol recubridor de peso mínimo de un grafo.\n",
    "    \n",
    "    SINTAXIS:  (T,p) = Kruskal(grafo)\n",
    "    \n",
    "    INPUT:\n",
    "        - grafo -- Un grafo, ponderado a no. Si no es ponderado considera las aristas de peso 1.\n",
    "        \n",
    "    OUTPUT:\n",
    "        - T -- árbol de peso mínimo\n",
    "        - p -- peso total del árbol\n",
    "    \n",
    "    '''  \n",
    "    \n",
    "    if not grafo.is_connected():\n",
    "        #Si el grafo no es conexo lo advierte.\n",
    "        print(\"Lo siento. El grafo no es conexo.\")\n",
    "        return (Graph(),0)\n",
    "    else:\n",
    "        if not grafo.weighted():\n",
    "            #Si el grafo no es ponderado lo convierte a ponderado\n",
    "            #con las aristas de peso=1\n",
    "            grafo.weighted(True)\n",
    "            for a in grafo.edges():\n",
    "                grafo.set_edge_label(a[0],a[1],1)\n",
    "    \n",
    "        funcion_peso = lambda e: grafo.edge_label(e[0],e[1])\n",
    "        aristas=grafo.min_spanning_tree(weight_function=funcion_peso)\n",
    "        recubridor=Graph()\n",
    "        recubridor.weighted(True)\n",
    "        recubridor.add_edges(aristas)\n",
    "        \n",
    "        #Colocamos el peso de las aristas del árbol recubridor\n",
    "        for a in recubridor.edges():\n",
    "            recubridor.set_edge_label(a[0],a[1],grafo.edge_label(a[0],a[1]))\n",
    "    \n",
    "        #Sumamos el peso del árbol\n",
    "        peso=0\n",
    "        for b in recubridor.edges():\n",
    "            peso+=recubridor.edge_label(b[0],b[1])\n",
    "    \n",
    "        return (recubridor,peso)"
   ]
  },
  {
   "cell_type": "markdown",
   "metadata": {},
   "source": [
    "<p>Para usarla hemos de hacerlo con la siguiente sintáxis:  <em>(arbol,peso)=Kruskal(G)</em>:</p>"
   ]
  },
  {
   "cell_type": "code",
   "execution_count": null,
   "metadata": {},
   "outputs": [],
   "source": [
    "(arbol,peso)=Kruskal(Gp)"
   ]
  },
  {
   "cell_type": "code",
   "execution_count": null,
   "metadata": {},
   "outputs": [],
   "source": [
    "print(\"El peso del árbol es \", peso)\n",
    "arbol.plot(figsize=6,edge_labels=True)"
   ]
  },
  {
   "cell_type": "code",
   "execution_count": null,
   "metadata": {},
   "outputs": [],
   "source": []
  },
  {
   "cell_type": "markdown",
   "metadata": {},
   "source": [
    "<h3>4.2 Camino mínimo (Djkstra)</h3>\n",
    "<p>En este apartado veremos cómo calcular el camino mínimo desde un vértice a todos los demás. El grafo (árbol) que contiene aquellos caminos mínimos desde un vértice fijo se llama <strong>árbol de camino mínimo</strong>. Para ello aplicamos el algoritmo de Djkstra.</p>\n",
    "<p>Si el grafo es un grafo simple, la longitud de un camino es el número de aristas. Entonces, si consideramos el grafo como ponderado con todas las aristas de igual peso (por ejemplo $1$), el árbol de camino mínimo coincide con el árbol de búsqueda en anchura (BFS).</p>\n",
    "<p>A continuación se define la función <strong>Djkstra(grafo,vértice)</strong> que recibe un grafo (ponderado o no) y un vértice y devuelve una lista con las distancias desde el vértice fijo a todos los demás y el árbol de camino mínimo, con raíz en dicho vértice.</p>"
   ]
  },
  {
   "cell_type": "code",
   "execution_count": null,
   "metadata": {},
   "outputs": [],
   "source": [
    "def Djkstra(G,s):\n",
    "    '''\n",
    "    Caminos mas cortos en un grafo desde uno de sus vértices, usando el algoritmo de Djkstra.\n",
    "    Si el grafo no es ponderado, se convierte a ponderado con peso 1 en las aristas.\n",
    "    \n",
    "    SINTAXIS:  (D,T) = Djkstra(G,s)\n",
    "    \n",
    "    INPUT:\n",
    "    - G -- un grafo no dirigido (ponderado o no)\n",
    "    - s -- un vértice de G desde el que se calculan las distancias\n",
    "    \n",
    "    OUTPUT:\n",
    "    - D -- Una lista D de distancias, de forma que D[v] es la distancia más corta de s a v.\n",
    "    - T -- árbol de camino mínimo desde s\n",
    "    '''\n",
    "    \n",
    "    #Si G no es ponderado poner peso 1 a las aristas\n",
    "    if not G.weighted():\n",
    "        G.weighted(True)\n",
    "        for a in G.edges():\n",
    "            G.set_edge_label(a[0],a[1],1)\n",
    "    \n",
    "    #Controlar si G es conexo\n",
    "    if not G.is_connected():\n",
    "        print(\"El grafo no es conexo.\")\n",
    "        print(\"Se obtendrá el árbol de camino mínimo de la componente conexa del vértice \",s)\n",
    "    \n",
    "    cc=G.connected_component_containing_vertex(s)\n",
    "    vtodos=G.vertices()\n",
    "  \n",
    "    \n",
    "    n=G.order()\n",
    "    Padres=[[] for _ in range(n)] #Inicializar padres de los vértices\n",
    "    D=[1000000000 for _ in range(n)] #Etiquetas igual a \"infinito\"\n",
    "\n",
    "    inds=vtodos.index(s)\n",
    "    D[inds]=0\n",
    "    Q=set(cc)\n",
    "    while len(Q)>0:\n",
    "        #Buscamos el vértice de Q con menor etiqueta\n",
    "        v=None\n",
    "        low=1000000000\n",
    "        for u in Q:\n",
    "            indu=vtodos.index(u)\n",
    "            if D[indu]<low:\n",
    "                v=u\n",
    "                low=D[indu]\n",
    "        #Actualizamos etiquetas\n",
    "        indv=vtodos.index(v)\n",
    "        Q.remove(v)\n",
    "        Adj=set(G.neighbors(v))\n",
    "        for u in Adj.intersection(Q):\n",
    "            larista=G.edge_label(v,u)\n",
    "            indu=vtodos.index(u)\n",
    "            if D[indu]>D[indv]+larista:\n",
    "                D[indu]=D[indv]+larista\n",
    "                Padres[indu]=[v]\n",
    "    P={}  #Dicionario con los padres de cada vértice\n",
    "    for u in cc:\n",
    "        indu=vtodos.index(u)\n",
    "        P.setdefault(u,Padres[indu])             \n",
    "    T=Graph(P) #Árbol de camino mínimo\n",
    "    T.weighted(True)\n",
    "    for a in T.edges():\n",
    "        T.set_edge_label(a[0],a[1],G.edge_label(a[0],a[1]))\n",
    "    \n",
    "    return D,T"
   ]
  },
  {
   "cell_type": "markdown",
   "metadata": {},
   "source": [
    "<p>Esta función se usa con la siguiente sintáxis <em>(D,T)=Djkstra(grafo,v)</em>.</p>"
   ]
  },
  {
   "cell_type": "code",
   "execution_count": null,
   "metadata": {},
   "outputs": [],
   "source": [
    "(D,T)=Djkstra(Gp,'A')"
   ]
  },
  {
   "cell_type": "code",
   "execution_count": null,
   "metadata": {},
   "outputs": [],
   "source": [
    "print(\"las distancias a cada vértice son \")\n",
    "print(D)"
   ]
  },
  {
   "cell_type": "code",
   "execution_count": null,
   "metadata": {},
   "outputs": [],
   "source": [
    "T.plot(figsize=4,layout='tree',tree_root='A',edge_labels=True)"
   ]
  },
  {
   "cell_type": "code",
   "execution_count": null,
   "metadata": {},
   "outputs": [],
   "source": []
  },
  {
   "cell_type": "markdown",
   "metadata": {},
   "source": [
    "<p><strong>EJERCICIO 5</strong>: La siguiente tabla muestra las longitudes en metros de las tuberías de agua entre distintos puntos de un barrio de la ciudad (la central distribuidora del agua se encuentra en el punto $A$).</p>\n",
    "<table style=\"margin-left: auto; margin-right: auto; border-width: 0px; width: 315px; height: 196px; border-style: solid;\" border=\"2\">\n",
    "<tbody>\n",
    "<tr>\n",
    "<td align=\"center\" valign=\"middle\"> </td>\n",
    "<td align=\"center\" valign=\"middle\">A</td>\n",
    "<td align=\"center\" valign=\"middle\">B</td>\n",
    "<td align=\"center\" valign=\"middle\">C</td>\n",
    "<td align=\"center\" valign=\"middle\">D</td>\n",
    "<td align=\"center\" valign=\"middle\">E</td>\n",
    "<td align=\"center\" valign=\"middle\">F</td>\n",
    "<td align=\"center\" valign=\"middle\">G</td>\n",
    "<td align=\"center\" valign=\"middle\">H</td>\n",
    "</tr>\n",
    "<tr>\n",
    "<td align=\"center\" valign=\"middle\">A</td>\n",
    "<td align=\"center\" valign=\"middle\"> </td>\n",
    "<td align=\"center\" valign=\"middle\">21</td>\n",
    "<td align=\"center\" valign=\"middle\"> </td>\n",
    "<td align=\"center\" valign=\"middle\"> </td>\n",
    "<td align=\"center\" valign=\"middle\">60</td>\n",
    "<td align=\"center\" valign=\"middle\">20</td>\n",
    "<td align=\"center\" valign=\"middle\"> </td>\n",
    "<td align=\"center\" valign=\"middle\"> </td>\n",
    "</tr>\n",
    "<tr>\n",
    "<td align=\"center\" valign=\"middle\">B</td>\n",
    "<td align=\"center\" valign=\"middle\">21</td>\n",
    "<td align=\"center\" valign=\"middle\"> </td>\n",
    "<td align=\"center\" valign=\"middle\">22</td>\n",
    "<td align=\"center\" valign=\"middle\">30</td>\n",
    "<td align=\"center\" valign=\"middle\"> </td>\n",
    "<td align=\"center\" valign=\"middle\"> </td>\n",
    "<td align=\"center\" valign=\"middle\"> </td>\n",
    "<td align=\"center\" valign=\"middle\">19</td>\n",
    "</tr>\n",
    "<tr>\n",
    "<td align=\"center\" valign=\"middle\">C</td>\n",
    "<td align=\"center\" valign=\"middle\"> </td>\n",
    "<td align=\"center\" valign=\"middle\">22</td>\n",
    "<td align=\"center\" valign=\"middle\"> </td>\n",
    "<td align=\"center\" valign=\"middle\">40</td>\n",
    "<td align=\"center\" valign=\"middle\"> </td>\n",
    "<td align=\"center\" valign=\"middle\">41</td>\n",
    "<td align=\"center\" valign=\"middle\"> </td>\n",
    "<td align=\"center\" valign=\"middle\">28</td>\n",
    "</tr>\n",
    "<tr>\n",
    "<td align=\"center\" valign=\"middle\">D</td>\n",
    "<td align=\"center\" valign=\"middle\"> </td>\n",
    "<td align=\"center\" valign=\"middle\">30</td>\n",
    "<td align=\"center\" valign=\"middle\">40</td>\n",
    "<td align=\"center\" valign=\"middle\"> </td>\n",
    "<td align=\"center\" valign=\"middle\">28</td>\n",
    "<td align=\"center\" valign=\"middle\"> </td>\n",
    "<td align=\"center\" valign=\"middle\"> </td>\n",
    "<td align=\"center\" valign=\"middle\">11</td>\n",
    "</tr>\n",
    "<tr>\n",
    "<td align=\"center\" valign=\"middle\">E</td>\n",
    "<td align=\"center\" valign=\"middle\">60</td>\n",
    "<td align=\"center\" valign=\"middle\"> </td>\n",
    "<td align=\"center\" valign=\"middle\"> </td>\n",
    "<td align=\"center\" valign=\"middle\">28</td>\n",
    "<td align=\"center\" valign=\"middle\"> </td>\n",
    "<td align=\"center\" valign=\"middle\">21</td>\n",
    "<td align=\"center\" valign=\"middle\"> </td>\n",
    "<td align=\"center\" valign=\"middle\">26</td>\n",
    "</tr>\n",
    "<tr>\n",
    "<td align=\"center\" valign=\"middle\">F</td>\n",
    "<td align=\"center\" valign=\"middle\">20</td>\n",
    "<td align=\"center\" valign=\"middle\"> </td>\n",
    "<td align=\"center\" valign=\"middle\">41</td>\n",
    "<td align=\"center\" valign=\"middle\"> </td>\n",
    "<td align=\"center\" valign=\"middle\">21</td>\n",
    "<td align=\"center\" valign=\"middle\"> </td>\n",
    "<td align=\"center\" valign=\"middle\">25</td>\n",
    "<td align=\"center\" valign=\"middle\">23</td>\n",
    "</tr>\n",
    "<tr>\n",
    "<td align=\"center\" valign=\"middle\">G</td>\n",
    "<td align=\"center\" valign=\"middle\"> </td>\n",
    "<td align=\"center\" valign=\"middle\"> </td>\n",
    "<td align=\"center\" valign=\"middle\"> </td>\n",
    "<td align=\"center\" valign=\"middle\"> </td>\n",
    "<td align=\"center\" valign=\"middle\"> </td>\n",
    "<td align=\"center\" valign=\"middle\">25</td>\n",
    "<td align=\"center\" valign=\"middle\"> </td>\n",
    "<td align=\"center\" valign=\"middle\">25</td>\n",
    "</tr>\n",
    "<tr>\n",
    "<td align=\"center\" valign=\"middle\">H</td>\n",
    "<td align=\"center\" valign=\"middle\"> </td>\n",
    "<td align=\"center\" valign=\"middle\">19</td>\n",
    "<td align=\"center\" valign=\"middle\">28</td>\n",
    "<td align=\"center\" valign=\"middle\">11</td>\n",
    "<td align=\"center\" valign=\"middle\">26</td>\n",
    "<td align=\"center\" valign=\"middle\">23</td>\n",
    "<td align=\"center\" valign=\"middle\">25</td>\n",
    "<td align=\"center\" valign=\"middle\"> </td>\n",
    "</tr>\n",
    "</tbody>\n",
    "</table>\n",
    "<p style=\"text-align: left;\">a) La empresa suministradora de agua pretende conocer cuál debe ser la presión necesaria para llevar el agua a todos los puntos del barrio, y por ello necesita saber cuál es la mayor de todas las distancias desde la central (punto $A$) a los distintos puntos del barrio. ¿Cuál es esta distancia y cuál es el recorrido que sigue el agua hasta llegar a ese punto más alejado?<br /><br />b)  La corrosión ha atacado a las tuberías, dejándolas inservibles. ¿Cuáles son los tramos que hay que reconstruir para que se pueda llevar el agua a todos los puntos del barrio con el mínimo coste y por tanto con la menor cantidad de metros de tubería?,¿cu\\ántos metros serán  necesarios reconstruir?</p>\n",
    "<p style=\"text-align: left;\">NOTA: A continuación se define el grafo correspondiente.</p>"
   ]
  },
  {
   "cell_type": "code",
   "execution_count": null,
   "metadata": {},
   "outputs": [],
   "source": [
    "Gr=Graph(weighted=True)\n",
    "aristas=[('A','B',21),('A','E',60),('A','F',20),('B','C',22),('B','D',30),('B','H',19),('C','D',40),('C','F',41),('C','H',28),('D','E',28),('D','H',11),('E','F',21),('E','H',26),('F','G',25),('F','H',23),('G','H',25)]\n",
    "Gr.add_edges(aristas)"
   ]
  },
  {
   "cell_type": "code",
   "execution_count": null,
   "metadata": {},
   "outputs": [],
   "source": []
  },
  {
   "cell_type": "code",
   "execution_count": null,
   "metadata": {},
   "outputs": [],
   "source": []
  },
  {
   "cell_type": "markdown",
   "metadata": {},
   "source": [
    "<h1><a name=\"cuestiones\"></a><strong>Otros ejercicios propuestos</strong></h1>\n",
    "<p><strong>EJERCICIO 6</strong>: Obtener el bosque recubridor del siguiente grafo.</p>\n",
    "<p>NOTAS:</p>\n",
    "<p>1) Se puede utilizar la funcion de usuario \"<em>arbol_recubridor(grafo)</em>\" definida anteriormente.</p>\n",
    "<p>2) Recuérdese que el método <em>G.connected_components_subgraphs</em> nos devuelve una lista de los subgrafos componentes conexas de $G$.</p>"
   ]
  },
  {
   "cell_type": "code",
   "execution_count": null,
   "metadata": {},
   "outputs": [],
   "source": [
    "Gr = Graph({0:[5,9,16],1:[4,3],2:[5,7],3:[8,10,14,4,1],4:[1,3,8,18],5:[0,2,13],6:[12],7:[2,12,15,16,19],8:[3,14,4,18],9:[0,16,17,19],10:[14,3],11:[15],12:[6,7,13],13:[5,12],14:[8,10,3,18],15:[7,11,17,19],16:[0,7,9],17:[9,15],18:[8,14,4],19:[7,9,15]})"
   ]
  },
  {
   "cell_type": "code",
   "execution_count": null,
   "metadata": {},
   "outputs": [],
   "source": []
  },
  {
   "cell_type": "code",
   "execution_count": null,
   "metadata": {},
   "outputs": [],
   "source": []
  },
  {
   "cell_type": "markdown",
   "metadata": {},
   "source": [
    "<p><strong>EJERCICIO 7</strong>:Resolver el laberinto</p>\n",
    "<p><img style=\"display: block; margin-left: auto; margin-right: auto;\" src=\"Laberinto3.jpg\" alt=\"\" width=\"201\" height=\"199\" /></p>"
   ]
  },
  {
   "cell_type": "code",
   "execution_count": null,
   "metadata": {},
   "outputs": [],
   "source": []
  },
  {
   "cell_type": "code",
   "execution_count": null,
   "metadata": {},
   "outputs": [],
   "source": []
  },
  {
   "cell_type": "code",
   "execution_count": null,
   "metadata": {},
   "outputs": [],
   "source": []
  },
  {
   "cell_type": "markdown",
   "metadata": {},
   "source": [
    "<p><strong>EJERCICIO 8</strong>: Resolver el laberinto</p>\n",
    "<p><img style=\"display: block; margin-left: auto; margin-right: auto;\" src=\"Laberinto4.jpg\" alt=\"\" width=\"204\" height=\"204\" /></p>"
   ]
  },
  {
   "cell_type": "code",
   "execution_count": null,
   "metadata": {},
   "outputs": [],
   "source": []
  },
  {
   "cell_type": "code",
   "execution_count": null,
   "metadata": {},
   "outputs": [],
   "source": []
  },
  {
   "cell_type": "code",
   "execution_count": null,
   "metadata": {},
   "outputs": [],
   "source": []
  },
  {
   "cell_type": "markdown",
   "metadata": {},
   "source": [
    "<p><strong>EJERCICIO 9</strong>: Resolver el laberinto</p>\n",
    "<p><img style=\"display: block; margin-left: auto; margin-right: auto;\" src=\"Laberinto5.jpg\" alt=\"\" width=\"202\" height=\"202\" /></p>"
   ]
  },
  {
   "cell_type": "code",
   "execution_count": null,
   "metadata": {},
   "outputs": [],
   "source": []
  },
  {
   "cell_type": "code",
   "execution_count": null,
   "metadata": {},
   "outputs": [],
   "source": []
  },
  {
   "cell_type": "code",
   "execution_count": null,
   "metadata": {},
   "outputs": [],
   "source": []
  },
  {
   "cell_type": "markdown",
   "metadata": {},
   "source": [
    "<p><strong>EJERCICIO 10</strong>: El grafo siguiente modeliza en una ciudad las longitudes que separan entre sí paradas de autobús accesibles entre sí sin paradas intermedias por alguna línea. Se pide:</p>\n",
    "<p>a) Asumiendo que en cada tramo la circulación es en doble sentido, determinar un esquema que utilice el menor número de tramos posible y que permita ir desde la parada $A$ a cualquier otra parada. Justificar si tal esquema es o no único.</p>\n",
    "<p>b) De entre todos los posibles esquemas del apartado anterior, determinar uno cuya longitud total (suma de las longitudes de sus tramos) sea mínima. ¿Cuál es su longitud total?</p>\n",
    "<p>c) Determinar ahora un esquema que refleje las rutas más cortas desde $A$ a las restantes paradas. ¿Cuál es la ruta más corta a la parada $E$?</p>"
   ]
  },
  {
   "cell_type": "code",
   "execution_count": null,
   "metadata": {},
   "outputs": [],
   "source": [
    "Gp=Graph(weighted=True)\n",
    "aristas=[('A', 'B', 265), ('A', 'F', 138), ('A', 'K', 82), ('A', 'L', 124), ('A', 'O', 144), ('A', 'Q', 248), ('A', 'R', 107),\n",
    "('A', 'S', 157), ('A', 'V', 92), ('B', 'F', 159), ('B', 'G', 116), ('B','I', 174), ('B', 'J', 130), ('B', 'K', 263), ('B', 'L', 56), ('B', 'S',130), ('B', 'U', 194), ('B', 'V', 189), ('C', 'D', 256), ('C', 'J',239), ('C', 'K', 140), ('C', 'O', 264), ('C', 'T', 204), ('C', 'V',\n",
    "206), ('C', 'W', 77), ('D', 'L', 127), ('D', 'N', 75), ('D', 'V', 144),('E', 'G', 138), ('E', 'L', 284), ('E', 'O', 122), ('E', 'Q', 106),\n",
    "('E', 'R', 233), ('F', 'G', 144), ('F', 'I', 126), ('F', 'Q', 284),('F', 'V', 137), ('G', 'I', 258), ('G', 'K', 216), ('G', 'O', 111),\n",
    "('G', 'S', 193), ('G', 'V', 233), ('H', 'K', 158), ('H', 'M', 63), ('H','P', 227), ('H', 'U', 80), ('I', 'M', 182), ('I', 'P', 262), ('I', 'Q',59), ('I', 'R', 91), ('I', 'S', 199), ('J', 'O', 112), ('J', 'P', 192),('J', 'R', 88), ('K', 'M', 79), ('K', 'O', 167), ('K', 'V', 164), ('L','M', 143), ('L', 'N', 214), ('L', 'R', 272), ('L', 'S', 203), ('L', 'W',191), ('M', 'N', 79), ('M', 'Q', 129), ('M', 'R', 279), ('M', 'T', 252),('N', 'T', 129), ('N', 'U', 193), ('O', 'R', 165), ('P', 'Q', 298),('P', 'S', 278), ('Q', 'T', 233), ('R', 'U', 277), ('S', 'T', 52), ('S','W', 171), ('T', 'U', 279), ('T', 'W', 208), ('U', 'V', 207), ('U', 'W',67)]\n",
    "Gp.add_edges(aristas)"
   ]
  },
  {
   "cell_type": "code",
   "execution_count": null,
   "metadata": {},
   "outputs": [],
   "source": []
  },
  {
   "cell_type": "code",
   "execution_count": null,
   "metadata": {},
   "outputs": [],
   "source": []
  },
  {
   "cell_type": "code",
   "execution_count": null,
   "metadata": {},
   "outputs": [],
   "source": []
  }
 ],
 "metadata": {
  "kernelspec": {
   "display_name": "SageMath 9.1",
   "language": "sage",
   "name": "sagemath"
  },
  "language": "python",
  "language_info": {
   "codemirror_mode": {
    "name": "ipython",
    "version": 3
   },
   "file_extension": ".py",
   "mimetype": "text/x-python",
   "name": "python",
   "nbconvert_exporter": "python",
   "pygments_lexer": "ipython3",
   "version": "3.7.3"
  }
 },
 "nbformat": 4,
 "nbformat_minor": 2
}
