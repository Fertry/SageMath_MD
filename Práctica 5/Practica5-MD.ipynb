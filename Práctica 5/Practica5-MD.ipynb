{
 "cells": [
  {
   "cell_type": "markdown",
   "metadata": {},
   "source": [
    "<p style=\"text-align: center;\"><strong>ESCUELA DE INGENIERÍA INFORMÁTICA - UNIVERSIDAD DE SEVILLA</strong></p>\n",
    "<h3 style=\"text-align: center;\"><strong>GRADO EN INGENIERÍA INFORMÁTICA-TECNOLOGÍAS INFORMÁTICAS</strong></h3>\n",
    "<h1 style=\"font-size: 1em; text-align: center;\"><strong>MATEMÁTICA DISCRETA<br /></strong></h1>\n",
    "<h2 style=\"font-size: 1.17em; text-align: center;\"><strong>Práctica 5. Transversalidad y Coloración.<br /></strong></h2>\n",
    "<p>Esta práctica la dividiremos en los siguiente apartados:</p>\n",
    "<p> 1. <a href=\"#eulerianos\">Grafos Eulerianos</a>.</p>\n",
    "<p> 2. <a href=\"#hamiltonianos\">Grafos Hamiltonianos</a>. </p>\n",
    "<p> 3. <a href=\"#cvertices\">Coloración de vértices</a>. </p>\n",
    "<p> &nbsp; &nbsp; <a href=\"#nclique\">3.1 Relación del número cromático con el número de clique</a>.</p>\n",
    "<p> &nbsp; &nbsp; <a href=\"#sudokus\">3.2 Aplicación de la coloración de vértices a la resolución de sudokus</a>.</p>\n",
    "<p> 4. <a href=\"#caristas\">Coloración de aristas</a>. </p>\n",
    "\n",
    "<p><br /> </p>\n",
    "<p>Al final de la práctica hay una  <a href=\"#cuestiones\">colección de otros ejercicios propuestos.</a></p>"
   ]
  },
  {
   "cell_type": "markdown",
   "metadata": {},
   "source": [
    "<h2><a name=\"eulerianos\"></a><strong>1. Grafos Eulerianos.</strong></h2>\n",
    "<p>Dado un grafo, llamamos <strong>recorrido euleriano</strong> a cualquier recorrido (camino que no repite aristas) que contenga a todas las aristas. Se llama <strong>circuito euleriano</strong> a cualquier circuito (camino cerrado que no repite aristas) que contiene a todas las aristas del grafo. Los grafos que admiten  circuito euleriano se llaman <strong>grafos eulerianos</strong>. A los grafos que no admiten circuito euleriano pero si recorrido euleriano se les suele llamar <strong>grafos semieulerianos</strong>.</p>\n",
    "<p>La función <em>G.is_eulerian()</em> nos dice si el grafo G es o no euleriano.</p>"
   ]
  },
  {
   "cell_type": "code",
   "execution_count": null,
   "metadata": {},
   "outputs": [],
   "source": [
    "G0=Graph({0:[1,5,6,9],1:[0,2,3,4,6,7,8,9],2:[1,3,4,5,6,8],3:[1,2,8,9],4:[1,2,5,6,7,8],5:[0,2,4,7,8,9],6:[0,1,2,4,7,9],7:[1,4,5,6],8:[1,2,3,4,5,9],9:[0,1,3,5,6,8]})\n",
    "G0.plot(figsize=4)"
   ]
  },
  {
   "cell_type": "code",
   "execution_count": null,
   "metadata": {},
   "outputs": [],
   "source": [
    "G0.is_eulerian()"
   ]
  },
  {
   "cell_type": "code",
   "execution_count": null,
   "metadata": {},
   "outputs": [],
   "source": [
    "G1 = Graph({0:[9],1:[2,3,4,5,6,8],2:[1,7],3:[1,6],4:[1,7],5:[1,7,8,9],6:[1],7:[2,4,5],8:[1,5],9:[0,5]})\n",
    "G1.plot(figsize=4)"
   ]
  },
  {
   "cell_type": "code",
   "execution_count": null,
   "metadata": {},
   "outputs": [],
   "source": [
    "G1.is_eulerian()"
   ]
  },
  {
   "cell_type": "markdown",
   "metadata": {},
   "source": [
    "<p>Si al método \"<em>is_eulerian</em>\" añadimos el parámetro \"<em>path=True</em>\" nos devolverá <em>False</em>  si el grafo no contiene un recorrido euleriano (no es un <em>grafo semieuleriano</em>) o los vértices inicial y final de un recorrido eurleriano si  tal recorrido exite (el grafo es <em>semieuleriano</em>).</p>"
   ]
  },
  {
   "cell_type": "code",
   "execution_count": null,
   "metadata": {},
   "outputs": [],
   "source": [
    "G0.is_eulerian(path=True)"
   ]
  },
  {
   "cell_type": "code",
   "execution_count": null,
   "metadata": {},
   "outputs": [],
   "source": [
    "G1.is_eulerian(path=True)"
   ]
  },
  {
   "cell_type": "markdown",
   "metadata": {},
   "source": [
    "<p>Recordemos el teorema de Euler:</p>\n",
    "<p>La condición necesaria y suficiente para que un grafo sea euleriano es que todos sus vértices tengan valencia par.</p>\n",
    "<p>Un grafo admite recorrido euleriano si, y sólo si, todos sus vértices tienen valencia par, excepto dos de ellos que serán los vértices inicial y final del recorrido euleriano.</p>\n",
    "<p>La función <em>G.degree(labels=True)</em> nos devuelve la lista de vértices con sus valencias.</p>"
   ]
  },
  {
   "cell_type": "code",
   "execution_count": null,
   "metadata": {},
   "outputs": [],
   "source": [
    "print(G0.degree())\n",
    "print(G0.degree(labels=True))"
   ]
  },
  {
   "cell_type": "code",
   "execution_count": null,
   "metadata": {},
   "outputs": [],
   "source": [
    "print(G1.degree())\n",
    "print(G1.degree(labels=True))"
   ]
  },
  {
   "cell_type": "markdown",
   "metadata": {},
   "source": [
    "<p>Si el grafo G es euleriano, la orden <em>G.eulerian_circuit()</em> nos devuelve la lista de aristas que componen  un circuito euleriano del grafo G. En el caso en que el grafo sea semieuleriano podemos obtener un recorrido euleriano con <em>G.eulerian_circuit(path=True)</em>.</p>"
   ]
  },
  {
   "cell_type": "code",
   "execution_count": null,
   "metadata": {},
   "outputs": [],
   "source": [
    "print(G0.eulerian_circuit())"
   ]
  },
  {
   "cell_type": "code",
   "execution_count": null,
   "metadata": {},
   "outputs": [],
   "source": [
    "G0.eulerian_circuit()"
   ]
  },
  {
   "cell_type": "markdown",
   "metadata": {},
   "source": [
    "<p>A continuación lo mostramos sin las etiquetas de las aristas.</p>"
   ]
  },
  {
   "cell_type": "code",
   "execution_count": null,
   "metadata": {},
   "outputs": [],
   "source": [
    "print(G0.eulerian_circuit(labels=False))"
   ]
  },
  {
   "cell_type": "code",
   "execution_count": null,
   "metadata": {},
   "outputs": [],
   "source": [
    "G1.eulerian_circuit()"
   ]
  },
  {
   "cell_type": "code",
   "execution_count": null,
   "metadata": {},
   "outputs": [],
   "source": [
    "print(G1.eulerian_circuit(path=True,labels=False))"
   ]
  },
  {
   "cell_type": "markdown",
   "metadata": {},
   "source": [
    "<p> </p>\n",
    "<p>El teorema de Euler también es aplicable a <b>multigrafos</b>:</p>\n",
    "<p><em>La condición necesaria y suficiente para que un multigrafo sea euleriano es que todos sus vértices tangan valencia par.</em></p>\n",
    "<p><em>Un multigrafo admite recorrido euleriano (es semieuleriano)  si, y sólo si, todos sus vértices tienen valencia par (excepto dos de ellos), que serán los vértices inicial y final del recorrido euleriano.</em></p>\n",
    "<p>SAGE distingue si un grafo es un multigrafo mediante el parámetro \"<em>multiedges</em>\", cuyo valor por defecto es \"<em>multiedges=False</em>\".</p>\n",
    "<p>Para utilizar multigrafos podemos hacerlo de dos formas distinas:</p>\n",
    "<p>1) Si ya tenemos definido un grafo simple -tiene el parámetro \"<em>multiedges=False</em>\", antes de añadir una arista ya existente y queremos que sea una arista doble, hemos de cambiar este parámetro. Para ello usamos el método \"<em>allow_multiple_edges(True)</em>\".</p>\n",
    "<p>Por ejemplo si queremos tener aristas múltiples en el grafo de Petersen hemos de proceder de la forma siguiente:</p>"
   ]
  },
  {
   "cell_type": "code",
   "execution_count": null,
   "metadata": {},
   "outputs": [],
   "source": [
    "MG0=graphs.PetersenGraph()\n",
    "MG0.plot(figsize=3)"
   ]
  },
  {
   "cell_type": "code",
   "execution_count": null,
   "metadata": {},
   "outputs": [],
   "source": [
    "MG0.allow_multiple_edges(True)  #Indicamos que el grafo tendrá aristas múltiples"
   ]
  },
  {
   "cell_type": "code",
   "execution_count": null,
   "metadata": {},
   "outputs": [],
   "source": [
    "MG0.add_edge((0,5)) #Duplicamos la arista 0-5\n",
    "MG0.plot(figsize=4)"
   ]
  },
  {
   "cell_type": "code",
   "execution_count": null,
   "metadata": {},
   "outputs": [],
   "source": [
    "MG0.add_edge((0,5))\n",
    "MG0.plot(figsize=4)"
   ]
  },
  {
   "cell_type": "markdown",
   "metadata": {},
   "source": [
    "<p>2) Definir el grafo directamente como un multigrafo, duplicando en la lista de adyacencias las aristas repetidas y señalando en el  comando <em>Graph </em>el parámetro \"<em>multiedges=True</em>\".</p>"
   ]
  },
  {
   "cell_type": "code",
   "execution_count": null,
   "metadata": {},
   "outputs": [],
   "source": [
    "MG0=Graph({0:[7,7,10],1:[2,3,3,6],2:[6,10],3:[4,6],4:[5,5,8],5:[9,10],6:[8,8,10],7:[9,10],8:[9],9:[10]},multiedges=True)\n",
    "MG0.plot(layout='circular',figsize=4)"
   ]
  },
  {
   "cell_type": "markdown",
   "metadata": {},
   "source": [
    "<p>En SAGE se trabaja con multigrafos exactamente igual que con los grafos simples, por lo que las funciones que hemos visto anteriormente siguen siendo aplicables en el caso de trabajar con multigrafos.</p>\n",
    "<p>Veamos si el grafo anterior es euleriano o semieuleriano y obtendremos, en caso afirmativo, un circuito o un recorrido euleriano, según corresponda.</p>"
   ]
  },
  {
   "cell_type": "code",
   "execution_count": null,
   "metadata": {},
   "outputs": [],
   "source": [
    "MG0.is_eulerian()"
   ]
  },
  {
   "cell_type": "code",
   "execution_count": null,
   "metadata": {},
   "outputs": [],
   "source": [
    "MG0.degree(labels=True)"
   ]
  },
  {
   "cell_type": "code",
   "execution_count": null,
   "metadata": {},
   "outputs": [],
   "source": [
    "MG0.is_eulerian(path=True)"
   ]
  },
  {
   "cell_type": "code",
   "execution_count": null,
   "metadata": {},
   "outputs": [],
   "source": [
    "print(MG0.eulerian_circuit(path=True,labels=False))"
   ]
  },
  {
   "cell_type": "markdown",
   "metadata": {},
   "source": [
    "<p><strong>EJERCICIO 1</strong>: Probar que si a cualquier grafo simple conexo le \"duplicamos\" todas sus aritas el grafo resultante es euleriano.</p>\n",
    "<p>Generar un grafo aleatorio conexo, duplicar todas sus aristas y comprobar que el multigrafo resultante es euleriano.</p>"
   ]
  },
  {
   "cell_type": "code",
   "execution_count": null,
   "metadata": {},
   "outputs": [],
   "source": []
  },
  {
   "cell_type": "markdown",
   "metadata": {},
   "source": [
    "<p><br /> </p>\n",
    "<p>La pregunta que nos hacemos a continuación es: Si un grafo no es semieuleriano (ni euleriano) y queremos \"dibujarlo\" sin trazar dos veces la misma arista, ¿cuántas veces habrá que levantar el lápiz?,</p>\n",
    "<p>Lógicamente habremos de añadir aristas para conseguir que todos los vértices, excepto dos de ellos, sean pares. Para ello habrá que añadir aristas entre vértices impares para convertirlos en vértices pares.</p>\n",
    "<p>Veamos un ejemplo.</p>"
   ]
  },
  {
   "cell_type": "code",
   "execution_count": null,
   "metadata": {},
   "outputs": [],
   "source": [
    "G2= Graph({0:[1,4,6,7,9],1:[0,2,3,5,8],2:[1,3,4,5],3:[1,2,6],4:[0,2,5,6,8,9],5:[1,2,4],6:[0,3,4,9],7:[0],8:[1,4],9:[0,4,6]}); G2.set_pos({0:[322,96],1:[226,129],2:[93,170],3:[101,221],4:[70,70],5:[117,125],6:[35,315],7:[286,25],8:[176,107],9:[30,23]})\n",
    "G2.plot(layout='circular',figsize=4)"
   ]
  },
  {
   "cell_type": "code",
   "execution_count": null,
   "metadata": {},
   "outputs": [],
   "source": [
    "G2.is_eulerian(path=True)"
   ]
  },
  {
   "cell_type": "code",
   "execution_count": null,
   "metadata": {},
   "outputs": [],
   "source": [
    "G2.degree(labels=True)"
   ]
  },
  {
   "cell_type": "markdown",
   "metadata": {},
   "source": [
    "<p>Este grafo tiene $6$ vértices impares: los vértices 0, 1, 3, 5, 7 y 9. Vamos a añadir aristas (postizas) entre ellos para conseguir que sea semieuleriano. Una vez que lo convertimos en semieuleriano obtenemos un recorrido euleriano y cada vez que pasamos por una arista \"postiza\" nos indica que tenemos que levantar el lápiz.</p>\n",
    "<p>Puede que al añadir una arista entre vértices impares, ésta ya exista en el grafo y por tanto sería una arista múltiple. Por ello hemos de cambiar a \"True\" el parámetro \"allow_multiple_edges\" en el grafo para permitir aristas dobles.</p>"
   ]
  },
  {
   "cell_type": "code",
   "execution_count": null,
   "metadata": {},
   "outputs": [],
   "source": [
    "H=copy(G2)\n",
    "H.allow_multiple_edges(True)"
   ]
  },
  {
   "cell_type": "code",
   "execution_count": null,
   "metadata": {},
   "outputs": [],
   "source": [
    "postizas=[(0,1),(3,5)]"
   ]
  },
  {
   "cell_type": "code",
   "execution_count": null,
   "metadata": {},
   "outputs": [],
   "source": [
    "H.add_edges(postizas)"
   ]
  },
  {
   "cell_type": "code",
   "execution_count": null,
   "metadata": {},
   "outputs": [],
   "source": [
    "H.plot(layout='circular',figsize=4)"
   ]
  },
  {
   "cell_type": "code",
   "execution_count": null,
   "metadata": {},
   "outputs": [],
   "source": [
    "H.is_eulerian()"
   ]
  },
  {
   "cell_type": "code",
   "execution_count": null,
   "metadata": {},
   "outputs": [],
   "source": [
    "H.is_eulerian(path=True)"
   ]
  },
  {
   "cell_type": "code",
   "execution_count": null,
   "metadata": {},
   "outputs": [],
   "source": [
    "print(H.eulerian_circuit(path=True,labels=False))"
   ]
  },
  {
   "cell_type": "code",
   "execution_count": null,
   "metadata": {},
   "outputs": [],
   "source": [
    "recorrido=H.eulerian_circuit(path=True,labels=False)\n",
    "print(recorrido)"
   ]
  },
  {
   "cell_type": "markdown",
   "metadata": {},
   "source": [
    "<p>Dado que añadimos dos aristas postizas para transformar el grafo original en un grafo semieuleriano, si queremos dibujarlo sin pasar dos veces por una misma arista, tendremos que levantar dos veces el lápiz del papel. Es decir, lo dibujaremos haciendo tres trazos. La siguiente rutina nos permite determinar cuáles son cada unos de los trazos.</p>"
   ]
  },
  {
   "cell_type": "code",
   "execution_count": null,
   "metadata": {},
   "outputs": [],
   "source": [
    "for i in [0..len(postizas)-1]:\n",
    "    if postizas[i] in recorrido:\n",
    "        recorrido.insert(recorrido.index(postizas[i]),'levanto mano')\n",
    "        recorrido.remove(postizas[i])\n",
    "    else:\n",
    "        postizas[i]=(postizas[i][1],postizas[i][0])\n",
    "        recorrido.insert(recorrido.index(postizas[i]),'levanto mano')\n",
    "        recorrido.remove(postizas[i])\n",
    "    i=i+1\n",
    "print(recorrido)"
   ]
  },
  {
   "cell_type": "markdown",
   "metadata": {},
   "source": [
    "<p>Es decir, los trazos son:</p>\n",
    "<p>\"9--6--4--9--0--6--3\"  (levantamos al pasar por la arista 3--5)    \"5--4--8--1--5--2--3--1--2--4--0\"   (levantamos al pasar por la arista 0--1)  y    \"1--0--7\"</p>"
   ]
  },
  {
   "cell_type": "code",
   "execution_count": null,
   "metadata": {},
   "outputs": [],
   "source": []
  },
  {
   "cell_type": "markdown",
   "metadata": {},
   "source": [
    "<p><strong>EJERCICIO 2</strong>: Sea $Gr$ el grafo definido a continuación..</p>\n",
    "<p>a) ¿Es un grafo euleriano?</p>\n",
    "<p>b) ¿Es un grafo semi-euleriano?</p>\n",
    "<p>c) En caso negativo, indicar cuántas veces hay que levantar el lápiz del papel para dibujarlo sin pasar dos veces por el mismo trazo. Obtener el orden en que habrá que recorrer estos vértices para resolver este problema.</p>"
   ]
  },
  {
   "cell_type": "code",
   "execution_count": null,
   "metadata": {},
   "outputs": [],
   "source": [
    "Gr=Graph({0: [3, 4, 6, 7], 1: [3, 5, 7, 11], 2: [3, 4, 6, 8, 9, 10, 11], 3: [0, 1, 2, 7, 10], 4: [0, 2, 5, 7, 11, 12], 5: [1, 4, 6, 7, 8, 11, 12], 6: [0, 2, 5, 8, 9], 7: [0, 1, 3, 4, 5, 9, 11], 8: [2, 5, 6, 9], 9: [2, 6, 7, 8], 10: [2, 3], 11: [1, 2, 4, 5, 7], 12: [4, 5]})"
   ]
  },
  {
   "cell_type": "code",
   "execution_count": null,
   "metadata": {},
   "outputs": [],
   "source": []
  },
  {
   "cell_type": "code",
   "execution_count": null,
   "metadata": {},
   "outputs": [],
   "source": []
  },
  {
   "cell_type": "code",
   "execution_count": null,
   "metadata": {},
   "outputs": [],
   "source": []
  },
  {
   "cell_type": "code",
   "execution_count": null,
   "metadata": {},
   "outputs": [],
   "source": []
  },
  {
   "cell_type": "markdown",
   "metadata": {},
   "source": [
    "<h2><a name=\"hamiltonianos\"></a><strong>2. Grafos Hamiltonianos</strong></h2>\n",
    "<p>Dado un grafo, llamamos <strong>camino hamiltoniano</strong> a cualquier camino simple (camino que no repite vértices) que contenga a todos los vértices del grafo.Si un grafo admite un camino hamltoniano se llama <strong>grafo semi-hamiltoniano</strong>.</p>\n",
    "<p>Se llama <strong>ciclo hamiltoniano</strong> a cualquier ciclo simple (no repite vértices) que contenga a todos los vértices del grafo. Los grafos que admiten  un ciclo hamiltoniano se llaman <strong>grafos hamiltonianos</strong>.</p>\n",
    "<p>Téngase en cuenta que el problema de decidir si un grafo es o no hamiltoniano es NP-completo por lo que <strong>las funciones y algoritmos que Sage (y cualquier programa) tiene implementadas han de manejarse con cuidado.</strong></p>\n",
    "<p>(NOTA:Obsérvese que todo grafo hamiltoniano es semi-hamiltoniano, al contrario de lo que ocurre con los grafos eulerianos y grafos semi-eulerianos.)</p>\n",
    "<p>La función <em>G.is_hamiltonian()</em> nos dice si el grafo G es o no hamiltoniano.</p>\n",
    "<p>Veamos que el <em>grafo grid plano $3\\times 5$</em> no es un grafo hamiltoniano.</p>"
   ]
  },
  {
   "cell_type": "code",
   "execution_count": null,
   "metadata": {},
   "outputs": [],
   "source": [
    "grid=graphs.Grid2dGraph(3,5)\n",
    "grid.plot(figsize=4)"
   ]
  },
  {
   "cell_type": "code",
   "execution_count": null,
   "metadata": {},
   "outputs": [],
   "source": [
    "grid.is_hamiltonian()"
   ]
  },
  {
   "cell_type": "markdown",
   "metadata": {},
   "source": [
    "<p>En cambio el <em>grafo de Chvatal</em> si es un grafo hamiltoniano.</p>"
   ]
  },
  {
   "cell_type": "code",
   "execution_count": null,
   "metadata": {},
   "outputs": [],
   "source": [
    "Ch=graphs.ChvatalGraph()\n",
    "Ch.plot(figsize=4)"
   ]
  },
  {
   "cell_type": "code",
   "execution_count": null,
   "metadata": {},
   "outputs": [],
   "source": [
    "Ch.is_hamiltonian()"
   ]
  },
  {
   "cell_type": "markdown",
   "metadata": {},
   "source": [
    "<p>Repasemos algunas condiciones necesarias y algunas condiciones suficientes para que un grafo sea hamiltoniano.</p>\n",
    "<p><strong>Condiciones necesarias (pero no suficientes)</strong>: Si $G$ es un grafo hamiltoniano, entonces cumple las siguientes propiedades:</p>\n",
    "<ul>\n",
    "<li>Es conexo.</li>\n",
    "<li>La valencia mínima es superior a $1$, $\\delta(G)\\ge 2$.</li>\n",
    "<li>No tiene vértices de corte.</li>\n",
    "<li>Al eliminar un conjunto de corte formado por $c$ elementos no se producen más de $c$ componentes conexas.</li>\n",
    "<li>.....</li>\n",
    "</ul>\n",
    "<p> </p>\n",
    "<p>Sabemos que el <em>grafo de Chvatal</em> es hamiltoniano y por lo tanto DEBE cumplir todas las condiciones anteriores:</p>"
   ]
  },
  {
   "cell_type": "code",
   "execution_count": null,
   "metadata": {},
   "outputs": [],
   "source": [
    "print(Ch.is_connected())\n",
    "print(Ch.degree())\n",
    "print(Ch.vertex_connectivity())"
   ]
  },
  {
   "cell_type": "markdown",
   "metadata": {},
   "source": [
    "<p> </p>\n",
    "<p>¡¡Estas condiciones no son suficientes!!. En efecto, el grafo de Petersen es conexo, $3$-regular, no tiene vértices de corte ni parejas de corte.</p>"
   ]
  },
  {
   "cell_type": "code",
   "execution_count": null,
   "metadata": {},
   "outputs": [],
   "source": [
    "P=graphs.PetersenGraph()\n",
    "print(P.is_connected())\n",
    "print(P.degree())\n",
    "print(P.vertex_connectivity())"
   ]
  },
  {
   "cell_type": "markdown",
   "metadata": {},
   "source": [
    "<p>Ningún trío de vértices lo desconecta en más de tres componentes conexas:</p>"
   ]
  },
  {
   "cell_type": "code",
   "execution_count": null,
   "metadata": {},
   "outputs": [],
   "source": [
    "for i in [0..7]:\n",
    "    for j in [i+1..8]:\n",
    "        for k in [j+1..9]:\n",
    "            grafo=copy(P)\n",
    "            grafo.delete_vertices([i,j,k])\n",
    "            if grafo.connected_components_number()>3:\n",
    "                print(\"El grafo tiene un trío de corte que lo desconecta en más de 3 c.conexas\")\n",
    "                break\n",
    "print(\"No tiene ningún trío de corte.\")"
   ]
  },
  {
   "cell_type": "markdown",
   "metadata": {},
   "source": [
    "<p>Por lo tanto el grafo de Petersen verifica las condiciones necesarias anteriores. En cambio no es hamiltoniano:</p>"
   ]
  },
  {
   "cell_type": "code",
   "execution_count": null,
   "metadata": {},
   "outputs": [],
   "source": [
    "P.is_hamiltonian()"
   ]
  },
  {
   "cell_type": "markdown",
   "metadata": {},
   "source": [
    "<p>Por lo tanto <u>las condiciones necesarias sólo serán útiles para detectar que un grafo NO es hamiltoniano si no se cumpliese alguna de ellas</u>.</p>\n",
    "<p>Por ejemplo, el siguiente grafo es conexo, no tiene vértices de valencia uno ni vértices de corte:</p>"
   ]
  },
  {
   "cell_type": "code",
   "execution_count": null,
   "metadata": {},
   "outputs": [],
   "source": [
    "G3=Graph({0:[1,2,4,5,6,8],1:[3,6,7,9],2:[3,4],3:[4],5:[9],7:[8,9]})\n",
    "G3.plot(figsize=4)"
   ]
  },
  {
   "cell_type": "code",
   "execution_count": null,
   "metadata": {},
   "outputs": [],
   "source": [
    "print(G3.is_connected())\n",
    "print(G3.degree())\n",
    "print(G3.vertex_connectivity())"
   ]
  },
  {
   "cell_type": "markdown",
   "metadata": {},
   "source": [
    "<p>Pero tiene una pareja de corte que al ser eliminada produce $3$ componentes conexas:</p>"
   ]
  },
  {
   "cell_type": "code",
   "execution_count": null,
   "metadata": {},
   "outputs": [],
   "source": [
    "OtroGrafo=copy(G3)\n",
    "OtroGrafo.delete_vertices([0,1])\n",
    "OtroGrafo.plot(figsize=4)"
   ]
  },
  {
   "cell_type": "markdown",
   "metadata": {},
   "source": [
    "<p>Por lo tanto el grafo no puede ser hamiltoniano.</p>"
   ]
  },
  {
   "cell_type": "code",
   "execution_count": null,
   "metadata": {},
   "outputs": [],
   "source": [
    "G3.is_hamiltonian()"
   ]
  },
  {
   "cell_type": "markdown",
   "metadata": {},
   "source": [
    "<p> </p>\n",
    "<p><strong>Condiciones suficientes (pero no necesarias)</strong>:</p>\n",
    "<ul>\n",
    "<li>Teorema de Dirac: Un grafo de $n$ vértices ($n>3$) es hamiltoniano si cada vértice tiene valencia mayor o igual a $n/2$.</li>\n",
    "<li>Teorema de Ore: Un grafo de $n$ vértices ($n>3$) es hamiltoniano si la suma de valencias de cada pareja de vértices no adyacentes es mayor o igual que $n$.</li>\n",
    "</ul>"
   ]
  },
  {
   "cell_type": "code",
   "execution_count": null,
   "metadata": {},
   "outputs": [],
   "source": [
    "G4=Graph({0:[1,2,3,4,5,6,7,8,9],1:[0,2,3,4,6,8,9],2:[0,1,4,5,7,8,9],3:[0,1,5,6,7,9],4:[0,1,2,6,7],5:[0,2,3,6,7,9],6:[0,1,3,4,5,8,9],7:[0,2,3,4,5,8,9],8:[0,1,2,6,7],9:[0,1,2,3,5,6,7]})"
   ]
  },
  {
   "cell_type": "code",
   "execution_count": null,
   "metadata": {},
   "outputs": [],
   "source": [
    "print(G4.degree())\n",
    "print(G4.is_hamiltonian())"
   ]
  },
  {
   "cell_type": "code",
   "execution_count": null,
   "metadata": {},
   "outputs": [],
   "source": [
    "ore=True\n",
    "grafo=copy(G4)\n",
    "grafocomp=grafo.complement()\n",
    "for arista in grafocomp.edges():\n",
    "    vert1=arista[0]\n",
    "    vert2=arista[1]\n",
    "    if grafo.degree(vert1)+grafo.degree(vert2)<grafo.num_verts():\n",
    "        ore=False\n",
    "        break\n",
    "if ore: \n",
    "    print(\"El grafo cumple la condición del teorema de Ore y por lo tanto es hamiltoniano\")\n",
    "else:\n",
    "    print(\"El grafo NO cumple la condición del teorema de Ore\")\n",
    "    if grafo.is_hamiltonian():\n",
    "        print(\"aunque es hamiltoniano\")"
   ]
  },
  {
   "cell_type": "code",
   "execution_count": null,
   "metadata": {},
   "outputs": [],
   "source": [
    "G5=Graph({0:[1,3,4,6,9],1:[2,4,5],2:[4],3:[4,6,7,8],4:[7,8],5:[8,9],6:[9],7:[8]})"
   ]
  },
  {
   "cell_type": "code",
   "execution_count": null,
   "metadata": {},
   "outputs": [],
   "source": [
    "ore=True\n",
    "grafo=copy(G5)\n",
    "grafocomp=grafo.complement()\n",
    "for arista in grafocomp.edges():\n",
    "    vert1=arista[0]\n",
    "    vert2=arista[1]\n",
    "    if grafo.degree(vert1)+grafo.degree(vert2)<grafo.num_verts():\n",
    "        ore=False\n",
    "        break\n",
    "if ore: \n",
    "    print(\"El grafo cumple la condición del teorema de Ore y por lo tanto es hamiltoniano\")\n",
    "else:\n",
    "    print(\"El grafo NO cumple la condición del teorema de Ore\")\n",
    "    if grafo.is_hamiltonian():\n",
    "        print(\"aunque es hamiltoniano\")"
   ]
  },
  {
   "cell_type": "markdown",
   "metadata": {},
   "source": [
    "<h2> </h2>\n",
    "<p>La función <em>G.hamiltonian_cycle()</em> nos devuelve un ciclo hamiltoniano (grafo ciclo), si G es Hamiltoniano. </p>"
   ]
  },
  {
   "cell_type": "code",
   "execution_count": null,
   "metadata": {},
   "outputs": [],
   "source": [
    "Ciclo=G5.hamiltonian_cycle()\n",
    "Ciclo.plot(figsize=4)"
   ]
  },
  {
   "cell_type": "markdown",
   "metadata": {},
   "source": [
    "<p>Con las siguientes instrucciones dibujamos el grafo hamiltoniano G5, resaltando en color rojo las aristas del ciclo hamiltoniano.</p>"
   ]
  },
  {
   "cell_type": "code",
   "execution_count": null,
   "metadata": {},
   "outputs": [],
   "source": [
    "colores={'red':Ciclo.edges()}\n",
    "G5.plot(edge_colors=colores,figsize=5,layout='circular')"
   ]
  },
  {
   "cell_type": "markdown",
   "metadata": {},
   "source": [
    "<p>Si el grafo G no es hamiltoniano, la función <em>G.hamiltonian_cycle()</em> da un mensaje de error.</p>"
   ]
  },
  {
   "cell_type": "code",
   "execution_count": null,
   "metadata": {},
   "outputs": [],
   "source": [
    "G3.hamiltonian_cycle()"
   ]
  },
  {
   "cell_type": "markdown",
   "metadata": {},
   "source": [
    "<p>La función<em> G.hamiltonian_path()</em> nos devuelve un camino hamiltoniano (grafo camino), si el grafo G es semihamiltoniano.</p>"
   ]
  },
  {
   "cell_type": "code",
   "execution_count": null,
   "metadata": {},
   "outputs": [],
   "source": [
    "Camino=G3.hamiltonian_path()\n",
    "Camino.plot(figsize=4)"
   ]
  },
  {
   "cell_type": "markdown",
   "metadata": {},
   "source": [
    "<p>Si el grafo G no es semihamiltoniano la función <em>G.hamiltonian_path()</em> produce una salida vacía (None).</p>\n",
    "<p>El siguiente grafo no es semihamiltoniano (tiene un vértice de corte que lo desconecta en tres componentes conexas)</p>"
   ]
  },
  {
   "cell_type": "code",
   "execution_count": null,
   "metadata": {},
   "outputs": [],
   "source": [
    "G6 = Graph({0:[7,11],1:[3,2,6],2:[1,6],3:[1,6,4],4:[11,8,6,3,10,13],5:[9,13,10],6:[4,2,3,1],7:[0,11,8],8:[12,7,11,4],9:[10],10:[13,5,9,4],11:[7,0,12,8,4],12:[11,8],13:[10,5,4]})\n",
    "Camino=G6.hamiltonian_path()\n",
    "print(Camino)\n"
   ]
  },
  {
   "cell_type": "code",
   "execution_count": null,
   "metadata": {},
   "outputs": [],
   "source": [
    "##OJO! No podemos \"dibujar\" Camino pues es un objeto vacío y daría error\n",
    "Camino.plot()"
   ]
  },
  {
   "cell_type": "markdown",
   "metadata": {},
   "source": [
    "<p>La función <em>G.longest_path()</em> nos devuelve un camino de máxima longitud contenido en el grafo G (grafo camino).</p>"
   ]
  },
  {
   "cell_type": "code",
   "execution_count": null,
   "metadata": {},
   "outputs": [],
   "source": [
    "Camino=G6.longest_path()\n",
    "Camino.plot(figsize=4)"
   ]
  },
  {
   "cell_type": "markdown",
   "metadata": {},
   "source": [
    "<p>Vemos que el grafo no es semihamiltoniano. Para ello hemos de comparar el número de vértices del grafo con el de su camino más largo:</p>"
   ]
  },
  {
   "cell_type": "code",
   "execution_count": null,
   "metadata": {},
   "outputs": [],
   "source": [
    "print(G6.order())\n",
    "print(Camino.order())\n",
    "print(\"El grafo es semihamiltoniano? \",G6.order()==Camino.order())"
   ]
  },
  {
   "cell_type": "code",
   "execution_count": null,
   "metadata": {},
   "outputs": [],
   "source": []
  },
  {
   "cell_type": "markdown",
   "metadata": {},
   "source": [
    "<p><strong>EJERCICIO 3</strong>: Probar que el grafo \"grid\" definido anteriormente, aunque no es hamiltoniano, si es semi-hamiltoniano.</p>"
   ]
  },
  {
   "cell_type": "code",
   "execution_count": null,
   "metadata": {},
   "outputs": [],
   "source": []
  },
  {
   "cell_type": "code",
   "execution_count": null,
   "metadata": {},
   "outputs": [],
   "source": []
  },
  {
   "cell_type": "markdown",
   "metadata": {},
   "source": [
    "<p><strong>EJERCICIO 4</strong>: Sea $G_r$ el grafo cuyos vértices son las casillas de un tablero de ajedrez de $m$ filas y $n$ columnas y las aristas son movimientos del caballo de ajedrez. Este grafo se llama \"<em>grafo de salto del caballo</em>\" y Sage dispone de este grafo, <em>graphs.KnightGraph([m,n])</em>.</p>\n",
    "<p>a) Estudiar para qué valores de $m$ y $n$, $4\\le m,n\\le 8$ se trata de un grafo hamiltoniano.</p>\n",
    "<p>b) ¿Para qué valores de $m$ y $n$, $4\\le m,n\\le 8$, es un grafo semi-hamiltoniano?</p>\n",
    "<p>c) Obtener un camino hamiltoniano para el caso $m=n=5$.</p>\n",
    "<p>NOTA: Utilizar dos ciclos \"<em>for</em>\" anidados para hacer variar los valores de $m$ y $n$.</p>"
   ]
  },
  {
   "cell_type": "code",
   "execution_count": null,
   "metadata": {},
   "outputs": [],
   "source": []
  },
  {
   "cell_type": "code",
   "execution_count": null,
   "metadata": {},
   "outputs": [],
   "source": []
  },
  {
   "cell_type": "code",
   "execution_count": null,
   "metadata": {},
   "outputs": [],
   "source": []
  },
  {
   "cell_type": "markdown",
   "metadata": {},
   "source": [
    "<h2><a name=\"cvertices\"></a><strong>3. Coloración de vértices</strong></h2>\n",
    "<p>Sage dispone de una librería externa, \"<em>sage.graphs.graph_coloring</em>\", que contiene diversas funciones relativas a la coloración de grafos. Algunas de ellas las veremos más adelante.</p>\n",
    "<p>No obstante, a continuacion definimos la función de usuario para aplicar el algoritmo voraz de coloración de un grafo. La función <strong>voraz(G,p)</strong> recibe un grafo <em>G</em> y una ordenación <em>p</em> de sus vértices y, realizando el algoritmo voraz de coloración de los vértices del grafo <em>G</em>, ekigiendo los vértices en el orden <em>p</em>, devuelve tres elementos: El primero es un diccionario con los colores de cada vértice, el segundo es el número de colores utilizados en la coloración y el tercero es un diccionario con los vértices que corresponden a cada color, muy útil para representacioes gráficas del grafo.</p>"
   ]
  },
  {
   "cell_type": "code",
   "execution_count": null,
   "metadata": {},
   "outputs": [],
   "source": [
    "def voraz(G,p=[]):\n",
    "    '''\n",
    "    Aplica el algoritmo voraz de coloración al grafo G con la ordenación p de los vértices\n",
    "    \n",
    "    Sintaxis: (colores_vertices,numero_colores,colores)=voraz(G,p)\n",
    "    \n",
    "    INPUT:\n",
    "    \n",
    "        -- G = es un grafo simple\n",
    "    \n",
    "        -- p = una ordenación de los vértices de G (por defecto toma el orden de G.vertices()\n",
    "    \n",
    "    OUTPUT:\n",
    "    \n",
    "        -- color = Diccionario con el color de cada vértice\n",
    "\n",
    "        -- num_colores = número de colores utilizado\n",
    "        \n",
    "        -- coloreado = Diccionario con los vértices de cada color\n",
    "    '''\n",
    "    if len(p)==0:\n",
    "        p=G.vertices()\n",
    "    listacolores=[sorted(colors)[i] for i in [0..G.num_verts()-1]]\n",
    "    listacolores[listacolores.index('automatic')]='white'\n",
    "    listacolores.sort()\n",
    "    R=Set(listacolores)\n",
    "    color={}\n",
    "    for u in p:\n",
    "        prohibidos=[]\n",
    "        for v in G.neighbors(u):\n",
    "            if v in color.keys():\n",
    "                prohibidos.append(color[v])\n",
    "        for i in [0..G.num_verts()-1]:\n",
    "            if not R[i] in prohibidos:\n",
    "                color[u]=R[i]\n",
    "                break\n",
    "    num_colores=len(Set(color[v] for v in G))\n",
    "    V=Set(color.values())\n",
    "    coloreado={}\n",
    "    for v in V:\n",
    "        coloreado[v]=[u for u in color.keys() if color[u]==v]\n",
    "    return(color,num_colores,coloreado)"
   ]
  },
  {
   "cell_type": "code",
   "execution_count": null,
   "metadata": {},
   "outputs": [],
   "source": [
    "G8 = graphs.RandomGNP(8,0.5) # Generamos un grafo aleatorio\n",
    "G8.plot(layout='circular',figsize=5)"
   ]
  },
  {
   "cell_type": "markdown",
   "metadata": {},
   "source": [
    "<p>Veamos qué ocurre si aplicamos la función <em>voraz</em> al grafo anterior con la ordenación natural de los vértices</p>"
   ]
  },
  {
   "cell_type": "code",
   "execution_count": null,
   "metadata": {},
   "outputs": [],
   "source": [
    "(color_vertices,num_colores,colores)=voraz(G8)\n",
    "print(\"Colores de los vértices: \",color_vertices)\n",
    "print(\"Colores utilizados: \",num_colores)\n",
    "print(\"Diccionario de colores:\",colores)"
   ]
  },
  {
   "cell_type": "code",
   "execution_count": null,
   "metadata": {},
   "outputs": [],
   "source": [
    "G8.plot(layout=\"circular\",figsize=5,vertex_colors=colores)"
   ]
  },
  {
   "cell_type": "markdown",
   "metadata": {},
   "source": [
    "<p>En este ejemplo hemos dado a los vértices el orden por defecto con el que viene definido el grafo. Vamos a cambiar dicho orden y veremos que la coloración de los vértices cambia, para ello creamos una permutación del conjunto de vértices. En \"<strong>permvert</strong>\" hemos guardado todas las permutaciones de los vértices y en <strong>p</strong> guardamos una de ellas aleatoria con la que vamos a volver a hacer el algoritmo voraz.</p>"
   ]
  },
  {
   "cell_type": "code",
   "execution_count": null,
   "metadata": {},
   "outputs": [],
   "source": [
    "permvert=Permutations(G8.vertices())\n",
    "p=permvert.random_element()\n",
    "(color_vertices,num_colores,colores)=voraz(G8,p)\n",
    "print(\"con el orden\", p,\"la coloración utiliza\",num_colores,\"colores y es:\")\n",
    "G8.plot(layout=\"circular\",figsize=4,vertex_colors=colores)"
   ]
  },
  {
   "cell_type": "markdown",
   "metadata": {},
   "source": [
    "<p>Si pulsas varias veces en la instrucción anterior verás que diferentes ordenaciones de los vértices nos dan coloraciones diferentes e incluso con diferente número de colores. Así para calcular el número mínimo de colores tendríamos que calcular las coloraciones para todos los posibles ordenes, esto es de orden factorial, en cuanto aumentemos un poco el número de vértices del grafo el algoritmo se bloquearía. El algoritmo voraz nos da una coloración pero no nos garantiza que sea la mejor, dependerá del número de vértices y por tanto no nos sirve para calcular el número cromático. No obstante existen otros algoritmos que nos permiten calcular el número cromático para grafos no muy grandes, Sage los usa en la siguiente instrucción que calcula el número cromático.</p>\n"
   ]
  },
  {
   "cell_type": "markdown",
   "metadata": {},
   "source": [
    "<p><strong>EJERCICIO 5</strong>: Dado el grafo cubo $Q_3$ dar tres ordenaciones de los vértices para los que el algoritmo voraz devuelva coloraciones con $2$, $3$, y $4$ colores.</p>"
   ]
  },
  {
   "cell_type": "code",
   "execution_count": null,
   "metadata": {},
   "outputs": [],
   "source": [
    "G=graphs.CubeGraph(3)"
   ]
  },
  {
   "cell_type": "code",
   "execution_count": null,
   "metadata": {},
   "outputs": [],
   "source": []
  },
  {
   "cell_type": "code",
   "execution_count": null,
   "metadata": {},
   "outputs": [],
   "source": []
  },
  {
   "cell_type": "code",
   "execution_count": null,
   "metadata": {},
   "outputs": [],
   "source": []
  },
  {
   "cell_type": "markdown",
   "metadata": {},
   "source": [
    "<p>Debemos recordar que el problema de decisión \"<em>dado un grafo $G$ y un número entero positivo $k$, ¿existe una $k$-coloración del grafo $G$?</em>\" es un problema NP-completo. No obstante Sage puede calcular el número cromático de grafos que no sean excesivamente grandes. Para ello utilizamos el método <em>G.chromatic_number()</em>.</p>\n",
    "<p>En particular podemos estudiar el número cromático de algunos grafos conocidos. Por ejemplo, el número  cromático del grafo ciclo $C_n$ de $n$ vértices es $2$ para $n$ par y $3$ para $n$ impar.</p>"
   ]
  },
  {
   "cell_type": "code",
   "execution_count": null,
   "metadata": {},
   "outputs": [],
   "source": [
    "for n in [3..10]:\n",
    "    Gr=graphs.CycleGraph(n)\n",
    "    print(\"El ciclo de \",n,\" vértices tiene número cromático: \",Gr.chromatic_number())"
   ]
  },
  {
   "cell_type": "markdown",
   "metadata": {},
   "source": [
    "<p>El número cromático del grafo completo $K_n$ es $n$.</p>"
   ]
  },
  {
   "cell_type": "code",
   "execution_count": null,
   "metadata": {},
   "outputs": [],
   "source": [
    "for n in [3..10]:\n",
    "    Gr=graphs.CompleteGraph(n)\n",
    "    print(\"El grafo completo de \",n,\" vértices tiene número cromático: \",Gr.chromatic_number())"
   ]
  },
  {
   "cell_type": "markdown",
   "metadata": {},
   "source": [
    "<p><strong>EJERCICIO 6</strong>: Comprobar que el número cromático de cualquier grafo bipartito es $2$.</p>\n",
    "<p>NOTA: Para ello, utiliza la orden \"<em>graphs.RandomBipartite(m,n,p)</em>\" que genera un subgrafo de $K_{m,n}$ aleatorio, donde cada pareja de vértices tiene probabilidad $p$ de ser arista.</p>"
   ]
  },
  {
   "cell_type": "code",
   "execution_count": null,
   "metadata": {},
   "outputs": [],
   "source": []
  },
  {
   "cell_type": "markdown",
   "metadata": {},
   "source": [
    "<h3><a name=\"nclique\"></a> 3.1.- Relación entre el número cromático y el número de clique.</h3>\n",
    "<p>Sabemos que si $G$ es subgrafo de $G'$ ($G\\subset G'$) entonces $\\chi(G)\\le \\chi(G')$. Por lo tanto si un grafo contiene un clique de orden $m$ su número cromático es al menos $m$. Por lo tanto el número de clique de un grafo es menor o igual que su número cromático, $\\omega(G)\\le \\chi(G)$.</p>"
   ]
  },
  {
   "cell_type": "code",
   "execution_count": null,
   "metadata": {},
   "outputs": [],
   "source": [
    "G9=Graph({0: [2, 3, 4, 5, 9, 11], 1: [3, 4, 7, 8, 9, 11, 12], 2: [0, 3, 4, 5, 9,11, 12, 13], 3: [0, 1, 2, 4, 5, 7, 8, 9, 10, 13], 4: [0, 1, 2, 3, 5, 6,11, 12, 13], 5: [0, 2, 3, 4, 6, 7, 9, 10, 13], 6: [4, 5, 7, 9, 10, 12],7: [1, 3, 5, 6, 8, 9, 11, 12, 13], 8: [1, 3, 7, 9, 11, 13], 9: [0, 1, 2,3, 5, 6, 7, 8, 10, 11], 10: [3, 5, 6, 9, 13], 11: [0, 1, 2, 4, 7, 8, 9,12, 13], 12: [1, 2, 4, 6, 7, 11], 13: [2, 3, 4, 5, 7, 8, 10, 11]})"
   ]
  },
  {
   "cell_type": "code",
   "execution_count": null,
   "metadata": {},
   "outputs": [],
   "source": [
    "print(\"Este grafo tiene número de clique \",G9.clique_number())\n",
    "print(\"Y número cromático \",G9.chromatic_number())"
   ]
  },
  {
   "cell_type": "markdown",
   "metadata": {},
   "source": [
    "<p>Vamos a dibujar el grafo resaltando uno de sus cliques máximos.</p>"
   ]
  },
  {
   "cell_type": "code",
   "execution_count": null,
   "metadata": {},
   "outputs": [],
   "source": [
    "Clique=G9.subgraph(G9.clique_maximum())\n",
    "color_aristas={'red':Clique.edges()}\n",
    "color_vertices={'red':Clique.vertices()}\n",
    "G9.plot(layout=\"circular\",figsize=5,vertex_colors=color_vertices,edge_colors=color_aristas)"
   ]
  },
  {
   "cell_type": "markdown",
   "metadata": {},
   "source": [
    "<p>En el grafo anterior coinciden número de clique y número cromático. En cambio obsérvese lo que ocurre en el grafo siguiente:</p>"
   ]
  },
  {
   "cell_type": "code",
   "execution_count": null,
   "metadata": {},
   "outputs": [],
   "source": [
    "G10=Graph({0: [1, 3, 4, 5, 6, 9], 1: [0, 2, 3, 4, 5, 6, 7, 8, 9, 12], 2: [1, 3, 4,6, 7, 8, 10, 11, 12], 3: [0, 1, 2, 4, 5, 6, 8, 10, 11], 4: [0, 1, 2, 3,6, 7, 10], 5: [0, 1, 3, 6, 7, 8, 10, 11, 12, 13], 6: [0, 1, 2, 3, 4, 5,10, 11], 7: [1, 2, 4, 5, 10, 12], 8: [1, 2, 3, 5, 9, 13], 9: [0, 1, 8,10, 11, 13], 10: [2, 3, 4, 5, 6, 7, 9, 11, 12, 13], 11: [2, 3, 5, 6, 9,10, 12, 13], 12: [1, 2, 5, 7, 10, 11, 13], 13: [5, 8, 9, 10, 11, 12]})"
   ]
  },
  {
   "cell_type": "code",
   "execution_count": null,
   "metadata": {},
   "outputs": [],
   "source": [
    "print(\"Este grafo tiene número de clique \",G10.clique_number())\n",
    "print(\"Y número cromático \",G10.chromatic_number())"
   ]
  },
  {
   "cell_type": "markdown",
   "metadata": {},
   "source": [
    "<p>Por lo tanto en este grafo $G$ se tiene $\\omega(G) < \\chi(G)$. Podemos afirmar que <span style=\"text-decoration: underline;\">si un grafo tiene número cromático $m$, esto no quiere decir que contenga ningún subgrafo completo $K_m$</span>. Es decir se tiene la acotación $\\omega(G) \\le  \\chi(G)$, siendo posible la desigualdad estricta.</p>"
   ]
  },
  {
   "cell_type": "code",
   "execution_count": null,
   "metadata": {},
   "outputs": [],
   "source": []
  },
  {
   "cell_type": "markdown",
   "metadata": {},
   "source": [
    "<h3><a name=\"sudokus\"></a><strong>3.2. Aplicación de la coloración de grafos a la resolución de sudokus.</strong></h3>\n",
    "<p>Aunque son muchos los problemas de clasificación que podríamos atacar (elaboración de horarios, reparto de tareas etc.), veamos, por ejemplo, como resolver cualquier sudoku.</p>\n",
    "<p>Realizaremos el ejemplo para un sudoku $4\\times 4$ en vez del habitual $9\\times 9$ para que se visualice mejor.</p>\n",
    "<p>Primero vamos a empezar a construir el grafo sudoku base, para ello crearemos un grafo donde cada vértice representará una casilla del sudoku. Las aristas van a representar las incompatiblidades del sudoku, es decir una arista representará una pareja de casillas que no pueden tener el mismo número. Es decir cada casilla es incompattible con las de la misma línea horizontal, las de la misma línea vertical y las del mismo cuadradito de tamaño $2\\times 2$.</p>\n",
    "<p>NOTA: Vamos a numerar las casillas de 1 a 4, en lugar de 0 a 3.</p>"
   ]
  },
  {
   "cell_type": "code",
   "execution_count": null,
   "metadata": {},
   "outputs": [],
   "source": [
    "n=4\n",
    "S4_blanco=Graph()\n",
    "V4=[(i,j) for (i,j) in cartesian_product([[1..n],[1..n]])]\n",
    "S4_blanco.add_vertices(V4)\n",
    "\n",
    "#filas\n",
    "F4=[((i,j),(l,p)) for ((i,j),(l,p)) in cartesian_product([V4,V4]) if ((i==l) and (i,j)!=(l,p)) ]\n",
    "S4_blanco.add_edges(F4)\n",
    "#columnas\n",
    "C4=[((i,j),(l,p)) for ((i,j),(l,p)) in cartesian_product([V4,V4]) if ((j==p) and (i,j)!=(l,p))]\n",
    "S4_blanco.add_edges(C4)\n",
    "#cuadraditos\n",
    "S4_blanco.add_edges([((1,1),(2,2)),((2,1),(1,2)),((1,3),(2,4)),((1,4),(2,3)),((3,1),(4,2)),((4,1),(3,2)),((3,3),(4,4)),((3,4),(4,3))])\n",
    "\n",
    "#Asignamos posición a los vértices para verlo como el sudoku\n",
    "inc=344/n\n",
    "S4_blanco.set_pos({(i,j):[j*inc,344-i*inc] for (i,j) in cartesian_product([[1..4],[1..4]])})\n",
    "\n",
    "\n",
    "S4_blanco.plot(figsize=3,vertex_size=600)"
   ]
  },
  {
   "cell_type": "markdown",
   "metadata": {},
   "source": [
    "<p>Este grafo tiene número cromático igual a $4$.</p>"
   ]
  },
  {
   "cell_type": "code",
   "execution_count": null,
   "metadata": {},
   "outputs": [],
   "source": [
    "S4_blanco.chromatic_number()"
   ]
  },
  {
   "cell_type": "markdown",
   "metadata": {},
   "source": [
    "<p>Encontrar una solución del sudoku será encontrar una vértice coloración de este grafo con $4$ colores y hacer corresponder a cada color uno de los números de $1$ a $4$. Para ello utilizaremos el método \"<em>coloring</em>\" que, aplicado a un grafo, nos da la primera coloración óptima del grafo que encuentra</p>"
   ]
  },
  {
   "cell_type": "code",
   "execution_count": null,
   "metadata": {},
   "outputs": [],
   "source": [
    "S4_blanco.coloring()"
   ]
  },
  {
   "cell_type": "markdown",
   "metadata": {},
   "source": [
    "<p>Si utilizamos este método con el parámetro \"<em>hex_colors=True</em>\" devuelve dicha coloración en forma de diccionario para poder utilizarlo para colorear los vértices del grafo en su representación gráfica:</p>"
   ]
  },
  {
   "cell_type": "code",
   "execution_count": null,
   "metadata": {},
   "outputs": [],
   "source": [
    "colores=S4_blanco.coloring(hex_colors=True)\n",
    "S4_blanco.plot(figsize=3,vertex_size=600,vertex_colors=colores)"
   ]
  },
  {
   "cell_type": "markdown",
   "metadata": {},
   "source": [
    "<p>Por lo tanto una \"solución\" a nuestro sudoku se obtendrá asignando un número a cada color, por ejemplo 1 a \"rojo\", 2 a \"verde\", 3 a \"cyan\" y 4 a \"azul\".</p>\n",
    "<p>Este sudoku en blanco tiene muchas soluciones. Para saber cuántas soluciones utilizaremos la función \"<em>all_graph_colorings(G,k)</em>\" que nos da todas las posibles coloraciones del grafo $G$ con $k$ colores. Esta función se encuentra en la librería externa \"<em>sage.graphs.graphs_coloring</em>\" y por tanto habremos de cargarla. En las siguientes instrucciones se carga dicha función y la utilizamos para saber cuántas coloraciones con $4$ colores tiene el grafo del sudoku en blanco:</p>"
   ]
  },
  {
   "cell_type": "code",
   "execution_count": null,
   "metadata": {},
   "outputs": [],
   "source": [
    "from sage.graphs.graph_coloring import all_graph_colorings\n",
    "soluciones=[coloracion for coloracion in all_graph_colorings(S4_blanco,4)]\n",
    "print(len(soluciones))"
   ]
  },
  {
   "cell_type": "markdown",
   "metadata": {},
   "source": [
    "<p><span id=\"cell_outer_31\">Téngase en cuenta que en realidad muchas de esas soluciones son las mismas pero  cambiando unos colores por otros. Teniendo en cuenta que <span>cualquier permutación de los colores esta contabilizada como una coloración distinta, hay 4!=24 coloraciones que en realidad son la misma. Por lo tanto el número real de soluciones del sudoku será el número anterior dividido por 24:</span></span></p>"
   ]
  },
  {
   "cell_type": "code",
   "execution_count": null,
   "metadata": {},
   "outputs": [],
   "source": [
    "print(len(soluciones)/24)"
   ]
  },
  {
   "cell_type": "code",
   "execution_count": null,
   "metadata": {},
   "outputs": [],
   "source": []
  },
  {
   "cell_type": "markdown",
   "metadata": {},
   "source": [
    "<p>Ahora bien, cuando hemos de resolver un sudoku siempre vienen algunas de las casillas con su número ya asignado. ¿Cómo podríamos resolverlo en estos casos? La respuesta es sencilla: \"De la misma manera pero añadiendo al grafo del sudoku nuevas aristas\".</p>\n",
    "<p>Si tenemos dos casillas con distinto número, hemos de encontrar una coloración de forma que esas casillas lleven distinto color. Bastará añadir una arista entre dichas casillas, si es que no existen. Por ejemplo, para resolver el siguiente sudoku, bastará añadir la arista $\\{(1,4),(4,2)\\}$.</p>\n",
    "<table style=\"margin-left: auto; margin-right: auto; width: 182px; height: 195px;\"\n",
    "cellspacing=\"0\" cellpadding=\"12\" border: \"1\" border-collapse: collapse;>\n",
    "<tbody>\n",
    "<tr>\n",
    "<td style=\"border: black 1px solid\";> </td>\n",
    "<td style=\"border: black 1px solid\";> </td>\n",
    "<td style=\"border: black 1px solid;\"> </td>\n",
    "<td style=\"border: black 1px solid; text-align:center;\">3</td>\n",
    "</tr>\n",
    "<tr>\n",
    "<td style=\"border: black 1px solid;\">  </td>\n",
    "<td style=\"border: black 1px solid\";> </td>\n",
    "<td style=\"border: black 1px solid\";> </td>\n",
    "<td style=\"border: black 1px solid\";> </td>\n",
    "</tr>\n",
    "<tr>\n",
    "<td style=\"border: black 1px solid\";>  </td>\n",
    "<td style=\"border: black 1px solid\";> </td>\n",
    "<td style=\"border: black 1px solid\";> </td>\n",
    "<td style=\"border: black 1px solid\";> </td>\n",
    "</tr>\n",
    "<tr>\n",
    "<td style=\"border: black 1px solid\";> </td>\n",
    "<td style=\"border: black 1px solid; text-align:center\";>2</td>\n",
    "<td style=\"border: black 1px solid\";> </td>\n",
    "<td style=\"border: black 1px solid\";> </td>\n",
    "</tr>\n",
    "</tbody>\n",
    "</table>"
   ]
  },
  {
   "cell_type": "code",
   "execution_count": null,
   "metadata": {},
   "outputs": [],
   "source": [
    "S4=copy(S4_blanco)\n",
    "S4.add_edge((1,4),(4,2))"
   ]
  },
  {
   "cell_type": "code",
   "execution_count": null,
   "metadata": {},
   "outputs": [],
   "source": [
    "S4.chromatic_number()"
   ]
  },
  {
   "cell_type": "code",
   "execution_count": null,
   "metadata": {},
   "outputs": [],
   "source": [
    "colores=S4.coloring(hex_colors=True)\n",
    "S4.plot(figsize=3,vertex_size=600,vertex_colors=colores)"
   ]
  },
  {
   "cell_type": "markdown",
   "metadata": {},
   "source": [
    "<p>Como vemos, el número cromático sigue siendo igual a $4$ y una solución ahora sería asignando 3 al \"azul\", 2 al \"cyan\", 1 al \"verde\" y 4 al \"rojo\"</p>\n",
    "<p>En este caso el número de soluciones se reduce:</p>"
   ]
  },
  {
   "cell_type": "code",
   "execution_count": null,
   "metadata": {},
   "outputs": [],
   "source": [
    "soluciones=[coloracion for coloracion in all_graph_colorings(S4,4)]\n",
    "print(len(soluciones)/24)"
   ]
  },
  {
   "cell_type": "code",
   "execution_count": null,
   "metadata": {},
   "outputs": [],
   "source": []
  },
  {
   "cell_type": "markdown",
   "metadata": {},
   "source": [
    "<p>Si nos encontramos con un sudoku que ha de tener el mismo número en dos de sus casillas, bastará añadir todas las aristas desde una de ellas a todas las casillas adyacentes a la otra y viceversa. Por ejemplo si queremos resolver el sudoku siguiente, hemos de añadir las aristas $\\{(2,1),(1,3) \\}$, $\\{(2,1),(4,3) \\}$, $\\{(2,1),(3,2) \\}$, $\\{(2,1),(3,4) \\}$, $\\{(2,1), (4,4) \\}$, $\\{(3,3), (1,1)\\}$, $\\{(3,3), (4,1)\\}$, $\\{(3,3),(2,2) \\}$, $\\{(3,3),(2,4) \\}$  y $\\{(3,3),(1,2) \\}$</p>\n",
    "<table style=\"margin-left: auto; margin-right: auto; width: 182px; height: 195px;\"\n",
    "cellspacing=\"0\" cellpadding=\"12\" border: \"1\" border-collapse: collapse;>\n",
    "<tbody>\n",
    "<tr>\n",
    "<td style=\"border: black 1px solid;\"> </td>\n",
    "<td style=\"border: black 1px solid;\"> </td>\n",
    "<td style=\"border: black 1px solid;\"> </td>\n",
    "<td style=\"border: black 1px solid;\"> </td>\n",
    "</tr>\n",
    "<tr>\n",
    "<td style=\"border: black 1px solid; text-align:center;\">1</td>\n",
    "<td style=\"border: black 1px solid;\"> </td>\n",
    "<td style=\"border: black 1px solid;\"> </td>\n",
    "<td style=\"border: black 1px solid;\"> </td>\n",
    "</tr>\n",
    "<tr>\n",
    "<td style=\"border: black 1px solid;\"> </td>\n",
    "<td style=\"border: black 1px solid;\"> </td>\n",
    "<td style=\"border: black 1px solid; text-align:center;\">1</td>\n",
    "<td style=\"border: black 1px solid;\"> </td>\n",
    "</tr>\n",
    "<tr>\n",
    "<td style=\"border: black 1px solid;\"> </td>\n",
    "<td style=\"border: black 1px solid;\"> </td>\n",
    "<td style=\"border: black 1px solid;\"> </td>\n",
    "<td style=\"border: black 1px solid;\"> </td>\n",
    "</tr>\n",
    "</tbody>\n",
    "</table>"
   ]
  },
  {
   "cell_type": "code",
   "execution_count": null,
   "metadata": {},
   "outputs": [],
   "source": [
    "S4=copy(S4_blanco)\n",
    "S4.add_edges([((2,1),(1,3)),  ((2,1),(4,3)), ((2,1),(3,2)), ((2,1),(3,4)), ((2,1),(4,4)), ((3,3),(1,1)), ((3,3),(4,1)), ((3,3),(2,2)), ((3,3),(2,4)), ((3,3),(1,2))])"
   ]
  },
  {
   "cell_type": "code",
   "execution_count": null,
   "metadata": {},
   "outputs": [],
   "source": [
    "S4.chromatic_number()"
   ]
  },
  {
   "cell_type": "code",
   "execution_count": null,
   "metadata": {},
   "outputs": [],
   "source": [
    "colores=S4.coloring(hex_colors=True)\n",
    "S4.plot(figsize=3,vertex_size=600,vertex_colors=colores)"
   ]
  },
  {
   "cell_type": "markdown",
   "metadata": {},
   "source": [
    "<p>Y ahora una solución será asignando 1 al \"azul, 2 al \"rojo\", 3 al \"cyan\" y 4 al \"verde\".</p>\n",
    "<p>En cuanto al número de soluciones:</p>"
   ]
  },
  {
   "cell_type": "code",
   "execution_count": null,
   "metadata": {},
   "outputs": [],
   "source": [
    "soluciones=[coloracion for coloracion in all_graph_colorings(S4,4)]\n",
    "print(len(soluciones)/24)"
   ]
  },
  {
   "cell_type": "markdown",
   "metadata": {},
   "source": [
    "<p>Combinando las dos opciones, resolvamos el siguiente sudoku:</p>\n",
    "<table style=\"margin-left: auto; margin-right: auto; width: 182px; height: 195px;\"\n",
    "cellspacing=\"0\" cellpadding=\"12\" border: \"1\" border-collapse: collapse;>\n",
    "<tbody>\n",
    "<tr>\n",
    "<td style=\"border: black 1px solid;\"> </td>\n",
    "<td style=\"border: black 1px solid;\"> </td>\n",
    "<td style=\"border: black 1px solid;\"> </td>\n",
    "<td style=\"border: black 1px solid; text-align:center;\">3</td>\n",
    "</tr>\n",
    "<tr>\n",
    "<td style=\"border: black 1px solid; text-align:center;\">1</td>\n",
    "<td style=\"border: black 1px solid;\"> </td>\n",
    "<td style=\"border: black 1px solid;\"> </td>\n",
    "<td style=\"border: black 1px solid;\"> </td>\n",
    "</tr>\n",
    "<tr>\n",
    "<td style=\"border: black 1px solid;\"> </td>\n",
    "<td style=\"border: black 1px solid;\"> </td>\n",
    "<td style=\"border: black 1px solid; text-align:center;\">1</td>\n",
    "<td style=\"border: black 1px solid;\"> </td>\n",
    "</tr>\n",
    "<tr>\n",
    "<td style=\"border: black 1px solid;\"> </td>\n",
    "<td style=\"border: black 1px solid; text-align:center;\"> 2</td>\n",
    "<td style=\"border: black 1px solid;\"> </td>\n",
    "<td style=\"border: black 1px solid;\"> </td>\n",
    "</tr>\n",
    "</tbody>\n",
    "</table>"
   ]
  },
  {
   "cell_type": "code",
   "execution_count": null,
   "metadata": {},
   "outputs": [],
   "source": [
    "S4=copy(S4_blanco)\n",
    "#casillas del mismo color\n",
    "S4.add_edges([((2,1),(1,3)),  ((2,1),(4,3)), ((2,1),(3,2)), ((2,1),(3,4)), ((2,1),(4,4)), ((3,3),(1,1)), ((3,3),(4,1)), ((3,3),(2,2)), ((3,3),(2,4)), ((3,3),(1,2))])\n",
    "#casillas de distinto color\n",
    "S4.add_edges([((1,4),(4,2)),((1,4),(2,1)),((2,1),(4,2))])"
   ]
  },
  {
   "cell_type": "code",
   "execution_count": null,
   "metadata": {},
   "outputs": [],
   "source": [
    "S4.chromatic_number()"
   ]
  },
  {
   "cell_type": "markdown",
   "metadata": {},
   "source": [
    "<p>Ahora el número cromático del grafo es $5$ y por lo tanto se necesitarán $5$ colores ($5$ números) por lo que nuestro sudoku no tiene solución.</p>"
   ]
  },
  {
   "cell_type": "code",
   "execution_count": null,
   "metadata": {},
   "outputs": [],
   "source": [
    "soluciones=[coloracion for coloracion in all_graph_colorings(S4,4)]\n",
    "print(len(soluciones)/24)"
   ]
  },
  {
   "cell_type": "code",
   "execution_count": null,
   "metadata": {},
   "outputs": [],
   "source": []
  },
  {
   "cell_type": "markdown",
   "metadata": {},
   "source": [
    "<p><strong>EJERCICIO 7</strong>: Resolver el siguiente sudoku. ¿Cuántas soluciones distintas tiene?</p>\n",
    "<table style=\"margin-left: auto; margin-right: auto; width: 182px; height: 195px;\"\n",
    "cellspacing=\"0\" cellpadding=\"12\" border: \"1\" border-collapse: collapse;>\n",
    "<tbody>\n",
    "<tr>\n",
    "<td style=\"border: black 1px solid;\"> </td>\n",
    "<td style=\"border: black 1px solid;\"> </td>\n",
    "<td style=\"border: black 1px solid; text-align:center;\">3</td>\n",
    "<td style=\"border: black 1px solid;\"> </td>\n",
    "</tr>\n",
    "<tr>\n",
    "<td style=\"border: black 1px solid; text-align:center;\">1</td>\n",
    "<td style=\"border: black 1px solid;\"> </td>\n",
    "<td style=\"border: black 1px solid;\"> </td>\n",
    "<td style=\"border: black 1px solid;\"> </td>\n",
    "</tr>\n",
    "<tr>\n",
    "<td style=\"border: black 1px solid; text-align:center;\">2</td>\n",
    "<td style=\"border: black 1px solid;\"> </td>\n",
    "<td style=\"border: black 1px solid; text-align:center;\">1</td>\n",
    "<td style=\"border: black 1px solid;\"> </td>\n",
    "</tr>\n",
    "<tr>\n",
    "<td style=\"border: black 1px solid;\"> </td>\n",
    "<td style=\"border: black 1px solid;\"> </td>\n",
    "<td style=\"border: black 1px solid;\"> </td>\n",
    "<td style=\"border: black 1px solid;\"> </td>\n",
    "</tr>\n",
    "</tbody>\n",
    "</table>"
   ]
  },
  {
   "cell_type": "code",
   "execution_count": null,
   "metadata": {},
   "outputs": [],
   "source": []
  },
  {
   "cell_type": "code",
   "execution_count": null,
   "metadata": {},
   "outputs": [],
   "source": []
  },
  {
   "cell_type": "code",
   "execution_count": null,
   "metadata": {},
   "outputs": [],
   "source": []
  },
  {
   "cell_type": "code",
   "execution_count": null,
   "metadata": {},
   "outputs": [],
   "source": []
  },
  {
   "cell_type": "markdown",
   "metadata": {},
   "source": [
    "<h2><a name=\"caristas\"></a><strong>4. Coloración de aristas</strong></h2>\n",
    "<p>Sage no dispone de funciones concernientes al coloreado de aristas de un grafo: coloración de aristas, índice cromático, etc. No obstante dispone de una librería externa que contiene funciones de coloración de grafos, entre ellas la coloración de aristas. Esta librería se llama \"<em>sage.graphs.graph_coloring</em>\". Entre las funciones incluidas en esta librería se encuentra la función \"<em>edge_coloring</em>\" que nos permite tratar la coloración de aristas de un grafo. Para poder usar esta función habrá que cargarla con la orden \"<em>from sage.graphs.graph_coloring import edge_coloring</em>\".</p>"
   ]
  },
  {
   "cell_type": "code",
   "execution_count": null,
   "metadata": {},
   "outputs": [],
   "source": [
    "G=graphs.RandomGNP(10,0.8)\n",
    "G.plot(figsize=5,layout='circular')"
   ]
  },
  {
   "cell_type": "code",
   "execution_count": null,
   "metadata": {},
   "outputs": [],
   "source": [
    "from sage.graphs.graph_coloring import edge_coloring"
   ]
  },
  {
   "cell_type": "code",
   "execution_count": null,
   "metadata": {},
   "outputs": [],
   "source": [
    "edge_coloring(G)"
   ]
  },
  {
   "cell_type": "markdown",
   "metadata": {},
   "source": [
    "<p>Si utilizamos esta orden con el parámetro \"value_only=True\" nos dará el <span style=\"text-decoration: underline;\">índice cromático</span> del grafo, $\\chi^1(G)$.</p>"
   ]
  },
  {
   "cell_type": "code",
   "execution_count": null,
   "metadata": {},
   "outputs": [],
   "source": [
    "edge_coloring(G,value_only=True)"
   ]
  },
  {
   "cell_type": "markdown",
   "metadata": {},
   "source": [
    "<p>Con el parámetro \"<em>hex_colors=True</em>\" la orden \"<em>edge_coloring</em>\" nos devuelve, en forma de diccionario, los colores otorgados a las aristas. Esto nos permitirá dibujar el grafo con las aristas coloreadas.</p>"
   ]
  },
  {
   "cell_type": "code",
   "execution_count": null,
   "metadata": {},
   "outputs": [],
   "source": [
    "colores=edge_coloring(G,hex_colors=True)\n",
    "G.plot(figsize=5,layout='circular',edge_colors=colores)"
   ]
  },
  {
   "cell_type": "markdown",
   "metadata": {},
   "source": [
    "<p>No obstante Sage dispone de una funci&oacute;n específica para obtener el &iacute;ndice crom&aacute;tico (n&uacute;mero crom&aacute;tico por aristas) de un grafo: La sentencia <em>\"G.chromatic_index()\"</em> devuelve el &iacute;ndice crom&aacute;tico del grafo G.&nbsp;</p>"
   ]
  },
  {
   "cell_type": "code",
   "execution_count": null,
   "metadata": {},
   "outputs": [],
   "source": [
    "G.chromatic_index()"
   ]
  },
  {
   "cell_type": "markdown",
   "metadata": {},
   "source": [
    "<p> </p>\n",
    "<p>El teorema de Vizing nos afirma que si $\\Delta$ es la valencia máxima del grafo $G$ entonces $\\Delta\\le \\chi^1(G)\\le \\Delta+1$. Comprobemos este resultado.</p>"
   ]
  },
  {
   "cell_type": "code",
   "execution_count": null,
   "metadata": {},
   "outputs": [],
   "source": [
    "print(\"El grafo tiene valencia máxima= \",max(G.degree()))   #max devuelve el mayor valor de una lista\n",
    "print(\"Y su índice cromático vale \",G.chromatic_index())"
   ]
  },
  {
   "cell_type": "code",
   "execution_count": null,
   "metadata": {},
   "outputs": [],
   "source": []
  },
  {
   "cell_type": "markdown",
   "metadata": {},
   "source": [
    "<p><strong>EJERCICIO 8</strong>: Obtener el índice cromático de los grafos completos $K_n$ y de los grafos ciclo $C_n$, en función de $n$.</p>\n",
    "<p>NOTA: Obtener el índice cromático de $K_n$ y $C_n$, para algunos valores de $n$ y conjeturar cuanto valdría en general, según los valores de $n$</p>"
   ]
  },
  {
   "cell_type": "code",
   "execution_count": null,
   "metadata": {},
   "outputs": [],
   "source": []
  },
  {
   "cell_type": "code",
   "execution_count": null,
   "metadata": {},
   "outputs": [],
   "source": []
  },
  {
   "cell_type": "markdown",
   "metadata": {},
   "source": [
    "<p>Veamos la <strong>relación de la arista-coloración de un grafo con la vértice-coloración de su grafo de línea</strong>.</p>\n",
    "<p>Como el grafo de línea $L(G)$ de un grafo $G$ tiene por vértices las aristas del grafo original y dos vértices de $L(G)$ (aristas de $G$) son adyacentes en el grafo $L(G)$ si las correspondientes aristas de $G$ inciden en un vértice, toda vértice-coloración del grafo de línea $L(G)$ será una arista-coloración del grafo $G$ y viceversa, siendo por tanto el número cromático del grafo de línea $L(G)$ igual al índice cromático del grafo $G$, $\\chi^1(G)=\\chi(L(G))$.</p>\n"
   ]
  },
  {
   "cell_type": "markdown",
   "metadata": {},
   "source": [
    "<p><strong>EJERCICIO 9</strong>: Generar un grafo aleatorio $G$ y comprobar que $\\chi^1(G)=\\chi(L(G))$.</p>\n",
    "<p>NOTA: El grafo de línea de un grafo $G$ se obtiene con el método \"<em>G.line_graph()</em>\".</p>"
   ]
  },
  {
   "cell_type": "code",
   "execution_count": null,
   "metadata": {},
   "outputs": [],
   "source": []
  },
  {
   "cell_type": "code",
   "execution_count": null,
   "metadata": {},
   "outputs": [],
   "source": []
  },
  {
   "cell_type": "code",
   "execution_count": null,
   "metadata": {},
   "outputs": [],
   "source": []
  },
  {
   "cell_type": "code",
   "execution_count": null,
   "metadata": {},
   "outputs": [],
   "source": []
  },
  {
   "cell_type": "markdown",
   "metadata": {},
   "source": [
    "<p>A continuación veremos una aplicación de la coloración de aristas de un grafo.</p>\n",
    "<p>Nos planteamos elaborar un calendario deportivo para una liga en la que los partidos se juegan sólo a una vuelta. Los equipos implicados en la liga son: 0.Barcelona, 1.Betis, 2.At. Bilbao, 3.Español, 4.Málaga, 5.R. Madrid, 6.Sevilla, 7.Valencia, 8.Villarreal y 9.Zaragoza,</p>\n",
    "<p>Para resolver el problema, en primer lugar, modelamos el problema mediante un grafo. Si consideramos que cada vértice representa uno de los equipos y que las aristas son los partidos, como cada equipo juega contra todos los demás, el grafo que nos queda es un grafo completo de 10 vértices.</p>"
   ]
  },
  {
   "cell_type": "code",
   "execution_count": null,
   "metadata": {},
   "outputs": [],
   "source": [
    "k10=graphs.CompleteGraph(10)\n",
    "k10.plot(figsize=5,layout='spring')"
   ]
  },
  {
   "cell_type": "markdown",
   "metadata": {},
   "source": [
    "<p>Una vez que tenemos definido el grafo, para dar un calendario de liga tendríamos que agrupar los partidos (aristas) en jornadas, de manera que dos partidos en los que aparece un mismo equipo no pueden darse en la misma jornada. Este, por tanto, es un problema de arista coloración. Sabemos que el índice cromático de un grafo completo de un número par de vértices coincide con la valencia máxima del grafo, por lo que en este caso, el índice cromático será 9. En definitiva, el problema que tenemos es hacer una arista coloración con 9 colores.</p>"
   ]
  },
  {
   "cell_type": "code",
   "execution_count": null,
   "metadata": {},
   "outputs": [],
   "source": [
    "edge_coloring(k10)"
   ]
  },
  {
   "cell_type": "markdown",
   "metadata": {},
   "source": [
    "<p>Por tanto un calendario de liga podría ser:</p>\n",
    "<table border=\"0\">\n",
    "<tbody>\n",
    "<tr>\n",
    "<td>Jornada</td>\n",
    "<td> </td>\n",
    "<td> </td>\n",
    "<td> </td>\n",
    "<td> </td>\n",
    "<td> </td>\n",
    "</tr>\n",
    "<tr>\n",
    "<td>1</td>\n",
    "<td>Barcelona-Zaragoza</td>\n",
    "<td>Betis-Villarreal</td>\n",
    "<td>At.Bilbao-Valencia</td>\n",
    "<td>Español-Sevilla</td>\n",
    "<td>Málaga-R.Madrid</td>\n",
    "</tr>\n",
    "<tr>\n",
    "<td>2</td>\n",
    "<td>Barcelona-At.Bilbao</td>\n",
    "<td>Betis-Zaragoza</td>\n",
    "<td>Español-Villarreal</td>\n",
    "<td>Málaga-Valencia</td>\n",
    "<td>R.Madrid-Sevilla</td>\n",
    "</tr>\n",
    "<tr>\n",
    "<td>3</td>\n",
    "<td>Barcelona-Málaga</td>\n",
    "<td>Betis-Español</td>\n",
    "<td>At.Bilbao-Zaragoza</td>\n",
    "<td>R.Madrid-Villarreal</td>\n",
    "<td>Sevilla-Valencia</td>\n",
    "</tr>\n",
    "<tr>\n",
    "<td>4</td>\n",
    "<td>Barcelona-Sevilla</td>\n",
    "<td>Betis-R.Madrid</td>\n",
    "<td>At.Bilbao-Málaga</td>\n",
    "<td>Español-Zaragoza</td>\n",
    "<td>Valencia-Villarreal</td>\n",
    "</tr>\n",
    "<tr>\n",
    "<td>5</td>\n",
    "<td>Barcelona-Villarreal</td>\n",
    "<td>Betis-Valencia</td>\n",
    "<td>At.Bilbao-Sevilla</td>\n",
    "<td>Español-R.Madrid</td>\n",
    "<td>Málaga-Zaragoza</td>\n",
    "</tr>\n",
    "<tr>\n",
    "<td>6</td>\n",
    "<td>Barcelona-Betis</td>\n",
    "<td>At.Bilbao-Villarreal</td>\n",
    "<td>Español-Valencia</td>\n",
    "<td>Málaga-Sevilla</td>\n",
    "<td>R.Madrid-Zaragoza</td>\n",
    "</tr>\n",
    "<tr>\n",
    "<td>7</td>\n",
    "<td>Barcelona-Español</td>\n",
    "<td>Betis-At.Bilbao</td>\n",
    "<td>Málaga-Villarreal</td>\n",
    "<td>R.Madrid-Valencia</td>\n",
    "<td>Sevilla-Zaragoza</td>\n",
    "</tr>\n",
    "<tr>\n",
    "<td>8</td>\n",
    "<td>Barcelona-R.Madrid</td>\n",
    "<td>Betis-Málaga</td>\n",
    "<td>At.Bilbao-Español</td>\n",
    "<td>Sevilla-Villarreal</td>\n",
    "<td>Valencia-Zaragoza</td>\n",
    "</tr>\n",
    "<tr>\n",
    "<td>9</td>\n",
    "<td>Barcelona-Valencia</td>\n",
    "<td>Betis-Sevilla</td>\n",
    "<td>At.Bilbao-R.Madrid</td>\n",
    "<td>Español-Málaga</td>\n",
    "<td>Villarreal-Zaragoza</td>\n",
    "</tr>\n",
    "</tbody>\n",
    "</table>"
   ]
  },
  {
   "cell_type": "code",
   "execution_count": null,
   "metadata": {},
   "outputs": [],
   "source": []
  },
  {
   "cell_type": "markdown",
   "metadata": {},
   "source": [
    "<h1><a name=\"cuestiones\"></a><strong>Otros ejercicios propuestos</strong></h1>\n",
    "<p style=\"text-align: left;\"><strong>EJERCICIO 10</strong>:El grafo siguiente representa una barriada de una ciudad, siendo las aristas sus calles. La empresa responsable de la limpieza dispone de diferentes camiones de recogida de basuras y cada camión realiza un turno comenzando en un determinado punto y, sin pasar dos veces por la misma calle, va recogiendo la basura mientras le sea posible. Determinar el número de camiones necesarios y cuáles han de ser los itinerarios de cada camión.</p>"
   ]
  },
  {
   "cell_type": "code",
   "execution_count": null,
   "metadata": {},
   "outputs": [],
   "source": [
    "Gr=Graph({0:[1,2,3,4,5,6,7,9,10,11,12,15,16,19],1:[0,2,6,12],2:[0,1,3,13,19],3:[0,2,4,8,14],4:[0,3],5:[0,11,14],6:[0,1,9,12,17,18],7:[0,10,15],8:[3,19],9:[0,6,15,17,18],10:[0,7,15],11:[0,5],12:[0,1,6,13],13:[2,12],14:[3,5,19],15:[0,7,9,10,16],16:[0,15],17:[6,9,18],18:[6,9,17],19:[0,2,8,14]})"
   ]
  },
  {
   "cell_type": "code",
   "execution_count": null,
   "metadata": {},
   "outputs": [],
   "source": []
  },
  {
   "cell_type": "code",
   "execution_count": null,
   "metadata": {},
   "outputs": [],
   "source": []
  },
  {
   "cell_type": "code",
   "execution_count": null,
   "metadata": {},
   "outputs": [],
   "source": []
  },
  {
   "cell_type": "markdown",
   "metadata": {},
   "source": [
    "<p><strong>EJERCICIO 11</strong>: Comprobar que el grafo siguiente es hamiltoniano pero en cambio no verifica la condición suficiente dada por el teorema de Ore. ¿Qué pareja de vértices no cumple la condición del teorema y cuánto valen sus valencias?</p>"
   ]
  },
  {
   "cell_type": "code",
   "execution_count": null,
   "metadata": {},
   "outputs": [],
   "source": [
    "Gr=Graph({0:[1,3,5,6,8,9,10,14,15,16,17,18,19],1:[0,2,3,4,5,6,7,8,9,11,13,16,17,18],2:[1,3,4,5,7,8,11,12,14,16,18],3:[0,1,2,4,5,7,10,11,13,14,15,16,17,18,19],4:[1,2,3,5,7,8,11,12,14,15,17],5:[0,1,2,3,4,7,8,10,11,12,13,14,17,18],6:[0,1,7,8,9,11,12,13,14,15,19],7:[1,2,3,4,5,6,8,9,12,13,14,17],8:[0,1,2,4,5,6,7,10,12,13,15,16,17,18,19],9:[0,1,6,7,10,12,17,19],10:[0,3,5,8,9,13,16,19],11:[1,2,3,4,5,6,12,13,14,15,16,18],12:[2,4,5,6,7,8,9,11,13,16,17,19],13:[1,3,5,6,7,8,10,11,12,15,16],14:[0,2,3,4,5,6,7,11,15,16,18,19],15:[0,3,4,6,8,11,13,14,18,19],16:[0,1,2,3,8,10,11,12,13,14,17,18],17:[0,1,3,4,5,7,8,9,12,16],18:[0,1,2,3,5,8,11,14,15,16],19:[0,3,6,8,9,10,12,14,15]})"
   ]
  },
  {
   "cell_type": "code",
   "execution_count": null,
   "metadata": {},
   "outputs": [],
   "source": []
  },
  {
   "cell_type": "code",
   "execution_count": null,
   "metadata": {},
   "outputs": [],
   "source": []
  },
  {
   "cell_type": "code",
   "execution_count": null,
   "metadata": {},
   "outputs": [],
   "source": []
  },
  {
   "cell_type": "markdown",
   "metadata": {},
   "source": [
    "<p><strong>EJERCICIO 12</strong>:  Una pandilla de amigos está formada por 5 parejas: Charo y Juan, Pepe y Ainhoa, Jennifer y Tristán, Leo y Ramón, y Virginia y Paco. Antes de cada Navidad se reunen para poner en práctica el juego \"tu amigo invisible\", consistente en realizar un sorteo anónimo, de forma que cada uno de ellos ha de hacerle un regalo a otro el día de Navidad.</p>\n",
    "<p>Antes del sorteo de este año se ponen de acuerdo en establecer algunas normas adicionales:</p>\n",
    "<p>a) Nadie puede regalarle a su pareja,</p>\n",
    "<p>b) A nadie le toque regalar al mismo del año anterior, que fueron Juan a Pepe, Pepe a Virginia,  Virginia a Ramón, Ramón a Tristán, Tristán a Leo, Leo a Paco, Paco a Jennifer, Jennifer a Charo, Charo a Ainhoa y Ainhoa a Juan.</p>\n",
    "<p>NOTA: El problema se puede modelizar con un grafo dirigido en el que un ciclo hamiltoniano nos aportaría la solución.</p>"
   ]
  },
  {
   "cell_type": "code",
   "execution_count": null,
   "metadata": {},
   "outputs": [],
   "source": []
  },
  {
   "cell_type": "code",
   "execution_count": null,
   "metadata": {},
   "outputs": [],
   "source": []
  },
  {
   "cell_type": "code",
   "execution_count": null,
   "metadata": {},
   "outputs": [],
   "source": []
  },
  {
   "cell_type": "markdown",
   "metadata": {},
   "source": [
    "<p style=\"text-align: left;\"><strong>EJERCICIO 13</strong>: Extendiendo el concepto de grafo bipartito podemos definir los grafos tripartitos, cuatripartitos, y en general multipartitos. En Sage el <strong>grafo tripartito completo $K_{m,n,p}$</strong> se encuentra en la librería graphs: \"<em>graphs.CompleteMultipartiteGraph([m,n,p])</em>\".</p>\n",
    "<p style=\"text-align: left;\">a) Obtener una condición necesaria y suficiente para que $K_{m,n,p}$, con $m\\le n\\le p$, sea euleriano.</p>\n",
    "<p style=\"text-align: left;\">b) Indicar una condición necesaria y suficiente para que $K_{m,n,p}$, con $m\\le n\\le p$, sea hamiltoniano.</p>\n",
    "<p style=\"text-align: left;\">NOTA: Se recomienda, anidando tres ciclos, estudiarlos para distintos valores de $m,n,p$.</p>"
   ]
  },
  {
   "cell_type": "code",
   "execution_count": null,
   "metadata": {},
   "outputs": [],
   "source": []
  },
  {
   "cell_type": "code",
   "execution_count": null,
   "metadata": {},
   "outputs": [],
   "source": []
  },
  {
   "cell_type": "code",
   "execution_count": null,
   "metadata": {},
   "outputs": [],
   "source": []
  },
  {
   "cell_type": "markdown",
   "metadata": {},
   "source": [
    "<p><strong>EJERCICIO 14</strong>: Obtener ordenaciones de los vértices del grafo siguiente para las que el algoritmo voraz devuelve coloraciones con $4$, $5$ y $6$ colores.</p>"
   ]
  },
  {
   "cell_type": "code",
   "execution_count": null,
   "metadata": {},
   "outputs": [],
   "source": [
    "Gr=Graph({0:[2,5,8,9,13,18],1:[9,14,17],2:[0,18],3:[5,8,9,10],4:[5,7,17,18],5:[0,3,4,10,18],6:[11,13,14,19],7:[4,10,12,18],8:[0,3,18],9:[0,1,3,10],10:[3,5,7,9,11,15,17,18],11:[6,10,12,13,17],12:[7,11,15,19],13:[0,6,11,15,19],14:[1,6],15:[10,12,13,17,19],16:[],17:[1,4,10,11,15,18,19],18:[0,2,4,5,7,8,10,17],19:[6,12,13,15,17]})"
   ]
  },
  {
   "cell_type": "code",
   "execution_count": null,
   "metadata": {},
   "outputs": [],
   "source": []
  },
  {
   "cell_type": "code",
   "execution_count": null,
   "metadata": {},
   "outputs": [],
   "source": []
  },
  {
   "cell_type": "code",
   "execution_count": null,
   "metadata": {},
   "outputs": [],
   "source": []
  },
  {
   "cell_type": "markdown",
   "metadata": {},
   "source": [
    "<p><strong>EJERCICIO 15</strong>:  Sea $G_r$ el siguiente grafo disconexo. Probar que el número cromático del grafo $G_r$ coincide con el mayor de los números cromáticos de cada una de sus componentes conexas:</p>"
   ]
  },
  {
   "cell_type": "code",
   "execution_count": null,
   "metadata": {},
   "outputs": [],
   "source": [
    "Gr=Graph({0:[13,14],1:[9,24,27],2:[15,12,6,11,26],3:[5,24,27,18,7],4:[25,29,6],5:[19,10,27,17,24,3],6:[15,12,11,2,25,20,4],7:[3,18,9],8:[23,16,21,22,14],9:[7,1],10:[5,27,17,24,19],11:[15,12,6,2,26,20,28],12:[15,6,11,2],13:[22,0],14:[8,0],15:[12,6,11,2,25],16:[23,8,21],17:[27,24,19,5,10,18],18:[17,27,3,7],19:[24,5,27,17,10],20:[25,6,11],21:[23,8,16,22],22:[8,21,13],23:[8,16,21],24:[17,19,27,5,10,3,1],25:[15,6,26,20,4],26:[25,11,2,29],27:[17,10,24,19,5,3,18,1],28:[29,11],29:[26,4,28]})"
   ]
  },
  {
   "cell_type": "code",
   "execution_count": null,
   "metadata": {},
   "outputs": [],
   "source": []
  },
  {
   "cell_type": "code",
   "execution_count": null,
   "metadata": {},
   "outputs": [],
   "source": []
  },
  {
   "cell_type": "code",
   "execution_count": null,
   "metadata": {},
   "outputs": [],
   "source": []
  },
  {
   "cell_type": "markdown",
   "metadata": {},
   "source": [
    "<p><strong>EJERCICIO 16</strong>: Un Sudoku se dice único si tiene una única solución que cumpla los requisitos impuestos. Añadiendo al sudoku siguiente el mínimo número de condiciones, con números distintos a los ya expuestos, llegar a un sudoku único.</p>\n",
    "<table style=\"margin-left: auto; margin-right: auto; width: 182px; height: 195px;\"\n",
    "cellspacing=\"0\" cellpadding=\"12\" border: \"1\" border-collapse: collapse;>\n",
    "<tbody>\n",
    "<tr>\n",
    "<td style=\"border: black 1px solid; text-align:center;\">1</td>\n",
    "<td style=\"border: black 1px solid;\"> </td>\n",
    "<td style=\"border: black 1px solid;\"> </td>\n",
    "<td style=\"border: black 1px solid;\"> </td>\n",
    "</tr>\n",
    "<tr>\n",
    "<td style=\"border: black 1px solid;\"> </td>\n",
    "<td style=\"border: black 1px solid;\"> </td>\n",
    "<td style=\"border: black 1px solid;\"> </td>\n",
    "<td style=\"border: black 1px solid;\"> </td>\n",
    "</tr>\n",
    "<tr>\n",
    "<td style=\"border: black 1px solid;\"> </td>\n",
    "<td style=\"border: black 1px solid;\"> </td>\n",
    "<td style=\"border: black 1px solid;\"> </td>\n",
    "<td style=\"border: black 1px solid;\"> </td>\n",
    "</tr>\n",
    "<tr>\n",
    "<td style=\"border: black 1px solid;\"> </td>\n",
    "<td style=\"border: black 1px solid;\"> </td>\n",
    "<td style=\"border: black 1px solid;\"> </td>\n",
    "<td style=\"border: black 1px solid; text-align:center;\">1</td>\n",
    "</tr>\n",
    "</tbody>\n",
    "</table>"
   ]
  },
  {
   "cell_type": "code",
   "execution_count": null,
   "metadata": {},
   "outputs": [],
   "source": []
  },
  {
   "cell_type": "code",
   "execution_count": null,
   "metadata": {},
   "outputs": [],
   "source": []
  },
  {
   "cell_type": "code",
   "execution_count": null,
   "metadata": {},
   "outputs": [],
   "source": []
  },
  {
   "cell_type": "code",
   "execution_count": null,
   "metadata": {},
   "outputs": [],
   "source": []
  },
  {
   "cell_type": "code",
   "execution_count": null,
   "metadata": {},
   "outputs": [],
   "source": []
  },
  {
   "cell_type": "markdown",
   "metadata": {},
   "source": [
    "<p><strong>EJERCICIO 17</strong>: Encontrar un grafo de $10$ vértices cuyo índice cromático sea una unidad mayor que la valencia máxima: $\\chi^1(G)=\\Delta+1$ y dibujarlo con sus aristas coloreadas.</p>\n",
    "<p>NOTA: Sage puede tardar unos minutos en encontrar dicho grafo.</p>"
   ]
  },
  {
   "cell_type": "code",
   "execution_count": null,
   "metadata": {},
   "outputs": [],
   "source": []
  },
  {
   "cell_type": "markdown",
   "metadata": {},
   "source": [
    "<p><strong>EJERCICIO 18</strong>: En un Centro de Estudios en el que se imparten 25 asignaturas distintas se está organizando un par de eventos, por lo que se necesita:</p>\n",
    "<ol>\n",
    "<li>Elaborar un calendario de exámenes para las 25 asignaturas, de modo que los exámenes de dos asignaturas distintas no pueden coincidir en el mismo día si hay al menos un alumno matriculado en ambas. Indica cuántos días será necesario habilitar en el calendario de exámense y cómo distribuir los exámenes de manera que se utilice el menor número de días para hacer exámenes.</li>\n",
    "<li>Se pretende hacer unas jornadas de confraternización entre las clases de distintas asignaturas, de modo que se quiere agrupar las clases de dos en dos asignaturas distintas con las condiciones siguientes: dos clases de dos asignaturas distintas se pueden agrupar si tienen algún alumno en común. Cada día se quiere agrupar tantas asignaturas como sea posible, pero sólo se pueden agrupar en aulas con capacidad para dos asignaturas y también hay que tener en cuenta que las clases de una misma asignatura no pueden involucrarse en dos agrupaciones distintas en el mismo día. ¿Cuántos días se necesita para hacer esto? Averigua una forma óptima (en el menor número de días) para llevar a cabo la agrupación de asignaturas según estos requisitos.</li>\n",
    "</ol>\n",
    "<p>  En el siguiente grafo los vértices representan las asignaturas, mientras que las aristas indican que, las asignaturas correspondientes a los vértices que une, comparten al menos un alumno.</p>"
   ]
  },
  {
   "cell_type": "code",
   "execution_count": null,
   "metadata": {},
   "outputs": [],
   "source": [
    "Gr = Graph({0:[2,3,4,7,10,12,16],1:[2,3,4,5,17,20],2:[0,1,3,4,7,8,9,12,14,22,24],3:[0,1,2,4,5,6,7,10,11,13,16,17,23,24],4:[0,1,2,3,5,9,12,17,19,21,22,24],5:[1,3,4,15,23],6:[3,10,13,14,15,16,21,22],7:[0,2,3,11,14,15,16,17,19],8:[2,9,12,15,18,20,21,23,24],9:[2,4,8,12,13,17,19,20],10:[0,3,6,11,17,21],11:[3,7,10,12,14,15,19,22,23,24],12:[0,2,4,8,9,11,15,16,19,22,23],13:[3,6,9,17,18,20,23,24],14:[2,6,7,11,19,24],15:[5,6,7,8,11,12,16,18,19,20,22],16:[0,3,6,7,12,15,19],17:[1,3,4,7,9,10,13,18,19,20,21],18:[8,13,15,17,21],19:[4,7,9,11,12,14,15,16,17,20],20:[1,8,9,13,15,17,19,22],21:[4,6,8,10,17,18,22,24],22:[2,4,6,11,12,15,20,21,23,24],23:[3,5,8,11,12,13,22],24:[2,3,4,8,11,13,14,21,22]});"
   ]
  },
  {
   "cell_type": "code",
   "execution_count": null,
   "metadata": {},
   "outputs": [],
   "source": []
  },
  {
   "cell_type": "code",
   "execution_count": null,
   "metadata": {},
   "outputs": [],
   "source": []
  },
  {
   "cell_type": "code",
   "execution_count": null,
   "metadata": {},
   "outputs": [],
   "source": []
  },
  {
   "cell_type": "markdown",
   "metadata": {},
   "source": [
    "<p><strong>EJERCICIO 19</strong>: (Ex-30/01/12) Para $n\\ge 1$, sea $Gn$ el grafo de vértices $V=\\{1,2,3,4,\\dots,3n\\}$ y en el que dos vértices $i,j\\in V$ son adyacentes si, y sólo si, su producto $ij$ es múliplo de $3$.</p>\n",
    "<p>a) Calcular, según los valores de $n$, el número cromático del grafo $Gn$.</p>\n",
    "<p>b) Calcular, según los valores de $n$, el índice cromático del grafo $Gn$.</p>\n",
    "<p>NOTA: Obtener el  número e índice cromáticos de $Gn$ para varios valores de $n$ y conjeturar cuanto valdrá para $Gn$, en función de $n$.</p>"
   ]
  },
  {
   "cell_type": "code",
   "execution_count": null,
   "metadata": {
    "scrolled": true
   },
   "outputs": [],
   "source": []
  },
  {
   "cell_type": "code",
   "execution_count": null,
   "metadata": {},
   "outputs": [],
   "source": []
  }
 ],
 "metadata": {
  "kernelspec": {
   "display_name": "SageMath 9.1",
   "language": "sage",
   "name": "sagemath"
  },
  "language": "python",
  "language_info": {
   "codemirror_mode": {
    "name": "ipython",
    "version": 3
   },
   "file_extension": ".py",
   "mimetype": "text/x-python",
   "name": "python",
   "nbconvert_exporter": "python",
   "pygments_lexer": "ipython3",
   "version": "3.7.3"
  }
 },
 "nbformat": 4,
 "nbformat_minor": 2
}
