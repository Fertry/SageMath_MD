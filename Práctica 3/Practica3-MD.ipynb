{
 "cells": [
  {
   "cell_type": "markdown",
   "metadata": {},
   "source": [
    "<h3 style=\"text-align: center;\"> </h3>\n",
    "<h3 style=\"text-align: center;\"><strong>ESCUELA DE INGENIERÍA INFORMÁTICA - UNIVERSIDAD DE SEVILLA</strong></h3>\n",
    "<h3 style=\"text-align: center;\"><strong>GRADO EN INGENIERÍA INFORMÁTICA-TECNOLOGÍAS INFORMÁTICAS</strong></h3>\n",
    "<h1 style=\"font-size: 1em; text-align: center;\"><strong>MATEMÁTICA DISCRETA<br /></strong></h1>\n",
    "<h2 style=\"font-size: 1.17em; text-align: center;\"><strong>Práctica 3. Conectividad en grafos.<br /></strong></h2>\n",
    "<p>En esta tercera sesión nos marcamos como objetivos el estudio de los siguiente apartados:</p>\n",
    "<p> 1. <a href=\"#distancias_matriz\">Distancias y matriz de adyacencia</a> en un grafo. </p>\n",
    "<p> 2. <a href=\"#distancias_sage\">Distancias y elementos métricos con Sage</a>. </p>\n",
    "<p> 2. <a href=\"#conectiv\">Conectividad en grafos/digrafos</a>. </p>\n",
    "<p> 2. <a href=\"#kconect\">K-Conexión</a>. </p>\n",
    "<p> </p>\n",
    "<p>Al final de la práctica hay una  <a href=\"#cuestiones\">colección de otros ejercicios propuestos.</a></p>\n",
    "<h2><a name=\"distancias_matriz\"></a><strong>1.Distancias y matriz de adyacencia:</strong></h2>\n",
    "<p>En primer lugar, consideremos el siguiente grafo:</p>"
   ]
  },
  {
   "cell_type": "code",
   "execution_count": null,
   "metadata": {},
   "outputs": [],
   "source": [
    "G=Graph({0:[1,2], 1:[0,3],2:[1,3,4],3:[5,6],4:[1,0],5:[6],6:[5]})\n",
    "G.show()"
   ]
  },
  {
   "cell_type": "markdown",
   "metadata": {},
   "source": [
    "<p>Veamos su matriz de adyacencia y alguna de sus propiedades:</p>"
   ]
  },
  {
   "cell_type": "code",
   "execution_count": null,
   "metadata": {},
   "outputs": [],
   "source": [
    "A=G.adjacency_matrix()\n",
    "show(A)"
   ]
  },
  {
   "cell_type": "code",
   "execution_count": null,
   "metadata": {},
   "outputs": [],
   "source": [
    "print(A[0,2])\n",
    "print(A[0,3])"
   ]
  },
  {
   "cell_type": "markdown",
   "metadata": {},
   "source": [
    "<p>Obsérvese que $A_{0,2}=1$  porque existe una arista entre los vértices $0$ y $2$ (la distancia entre ellos es $1$), mientras que $A_{0,3}=0$ porque no existe ninguna arista entre los vértices $0$ y $3$ (la distancia entre ellos es mayor que $1$).</p>\n",
    "<p>Sin embargo, si elevamos dicha matriz al cuadrado:</p>"
   ]
  },
  {
   "cell_type": "code",
   "execution_count": null,
   "metadata": {},
   "outputs": [],
   "source": [
    "M=A^2\n",
    "show(M)"
   ]
  },
  {
   "cell_type": "code",
   "execution_count": null,
   "metadata": {},
   "outputs": [],
   "source": [
    "print(M[0,3])"
   ]
  },
  {
   "cell_type": "markdown",
   "metadata": {},
   "source": [
    "<p>La posición $(0,3)$ ya no es $0$. La razón es sencilla: existe camino de longitud $2$ entre $0$ y $3$. De hecho, $M_{0,3}=2$ porque hay <span style=\"text-decoration: underline;\">dos</span> caminos diferentes entre $0$ y $3$. Estos caminos son $0-1-3$ y $0-2-3$.</p>\n",
    "<p>Obsérvese tambien que $M_{0,0}=3$ porque existen tres caminos distintos de longitud $2$  desde el vértice $0$ a sí mismo, concretamente $0-1-0$, $0-2-0$ y $0-4-0$.</p>\n",
    "<p>A partir de la matriz $A^2$, ¿podrás deducir la valencia de los vértices?<p>\n",
    "<p>¿Qué representarán los elementos de $A^3$?</p>"
   ]
  },
  {
   "cell_type": "code",
   "execution_count": null,
   "metadata": {},
   "outputs": [],
   "source": [
    "A3=A^3\n",
    "show(A3)"
   ]
  },
  {
   "cell_type": "markdown",
   "metadata": {},
   "source": [
    "<p>Puede apreciarse que el elemento $(i,j)$ de la matriz $A^3$ representa el número de caminos de longitud $3$ entre los vértices $i$ y $j$.</p>\n",
    "<p>En general,<em> el elemento $(i,j)$ de la matriz $A^k$, siendo $A$ la matriz de adyacencia de un grafo (o digrafo), representa el número de caminos distintos de longitud $k$ entre los vértices $i$ y $j$.</em></p>"
   ]
  },
  {
   "cell_type": "code",
   "execution_count": null,
   "metadata": {},
   "outputs": [],
   "source": []
  },
  {
   "cell_type": "markdown",
   "metadata": {},
   "source": [
    "<p><strong>EJEMPLO 1</strong>: Estudiando las potencias de la matriz $A$ de adyacencia (concretamente $A³$) podemos responder a cuestiones como las siguientes:</p>\n",
    "<p>a) ¿Qué representa el elemento $(i,i)$ de la matriz $A³$?</p>\n",
    "<p>b) ¿A cuantos tríangulos (ciclos de longitud 3) pertenece el vértice $2$?</p>\n",
    "\n",
    "<p>Según hemos comentado, el elemento $(i,i)$ de la matriz $A^3$  representa el número de caminos de longitud $3$ entre el vértice $i$ y el propio vértice $i$. Pero teniendo en cuenta que  cada triańgulo nos da dos de estos caminos de longitud $3$  (los caminos $i-j-k-i$    e   $i-k-j-i$ aparecen contados como dos caminos distintos pero son el mismo triángulo), el elemento $(i,i)$ de la matriz $A^3$ representará el doble del número de triángulos en los que aparece el vértice $i$.</p>"
   ]
  },
  {
   "cell_type": "code",
   "execution_count": null,
   "metadata": {},
   "outputs": [],
   "source": [
    "print(A3[2,2]/2)  #Solución del apartado b)"
   ]
  },
  {
   "cell_type": "markdown",
   "metadata": {},
   "source": [
    "<p><strong>EJERCICIO 1</strong>: ¿Cuántos triángulos tiene el grafo $G$?</p>"
   ]
  },
  {
   "cell_type": "code",
   "execution_count": null,
   "metadata": {},
   "outputs": [],
   "source": [
    "G=Graph({0:[1,2], 1:[0,3],2:[1,3,4],3:[5,6],4:[1,0],5:[6],6:[5]})"
   ]
  },
  {
   "cell_type": "code",
   "execution_count": null,
   "metadata": {},
   "outputs": [],
   "source": []
  },
  {
   "cell_type": "markdown",
   "metadata": {},
   "source": [
    "<h2><a name=\"distancias_sage\"></a>2. Distancias y elementos métricos con Sage</h2>\n",
    "<p>Como no podía ser de otra manera, Sage nos permite calcular los distintos elementos métricos de un grafo. Nos permite por ejemplo calcular:</p>\n",
    "<p>La <strong>distancia</strong> entre dos vértices (longitud del camino más corto entre ellos),</p>"
   ]
  },
  {
   "cell_type": "code",
   "execution_count": null,
   "metadata": {},
   "outputs": [],
   "source": [
    "G=Graph({0:[1,2], 1:[0,3],2:[1,3,4],3:[5,6],4:[1,0],5:[6],6:[5]})\n",
    "G.plot(figsize=3)"
   ]
  },
  {
   "cell_type": "code",
   "execution_count": null,
   "metadata": {},
   "outputs": [],
   "source": [
    "#La siguiente orden nos da la distancia entre dos vértices\n",
    "#Si no están en la misma componente conexa nos da +Infinity\n",
    "G.distance(4,6)"
   ]
  },
  {
   "cell_type": "markdown",
   "metadata": {},
   "source": [
    "<p>La <strong>excentricidad</strong> de los vértices (la excentricidad de un vértice es la distancia desde dicho vértice a su vértice más alejado):</p>"
   ]
  },
  {
   "cell_type": "code",
   "execution_count": null,
   "metadata": {},
   "outputs": [],
   "source": [
    "print(G.eccentricity(0))\n",
    "print(G.eccentricity(3))"
   ]
  },
  {
   "cell_type": "code",
   "execution_count": null,
   "metadata": {},
   "outputs": [],
   "source": [
    "print(G.eccentricity())"
   ]
  },
  {
   "cell_type": "markdown",
   "metadata": {},
   "source": [
    "<p>El <strong>radio</strong> del grafo (menor excentricidad) y <strong>diámetro</strong> del grafo (mayor excentricidad).</p>"
   ]
  },
  {
   "cell_type": "code",
   "execution_count": null,
   "metadata": {},
   "outputs": [],
   "source": [
    "print(G.radius())\n",
    "print(G.diameter())"
   ]
  },
  {
   "cell_type": "markdown",
   "metadata": {},
   "source": [
    "<p>El <strong>centro</strong> del grafo, que es el conjunto de vértices cuya excentricidad es igual al radio.</p>\n",
    "<p>La <strong>periferia</strong> de un grafo, que es el conjunto de vértices de mayor excentricidad.</p>"
   ]
  },
  {
   "cell_type": "code",
   "execution_count": null,
   "metadata": {},
   "outputs": [],
   "source": [
    "print(G.center())\n",
    "print(G.periphery())"
   ]
  },
  {
   "cell_type": "code",
   "execution_count": null,
   "metadata": {},
   "outputs": [],
   "source": [
    "colores={'green':G.center(),'red':G.periphery()}\n",
    "G.plot(vertex_colors=colores,figsize=4)"
   ]
  },
  {
   "cell_type": "code",
   "execution_count": null,
   "metadata": {},
   "outputs": [],
   "source": []
  },
  {
   "cell_type": "markdown",
   "metadata": {},
   "source": [
    "<p> Todos los elementos métricos anteriores son válidos para el caso de digrafos, considerando siempre los caminos dirigidos.</p>"
   ]
  },
  {
   "cell_type": "code",
   "execution_count": null,
   "metadata": {},
   "outputs": [],
   "source": [
    "DG = DiGraph({0:[3],1:[0,4,5],2:[1],3:[4,7],4:[5,7],5:[2,8],6:[3],7:[6],8:[7]})\n",
    "DG.plot(figsize=4)"
   ]
  },
  {
   "cell_type": "code",
   "execution_count": null,
   "metadata": {},
   "outputs": [],
   "source": [
    "print(DG.distance(0,1))"
   ]
  },
  {
   "cell_type": "code",
   "execution_count": null,
   "metadata": {},
   "outputs": [],
   "source": [
    "DG.eccentricity()"
   ]
  },
  {
   "cell_type": "code",
   "execution_count": null,
   "metadata": {},
   "outputs": [],
   "source": [
    "print(DG.radius())\n",
    "print(DG.diameter())"
   ]
  },
  {
   "cell_type": "code",
   "execution_count": null,
   "metadata": {},
   "outputs": [],
   "source": [
    "print(DG.center())\n",
    "print(DG.periphery())"
   ]
  },
  {
   "cell_type": "markdown",
   "metadata": {},
   "source": [
    "<p><strong>EJERCICIO 2</strong>:  ¿Cuánto valen el radio y el diámetro de los grafos <em>Rueda de $n$ vértices</em>, $W_n$, y <em>ciclo de $n$ vértices</em>, $C_n$, en función de $n$?</p>\n",
    "<p>NOTA: Obtener el radio y diámetro para distintos valores de $n$ y tratar de conjeturar cuánto valdrán para un valor genérico de $n$.</p>"
   ]
  },
  {
   "cell_type": "code",
   "execution_count": null,
   "metadata": {},
   "outputs": [],
   "source": []
  },
  {
   "cell_type": "code",
   "execution_count": null,
   "metadata": {},
   "outputs": [],
   "source": []
  },
  {
   "cell_type": "markdown",
   "metadata": {},
   "source": [
    "<p><strong>EJERCICIO 3</strong>:  Comprobar que en los grafos ciclo $C_n$ y completos $K_n$ todos los vértices tienen la misma <em>excentricidad</em> y por tanto coinciden <em>radio</em> y <em>diámetro</em> y que tanto el <em>centro</em> como la <em>periferia</em> la constituyen el conjunto de todos los vértices.</p>\n",
    "<p>NOTA: Comprobar estas propiedades para distintos valores prefijados de $n$.</p>"
   ]
  },
  {
   "cell_type": "code",
   "execution_count": null,
   "metadata": {},
   "outputs": [],
   "source": []
  },
  {
   "cell_type": "code",
   "execution_count": null,
   "metadata": {},
   "outputs": [],
   "source": []
  },
  {
   "cell_type": "markdown",
   "metadata": {},
   "source": [
    "<h2><a name=\"conectiv\"></a>3. Conectividad en grafos/digrafos</h2>\n",
    "<p>También podemos hacer estudio de la conectividad de grafos simples y digrafos.</p>\n",
    "<p>En primer lugar estudiemos la conectividad en grafos simples. Hagamos dicho estudio con los dos grafos siguientes:</p>"
   ]
  },
  {
   "cell_type": "code",
   "execution_count": null,
   "metadata": {},
   "outputs": [],
   "source": [
    "G1=Graph({0:[7,10],1:[6,3],2:[14,5,8],3:[6,12,1,9],4:[7,13,10],5:[14,2],6:[12,3,1],7:[4,13,0],8:[14,2],9:[11,3,12],10:[4,0],11:[9,12],12:[11,6,3,9],13:[7,4],14:[8,5,2]})\n",
    "G2 = Graph({0:[14],1:[14],2:[3,4,6,13],3:[2,7,10,13,14],4:[2,10,14],5:[8],6:[2,13,14],7:[3],8:[5,10,12],9:[10,13],10:[3,4,8,9],11:[13],12:[8],13:[2,3,6,9,11],14:[0,1,3,4,6]})"
   ]
  },
  {
   "cell_type": "code",
   "execution_count": null,
   "metadata": {},
   "outputs": [],
   "source": [
    "G1.plot(layout='circular',figsize=3)"
   ]
  },
  {
   "cell_type": "code",
   "execution_count": null,
   "metadata": {},
   "outputs": [],
   "source": [
    "G2.plot(layout='circular',figsize=3)"
   ]
  },
  {
   "cell_type": "markdown",
   "metadata": {},
   "source": [
    "<p>Sage nos dice si los grafos son o no conexos:</p>"
   ]
  },
  {
   "cell_type": "code",
   "execution_count": null,
   "metadata": {},
   "outputs": [],
   "source": [
    "G1.is_connected()"
   ]
  },
  {
   "cell_type": "code",
   "execution_count": null,
   "metadata": {},
   "outputs": [],
   "source": [
    "G2.is_connected()"
   ]
  },
  {
   "cell_type": "markdown",
   "metadata": {},
   "source": [
    "<p>También podemos obtener los vértices de las distintas componentes conexas:</p>"
   ]
  },
  {
   "cell_type": "code",
   "execution_count": null,
   "metadata": {},
   "outputs": [],
   "source": [
    "G1.connected_components()"
   ]
  },
  {
   "cell_type": "code",
   "execution_count": null,
   "metadata": {},
   "outputs": [],
   "source": [
    "G2.connected_components()"
   ]
  },
  {
   "cell_type": "markdown",
   "metadata": {},
   "source": [
    "<p>También podemos obtener los vértices de la componente conexa a la que pertenece un determinado vértice:</p>"
   ]
  },
  {
   "cell_type": "code",
   "execution_count": null,
   "metadata": {},
   "outputs": [],
   "source": [
    "print(\"En el grafo G1, el vértice 0 está conectado con \",G1.connected_component_containing_vertex(0))"
   ]
  },
  {
   "cell_type": "code",
   "execution_count": null,
   "metadata": {},
   "outputs": [],
   "source": [
    "print(\"En el grafo G2, el vértice 0 está conectado con \",G2.connected_component_containing_vertex(0))"
   ]
  },
  {
   "cell_type": "markdown",
   "metadata": {},
   "source": [
    "<p>O simplemente obtener el número de componentes conexas:</p>"
   ]
  },
  {
   "cell_type": "code",
   "execution_count": null,
   "metadata": {},
   "outputs": [],
   "source": [
    "print(\"G1 tiene \",G1.connected_components_number(),\" componentes conexas\")\n",
    "print(\"G2 tiene \",G2.connected_components_number(),\" componentes conexas\")"
   ]
  },
  {
   "cell_type": "markdown",
   "metadata": {},
   "source": [
    "<p>En el siguiente grupo se ilustran todas estas instrucciones:</p>"
   ]
  },
  {
   "cell_type": "code",
   "execution_count": null,
   "metadata": {},
   "outputs": [],
   "source": [
    "G3=graphs.RandomGNP(10,0.2)\n",
    "if G3.is_connected():\n",
    "    print(\"El grafo G3 es conexo\")\n",
    "else:\n",
    "        print(\"G3 no es conexo. Tiene \",G3.connected_components_number(),\" componentes conexas cuyos vértices son:\")\n",
    "        for i in [0..G3.connected_components_number()-1]:\n",
    "            print(\"Componente número \",i+1,\"= \",G3.connected_components()[i])\n",
    "G3.plot(figsize=4)"
   ]
  },
  {
   "cell_type": "markdown",
   "metadata": {},
   "source": [
    "<p><strong>EJERCICIO 4</strong> Sabemos que un grafo $G$ no es conexo. ¿Cómo podríamos convertirlo, añadiendo aristas, en un grafo conexo? Generar un grafo disconexo aleatorio y, añadiendo aristas, convertirlo en grafo conexo.</p>"
   ]
  },
  {
   "cell_type": "code",
   "execution_count": null,
   "metadata": {},
   "outputs": [],
   "source": []
  },
  {
   "cell_type": "code",
   "execution_count": null,
   "metadata": {},
   "outputs": [],
   "source": []
  },
  {
   "cell_type": "markdown",
   "metadata": {},
   "source": [
    "<p>El método <em>connected_components()</em> nos devuelve las listas de vértices de las distintas componentes conexas, pero no los subgrafos correspondientes a las distintas componentes. Esto último lo podemos obtener de la forma siguiente:</p>"
   ]
  },
  {
   "cell_type": "code",
   "execution_count": null,
   "metadata": {},
   "outputs": [],
   "source": [
    "(SG1,SG2,SG3)=G1.connected_components_subgraphs()"
   ]
  },
  {
   "cell_type": "code",
   "execution_count": null,
   "metadata": {},
   "outputs": [],
   "source": [
    "show(SG1,figsize=3)\n",
    "show(SG2,figsize=3)\n",
    "show(SG3,figsize=3)"
   ]
  },
  {
   "cell_type": "markdown",
   "metadata": {},
   "source": [
    "<p>Utilizando la orden de Sage <em>G1.disjoint_union(G2)</em> que nos da el grafo unión $G1\\cup G2$, comprobemos que <strong>la unión disjunta de las componentes conexas de un grafo simple nos da el propio grafo</strong>.</p>"
   ]
  },
  {
   "cell_type": "code",
   "execution_count": null,
   "metadata": {},
   "outputs": [],
   "source": [
    "G1.is_isomorphic(SG1.disjoint_union(SG2.disjoint_union(SG3)))"
   ]
  },
  {
   "cell_type": "code",
   "execution_count": null,
   "metadata": {},
   "outputs": [],
   "source": []
  },
  {
   "cell_type": "markdown",
   "metadata": {},
   "source": [
    "<p>En el caso de digrafos, las anteriores funciones trabajan sobre el grafo simple que se obtiene quitando la orientación de las aristas. Por lo tanto todos los métodos anteriores (<em>is_connected(), connected_components(),</em> ... ) se refieren a la <strong>conectividad débil</strong> del digrafo.</p>\n",
    "<p>Para la<strong> conectividad fuerte</strong> existen también métodos. Véamoslo con el siguiente digrafo:</p>"
   ]
  },
  {
   "cell_type": "code",
   "execution_count": null,
   "metadata": {},
   "outputs": [],
   "source": [
    "DG = DiGraph({0:[3],1:[0,4,5],2:[1],3:[4,7],4:[7],5:[2,4,8],6:[3],7:[6],8:[7]})\n",
    "DG.plot(figsize=4)"
   ]
  },
  {
   "cell_type": "markdown",
   "metadata": {},
   "source": [
    "<p>Este grafo es débilmente conexo, pero no fuertementte conexo.</p>"
   ]
  },
  {
   "cell_type": "code",
   "execution_count": null,
   "metadata": {},
   "outputs": [],
   "source": [
    "DG.is_connected()"
   ]
  },
  {
   "cell_type": "code",
   "execution_count": null,
   "metadata": {},
   "outputs": [],
   "source": [
    "DG.is_strongly_connected()"
   ]
  },
  {
   "cell_type": "code",
   "execution_count": null,
   "metadata": {},
   "outputs": [],
   "source": [
    "DG.strongly_connected_components()"
   ]
  },
  {
   "cell_type": "code",
   "execution_count": null,
   "metadata": {},
   "outputs": [],
   "source": [
    "colores={'green':DG.strongly_connected_components()[0],'red':DG.strongly_connected_components()[1],'blue':DG.strongly_connected_components()[2],'yellow':DG.strongly_connected_components()[3]}\n",
    "DG.plot(vertex_colors=colores,figsize=4)"
   ]
  },
  {
   "cell_type": "markdown",
   "metadata": {},
   "source": [
    "<p>Veamos cómo,a diferencia de lo que ocurría con grafos simples,  <strong>la únion de las componentes fuertemente conexas de un digrafo no coincide con el propio digrafo</strong>.</p>"
   ]
  },
  {
   "cell_type": "code",
   "execution_count": null,
   "metadata": {},
   "outputs": [],
   "source": [
    "(SD1,SD2,SD3,SD4)=DG.strongly_connected_components_subgraphs()"
   ]
  },
  {
   "cell_type": "code",
   "execution_count": null,
   "metadata": {},
   "outputs": [],
   "source": [
    "show(SD1,figsize=2)\n",
    "show(SD2,figsize=2)\n",
    "show(SD3,figsize=2)\n",
    "show(SD4,figsize=2)"
   ]
  },
  {
   "cell_type": "code",
   "execution_count": null,
   "metadata": {},
   "outputs": [],
   "source": [
    "DG.is_isomorphic(SD1.disjoint_union(SD2.disjoint_union(SD3.disjoint_union(SD4))))"
   ]
  },
  {
   "cell_type": "code",
   "execution_count": null,
   "metadata": {},
   "outputs": [],
   "source": []
  },
  {
   "cell_type": "markdown",
   "metadata": {},
   "source": [
    "<p><strong>EJERCICIO 5</strong>: Probar que el siguiente digrafo es débilmente conexo pero no fuertemente conexo y probar que la únión de sus componentes fuertemente conexas no dan el propio grafo.</p>\n",
    "<p><img src=\"digrafo0.png\" alt=\"\" width=\"368\" height=\"359\" /></p>"
   ]
  },
  {
   "cell_type": "code",
   "execution_count": null,
   "metadata": {},
   "outputs": [],
   "source": [
    "DGr=DiGraph({0:[],1:[3,4,5],2:[1,5],3:[0],4:[0,5,7],5:[0,1,2,6],6:[1,2,4,7],7:[]})"
   ]
  },
  {
   "cell_type": "code",
   "execution_count": null,
   "metadata": {},
   "outputs": [],
   "source": []
  },
  {
   "cell_type": "code",
   "execution_count": null,
   "metadata": {},
   "outputs": [],
   "source": []
  },
  {
   "cell_type": "code",
   "execution_count": null,
   "metadata": {},
   "outputs": [],
   "source": []
  },
  {
   "cell_type": "markdown",
   "metadata": {},
   "source": [
    "<h2><a name=\"kconect\"></a>4. k-Conexión</h2>\n",
    "<p>Sage nos permite estudiar la conectividad por vértices y por aristas de un grafo. Estudiemos el siguiente grafo:</p>"
   ]
  },
  {
   "cell_type": "code",
   "execution_count": null,
   "metadata": {},
   "outputs": [],
   "source": [
    "G=Graph({0:[1,2,3], 1:[2],2:[3],3:[4,7,8],4:[5,8],5:[6,7],6:[7],8:[9,11],9:[10],10:[11]})\n",
    "G.plot(figsize=4)"
   ]
  },
  {
   "cell_type": "markdown",
   "metadata": {},
   "source": [
    "<p>Como se puede apreciar el grafo $G$ es conexo, siendo su conectividad por vértices, $\\kappa(G)=1$, y su conectividad por aristas, $\\lambda(G)=2$.</p>"
   ]
  },
  {
   "cell_type": "code",
   "execution_count": null,
   "metadata": {},
   "outputs": [],
   "source": [
    "G.is_connected()"
   ]
  },
  {
   "cell_type": "code",
   "execution_count": null,
   "metadata": {},
   "outputs": [],
   "source": [
    "G.vertex_connectivity()"
   ]
  },
  {
   "cell_type": "code",
   "execution_count": null,
   "metadata": {},
   "outputs": [],
   "source": [
    "G.edge_connectivity()"
   ]
  },
  {
   "cell_type": "markdown",
   "metadata": {},
   "source": [
    "<p>En efecto, el grafo tiene vértices de corte por lo que es <strong>1-conexo</strong> pero no es <strong>2-conexo</strong>.</p>\n",
    "<p>Por otro lado no tiene aristas puente pero si una pareja de aristas de corte. El grafo es <strong>2-conexo por aristas</strong> o <strong>2-linealmente conexo</strong>.</p>\n",
    "<p>Sage nos muestra la relación de vértices de corte, en una orden que nos da conjuntamente los<strong> bloques</strong> (<strong>conjuntos maximales de vértices cuyo subgrafo inducido es 2-conexo</strong>).</p>\n",
    "<p>Esta orden devuelve una lista de dos elementos, el primero de ellos son los bloques y el segundo, los vértices de corte.</p>"
   ]
  },
  {
   "cell_type": "code",
   "execution_count": null,
   "metadata": {},
   "outputs": [],
   "source": [
    "G.blocks_and_cut_vertices()"
   ]
  },
  {
   "cell_type": "code",
   "execution_count": null,
   "metadata": {},
   "outputs": [],
   "source": [
    "vcorte=G.blocks_and_cut_vertices()[1]\n",
    "print(vcorte)"
   ]
  },
  {
   "cell_type": "markdown",
   "metadata": {},
   "source": [
    "<p>En efecto, los vértices 3 y 8 son vértices de corte porque al eliminar uno cualquiera de ellos el grafo se desconecta:</p>"
   ]
  },
  {
   "cell_type": "code",
   "execution_count": null,
   "metadata": {},
   "outputs": [],
   "source": [
    "H1=copy(G)\n",
    "H1.delete_vertex(3)\n",
    "H1.is_connected()"
   ]
  },
  {
   "cell_type": "code",
   "execution_count": null,
   "metadata": {},
   "outputs": [],
   "source": [
    "H2=copy(G)\n",
    "H2.delete_vertex(8)\n",
    "H2.is_connected()"
   ]
  },
  {
   "cell_type": "markdown",
   "metadata": {},
   "source": [
    "<p>Además Sage nos permite obtener las componentes conexas de estos dos nuevos grafos:</p>"
   ]
  },
  {
   "cell_type": "code",
   "execution_count": null,
   "metadata": {},
   "outputs": [],
   "source": [
    "print(\"H1 tiene las c. conexas: \",H1.connected_components())\n",
    "print(\"H2 tiene las c. conexas: \",H2.connected_components())"
   ]
  },
  {
   "cell_type": "markdown",
   "metadata": {},
   "source": [
    "<p>Teniendo en cuenta las componentes conexas que han surgido al eliminar los vértices de corte, podemos aumentar el índice de conectividad por vértices del grafo $G$, añadiendo una única arista, por ejemplo la arista $2-9$.</p>"
   ]
  },
  {
   "cell_type": "code",
   "execution_count": null,
   "metadata": {},
   "outputs": [],
   "source": [
    "H3=copy(G)\n",
    "H3.add_edge(2,9)"
   ]
  },
  {
   "cell_type": "code",
   "execution_count": null,
   "metadata": {},
   "outputs": [],
   "source": [
    "H3.vertex_connectivity()"
   ]
  },
  {
   "cell_type": "markdown",
   "metadata": {},
   "source": [
    "<p><strong>EJERCICIO 6</strong>:  Sea $Gr$ el grafo definido a continuación.</p>\n",
    "<p>a) Calcular el índice de conectividad por vértices y por aristas.</p>\n",
    "<p>b) Convertir dicho grafo en otro con mayor índice de conectividad por vértices, añadiendo el menor número de aristas posible.</p>"
   ]
  },
  {
   "cell_type": "code",
   "execution_count": null,
   "metadata": {},
   "outputs": [],
   "source": [
    "Gr = Graph({0:[11,12,14],1:[3,16,19],2:[4,5,17],3:[1,4,12,13,14,19],4:[2,3,7,13,17],5:[2,18],6:[11,14],7:[4,17,18],8:[9,10,13],9:[8,13,15],10:[8,13],11:[0,6],12:[0,3],13:[3,4,8,9,10,15],14:[0,3,6],15:[9,13],16:[1,19],17:[2,4,7,18],18:[5,7,17],19:[1,3,16]})"
   ]
  },
  {
   "cell_type": "code",
   "execution_count": null,
   "metadata": {},
   "outputs": [],
   "source": []
  },
  {
   "cell_type": "code",
   "execution_count": null,
   "metadata": {},
   "outputs": [],
   "source": []
  },
  {
   "cell_type": "markdown",
   "metadata": {},
   "source": [
    "<p>Sage también dispone de un método que nos devuelve un objeto de tipo iterador con las aristas puente de un grafo. Se trata de la función o método \"<em>grafo.bridges()</em>\" y para poder verlas hemos de listarlas: \"<em>list(G.bridges())</em>\".</p>"
   ]
  },
  {
   "cell_type": "code",
   "execution_count": null,
   "metadata": {},
   "outputs": [],
   "source": [
    "G = Graph({0:[4,5,12,16],1:[3,6,10,18],2:[6,10,16,18],3:[1,6,14,15,19],4:[0,5,12,16],5:[0,4,16],6:[1,2,3,10,16],7:[11,13,17],8:[13,17],9:[11,13,16],10:[1,2,6,18],11:[7,9,13],12:[0,4,16],13:[7,8,9,11,17],14:[3,15,19],15:[3,14],16:[0,2,4,5,6,9,12],17:[7,8,13],18:[1,2,10],19:[3,14]}); G.set_pos({0:[304.9641577060932,305.381679389313],1:[189,291],2:[212,117],3:[64.10394265232975,275.4580152671756],4:[295,113],5:[245,290],6:[221,314],7:[130,200],8:[111,258],9:[148,265],10:[179,148],11:[172,232],12:[202,164],13:[133,222],14:[94,167],15:[96,330],16:[243,167],17:[54,200],18:[102.24014336917563,122.63358778625951],19:[41.02150537634409,230.57251908396947]});"
   ]
  },
  {
   "cell_type": "code",
   "execution_count": null,
   "metadata": {},
   "outputs": [],
   "source": [
    "G.plot(figsize=4)"
   ]
  },
  {
   "cell_type": "code",
   "execution_count": null,
   "metadata": {},
   "outputs": [],
   "source": [
    "list(G.bridges())"
   ]
  },
  {
   "cell_type": "markdown",
   "metadata": {},
   "source": [
    "<p>Cuando el grafo no es conexo nos devuelve una lista vacía.</p>"
   ]
  },
  {
   "cell_type": "code",
   "execution_count": null,
   "metadata": {},
   "outputs": [],
   "source": [
    "##Generamos un grafo no conexo\n",
    "while true:\n",
    "    G=graphs.RandomGNM(20,50)\n",
    "    if not G.is_connected():\n",
    "        break\n",
    "        \n",
    "print(\"el grafo no es conexo y la función bridges nos da: \",list(G.bridges()))\n",
    "G.plot()"
   ]
  },
  {
   "cell_type": "markdown",
   "metadata": {},
   "source": [
    "<h1><a name=\"cuestiones\"></a><strong>Otros ejercicios propuestos<br /></strong></h1>\n",
    "<p><strong><br /></strong></p>\n",
    "<p><strong>EJERCICIO 7</strong>: El grafo $Gr$ definido a continuación representa la red de transporte de una compañia aérea, donde los vértices representan las ciudades y las aristas aquellos pares de ciudades entre las que la compañía efectua vuelo directo.</p>\n",
    "<p>a) La compañia no tiene vuelo directo entre las ciudades $6$ y $8$. ¿De cuántas formas puede organizar un viaje entre ellas, haciendo una única escala intermedia?</p>\n",
    "<p>b) ¿Y haciendo dos escalas intermedias?</p>\n",
    "<p>c) Hallar el m&iacute;nimo n&uacute;mero de vuelos necesarios para viajar desde cada ciudad a cualquier otra ciudad.</p>\n",
    "<p>d) Determinar el m&iacute;nimo n&uacute;mero de vuelos necesarios para garantizar el poder viajar entre cualesquiera dos ciudades.</p>\n",
    "<p>e) Comprueba en este grafo si:\n",
    "    <ol>\n",
    "\n",
    "<li value=\"1\">Coincide la distancia entre dos v&eacute;rtices cualesquiera de la periferia con el di&aacute;metro del grafo. </li>\n",
    "\n",
    "<li>Coincide la distancia entre dos v&eacute;rtices cualesquiera del centro con el radio del grafo. </li>\n",
    "\n",
    "</ol>\n",
    "    "
   ]
  },
  {
   "cell_type": "code",
   "execution_count": null,
   "metadata": {},
   "outputs": [],
   "source": [
    "Gr = Graph({0:[1,9,14,18],1:[4,7,9,12,13,14,15,17],2:[6,12,13],3:[15,17,19],4:[1,12,16,18],5:[10,13],6:[11,12,15],7:[12,16,18],8:[9,12,13,14,18],9:[0,8,18],10:[5,12],11:[6,15,19],12:[2,4,10,18,19],13:[2,5,18],14:[0,8],15:[3,6],16:[1,7],17:[3,19],18:[0,4,7,9,12,19],19:[3,11,12,17]});"
   ]
  },
  {
   "cell_type": "code",
   "execution_count": null,
   "metadata": {},
   "outputs": [],
   "source": []
  },
  {
   "cell_type": "code",
   "execution_count": null,
   "metadata": {},
   "outputs": [],
   "source": []
  },
  {
   "cell_type": "code",
   "execution_count": null,
   "metadata": {},
   "outputs": [],
   "source": []
  },
  {
   "cell_type": "code",
   "execution_count": null,
   "metadata": {},
   "outputs": [],
   "source": []
  },
  {
   "cell_type": "markdown",
   "metadata": {},
   "source": [
    "<p><strong>EJERCICIO 8</strong>: El grafo definido a continuación representa la red de ordenadores de una compañia. Contestar razonadamente a las siguientes cuestiones:</p>\n",
    "<p>a) ¿Existe algún ordenador cuya desconexción dejaría algunos ordenadores sin poder conectarse entre sí?, ¿cuáles?</p>\n",
    "<p>b) En caso afirmativo, ¿cuántos cables es necesario añadir para que ya no exista este problema?, ¿entre qué ordenadores?</p>\n",
    "<p>c) ¿Existe algún cable cuyo deterioro podría dejar igualmente a algunos ordenadores sin conexión entre sí?, ¿cuáles?</p>\n",
    "<p>d) En caso afirmativo, ¿cuántos cables es necesario añadir para que ya no exista este problema?, ¿entre qué ordenadores?</p>"
   ]
  },
  {
   "cell_type": "code",
   "execution_count": null,
   "metadata": {},
   "outputs": [],
   "source": [
    "Gr = Graph({0:[9,14,18],1:[4,16],2:[12,13],3:[15,17,19],4:[1,12,18],5:[10,13],6:[11,15],7:[16,18],8:[9,14],9:[0,8,18],10:[5,12],11:[6,19],12:[2,4,10,18,19],13:[2,5],14:[0,8],15:[3,6],16:[1,7],17:[3,19],18:[0,4,7,9,12],19:[3,11,12,17]}); Gr.set_pos({0:[172.93103448275863,308.2530120481928],1:[297.06896551724134,205.9236947791165],2:[267,301],3:[286,118],4:[255,140],5:[35,178.93574297188755],6:[128,92],7:[85,250],8:[87,137],9:[181,148],10:[86.0344827586207,175.56224899598394],11:[119,296],12:[137.0689655172414,193.55421686746985],13:[91,339],14:[132.93103448275863,315],15:[218.44827586206895,74.3574297188755],16:[17,220],17:[187,111],18:[145,248],19:[257,251]});"
   ]
  },
  {
   "cell_type": "code",
   "execution_count": null,
   "metadata": {},
   "outputs": [],
   "source": []
  },
  {
   "cell_type": "code",
   "execution_count": null,
   "metadata": {},
   "outputs": [],
   "source": []
  },
  {
   "cell_type": "code",
   "execution_count": null,
   "metadata": {},
   "outputs": [],
   "source": []
  },
  {
   "cell_type": "code",
   "execution_count": null,
   "metadata": {},
   "outputs": [],
   "source": []
  },
  {
   "cell_type": "markdown",
   "metadata": {},
   "source": [
    "<p><strong>EJERCICIO 9</strong>: El siguiente digrafo representa una población, donde los vértices indican distintas zonas de la misma, en particular, el vértice 0 representa un nuevo supermercado que han abierto en una plaza. Como se puede intuir, las aristas representan las direcciones permitidas en las calles que conectan las distintas zonas. Los vecinos de algunas zonas están reiteradamente protestando para que cambien la dirección de algunas calles. ¿Está justificada la protesta? ¿Por qué? ¿Cómo podrías arreglar el problema con el mínimo cambio de direcciones?</p>"
   ]
  },
  {
   "cell_type": "code",
   "execution_count": null,
   "metadata": {},
   "outputs": [],
   "source": [
    "DG = DiGraph({0:[1,8],1:[5],2:[1,9],3:[7],4:[3,6],5:[0,2],6:[3,4],7:[6],8:[5,6,7],9:[0,1,7]})"
   ]
  },
  {
   "cell_type": "code",
   "execution_count": null,
   "metadata": {},
   "outputs": [],
   "source": []
  },
  {
   "cell_type": "code",
   "execution_count": null,
   "metadata": {},
   "outputs": [],
   "source": []
  },
  {
   "cell_type": "code",
   "execution_count": null,
   "metadata": {},
   "outputs": [],
   "source": []
  },
  {
   "cell_type": "code",
   "execution_count": null,
   "metadata": {},
   "outputs": [],
   "source": []
  }
 ],
 "metadata": {
  "kernelspec": {
   "display_name": "SageMath 9.1",
   "language": "sage",
   "name": "sagemath"
  },
  "language": "python",
  "language_info": {
   "codemirror_mode": {
    "name": "ipython",
    "version": 3
   },
   "file_extension": ".py",
   "mimetype": "text/x-python",
   "name": "python",
   "nbconvert_exporter": "python",
   "pygments_lexer": "ipython3",
   "version": "3.7.3"
  }
 },
 "nbformat": 4,
 "nbformat_minor": 2
}
