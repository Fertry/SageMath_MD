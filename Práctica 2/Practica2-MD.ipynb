{
 "cells": [
  {
   "cell_type": "markdown",
   "metadata": {},
   "source": [
    "<h3 style=\"text-align: center;\"><strong>ESCUELA DE INGENIERÍA INFORMÁTICA - UNIVERSIDAD DE SEVILLA</strong></h3>\n",
    "<h3 style=\"text-align: center;\"><strong>GRADO EN INGENIERÍA INFORMÁTICA-TECNOLOGÍAS INFORMÁTICAS</strong></h3>\n",
    "<h1 style=\"font-size: 1em; text-align: center;\"><strong>MATEMÁTICA DISCRETA<br /></strong></h1>\n",
    "<h2 style=\"font-size: 1.17em; text-align: center;\"><strong>Práctica 2. Diseño de estrategias ganadoras en juegos.Números de independencia y clique.<br /></strong></h2>\n",
    "<p>En esta primera sesión nos marcamos los siguientes objetivos:</p>\n",
    "<p>1. <a href=\"#nucleo\">Conjuntos independientes, absorbentes y núcleo</a> de un digrafo (grafo dirigido). </p>\n",
    "<p>2. <a href=\"#juegos\">Aplicación al diseño de estrategias ganadoras</a> en juegos.</p>\n",
    "<p>3. <a href=\"#indep-clique\">Número de independencia y número de clique</a> de un grafo.</p>\n",
    "<p> </p>\n",
    "<p>Al final de la práctica hay una  <a href=\"#cuestiones\">colección de otros ejercicios propuestos.</a></p>\n",
    "<p> </p>\n",
    "<p><a name=\"nucleo\"></a><strong style=\"font-size: 1.5em;\">1. Núcleo de un digrafo.</strong></p>\n",
    "<p>Dado un <strong>digrafo</strong> $D=(V,A)$, se dice que un conjunto de vértices $S \\subseteq V$ es un conjunto <strong>independiente</strong> de vértices si no existen aristas entre ellos. (Esta definición también vale para el caso de grafos).</p>\n",
    "<p> Por ejemplo, en el siguiente digrafo, el conjunto $\\{1,3,5\\}$ es un conjunto independiente. </p>"
   ]
  },
  {
   "cell_type": "code",
   "execution_count": null,
   "metadata": {},
   "outputs": [],
   "source": [
    "DH1=DiGraph({1:[2],2:[4],3:[2,4],5:[4]})\n",
    "DH1.plot(figsize=4)"
   ]
  },
  {
   "cell_type": "markdown",
   "metadata": {},
   "source": [
    "<p>Por otro lado, un conjunto de vértices $S$ en un <strong>digrafo</strong> se dice que es un conjunto <strong>absorbente</strong> de vértices si cualquier vértice fuera de este conjunto tiene al menos una arista dirigida hacia uno de los vértices de $S$.  </p>\n",
    "<p>En el grafo siguiente, el conjunto $\\{2,4\\}$ es un conjunto absorbente:</p>"
   ]
  },
  {
   "cell_type": "code",
   "execution_count": null,
   "metadata": {},
   "outputs": [],
   "source": [
    "DH2=DiGraph({1:[4,5],2:[4],3:[2,4],5:[2]})\n",
    "DH2.plot(figsize=4)"
   ]
  },
  {
   "cell_type": "markdown",
   "metadata": {},
   "source": [
    "<p>Todo conjunto $S$ de vértices que sea al mismo tiempo independiente y absorbente se denomina <strong>núcleo</strong> del digrafo.</p>\n",
    "\n",
    "<p>Es importante destacar que el núcleo no siempre existe, y en caso de existir no tiene por qué ser único. Por ejemplo, es fácil ver que el siguiente digrafo no tiene núcleo:</p>"
   ]
  },
  {
   "cell_type": "code",
   "execution_count": null,
   "metadata": {},
   "outputs": [],
   "source": [
    "DH3=DiGraph({1:[2],2:[3],3:[1]})\n",
    "DH3.plot(figsize=3)"
   ]
  },
  {
   "cell_type": "markdown",
   "metadata": {},
   "source": [
    "<p>Mientras que en el siguiente digrafo hay dos núcleos, el conjunto $\\{1,3\\}$ y el conjunto $\\{2,4\\}$:</p>"
   ]
  },
  {
   "cell_type": "code",
   "execution_count": null,
   "metadata": {},
   "outputs": [],
   "source": [
    "DH4=DiGraph({1:[4],2:[1],3:[2],4:[3]})\n",
    "DH4.plot(figsize=3)"
   ]
  },
  {
   "cell_type": "code",
   "execution_count": null,
   "metadata": {},
   "outputs": [],
   "source": []
  },
  {
   "cell_type": "markdown",
   "metadata": {},
   "source": [
    "<h2><br class=\"Apple-interchange-newline\" /><a name=\"juegos\"></a><span style=\"font-size: x-large;\"><strong>2. Aplicación al diseño de estrategias ganadoras en juegos</strong></span></h2>\n",
    "<p>El concepto de nucleo de un digrafo podemos utilizarlo para obtener estrategias ganadoras en algunos juegos. En efecto, un juego para dos jugadores se puede modelar mediante un digrafo de la siguiente forma: </p>\n",
    "<p>Construimos un digrafo $D$ que tenga tantos vértices como posibles posiciones tenga el juego, y una arista dirigida de la posición $p$ a la posición $q$ si es posible pasar de la posición $p$ a la posición $q$ mediante un movimiento del juego. Las posiciones ganadoras del juego se corresponderán con vértices de valencia de salida igual a 0.</p>\n",
    "<p>Por ejemplo, consideremos el siguiente juego:</p>\n"
   ]
  },
  {
   "cell_type": "markdown",
   "metadata": {},
   "source": [
    "<p><span style=\"font-size: medium;\"><strong>EJEMPLO 1 (SUMAR 31)</strong>.</span> El primer jugador dice un número (entero) del $1$ al $3$. A continuación cada jugador, alternativamente, va sumando $1$, $2$ o $3$ a la cifra de su oponente. Ganará el jugador que llegue a sumar exactamente $31$.</p>\n",
    "<p>Este juego puede ser modelado con el siguiente grafo: Los vértices son los números enteros del $1$ al $31$ y de cada vértice $i$ salen aristas a los vértices $i+1$, $i+2$ y $i+3$, excepto para el vértice $i=29$, del que sólamente salen aristas a $30$ y $31$, del vértice $i=30$ sale una única arista al $31$ y del vétice $i=31$ no sale ninguna arista. O sea $(i,j)$ es una arista si $i<j<i+4$, siendo $1\\le i,j\\le 31$.</p>"
   ]
  },
  {
   "cell_type": "code",
   "execution_count": null,
   "metadata": {},
   "outputs": [],
   "source": [
    "n=31\n",
    "V=[1..n]  #Definimos los vértices del grafo\n",
    "E=[(i,j) for (i,j) in cartesian_product([V,V]) if (i<j<i+4)]  #Definimos las aristas del grafo\n",
    "DJ1=DiGraph()     #Digrafo vacío\n",
    "#DJ1.add_vertices(V)    #Añadimos los vértices\n",
    "DJ1.add_edges(E)       #Añadimos las aristas"
   ]
  },
  {
   "cell_type": "code",
   "execution_count": null,
   "metadata": {},
   "outputs": [],
   "source": [
    "lista_pos=[(i,[100*(i%3),20*(i+(i)%2)]) for i in DJ1.vertices()]\n",
    "posiciones=dict(lista_pos)\n",
    "DJ1.plot(pos=posiciones,figsize=10)"
   ]
  },
  {
   "cell_type": "code",
   "execution_count": null,
   "metadata": {},
   "outputs": [],
   "source": []
  },
  {
   "cell_type": "markdown",
   "metadata": {},
   "source": [
    "<p>Es fácil darse cuenta de que el jugador que consiga decir el número $27$ tiene todo a su favor para ganar. Pero entonces, quien diga el $23$ es el que ganará el juego (si después hace los movimientos adecuados). Razonando de esta manera, vemos que los objetivos parciales del juego deben ser $S=\\{3,7,11,15,19,23,27,31\\}$. Estos objetivos parciales cumplen que:</p>\n",
    "<p>1º. Si un jugador dice un número que está en $S$, el otro jugador forzosamente dirá un número que no está en $S$ (puesto que $S$ es un conjunto <strong>independiente</strong>).</p>\n",
    "<p>2º. Si un jugador dice un número que no está en $S$, el otro jugador siempre tiene la posibilidad de decir un número de $S$ (puesto que $S$ es un conjunto <strong>absorbente</strong>).</p>\n",
    "<p>Por lo tanto, el conjunto $S$ es un <strong>núcleo</strong> del digrafo que modela el juego. Y nuestro objetivo entonces debe ser ocupar las posiciones que pertenezcan al núcleo, puesto que así nuestro adversario saldrá obligatoriamente de estas posiciones<em> ganadoras </em>y, a su vez, desde la situación que nos deje el contrincante, siempre podremos acceder a ellas para finalizar en la posición $31$, que es la posición ganadora en este juego.  </p>\n",
    "<p>Puesto que la primera posición de $S$ es el número $3$, el jugador que empieza tiene la victoria asegurada eligiendo este número en primer lugar, y realizando en todo momento movimientos que le lleven a posiciones del núcleo. Análogamente, si nuestro contrincante es el primero en elegir número, y en algún momento del juego no elige una posición del núcleo, también tenemos asegurada la victoria.</p>\n",
    "<p>Es decir, para diseñar una estrategia ganadora en un juego debemos buscar un <strong>núcleo</strong> del digrafo que modela dicho juego <strong>que contenga a la posición ganadora</strong> (recordemos que el núcleo no tiene por qué existir ni por qué ser único). Si esto es posible, entonces se puede diseñar una <em>estrategia ganadora</em> para el juego. Para ganar, basta hacer en todo instante un movimiento que te lleve a una posición dentro del núcleo; por ser independiente este conjunto, haga el movimiento que haga el adversario, éste acaba en una posición fuera del núcleo; por ser absorbente, tú siempre puedes conseguir que tu siguiente movimiento te devuelva al núcleo. </p>\n",
    "<p>Es importante notar que las posiciones ganadoras del juego se corresponden en el digrafo con vértices de <span style=\"text-decoration: underline;\">valencia de salida igual a $0$</span>, por lo que el núcleo que estamos buscando debe contener a estos vértices.</p>\n",
    "<p> </p>\n",
    "<p>Aunque el concepto de núcleo no está implementado en Sage, damos a continuación una rutina que permite calcular el núcleo <strong>que contenga a los vértices de valencia de salida $0$</strong> (posiciones ganadoras), en caso de que exista. Esta función recibe como parámetro un objeto de tipo Digraph y devuelve una lista formada por los vértices del núcleo.</p>\n",
    "<p><strong>¡OJO! La función kernel sólo funciona con grafos que tienen vértices cuya valencia de salida es 0.</strong></p>"
   ]
  },
  {
   "cell_type": "code",
   "execution_count": null,
   "metadata": {},
   "outputs": [],
   "source": [
    "def outdegree0(digrafo):\n",
    "    '''\n",
    "    Recibe un grafo dirigido y devuelve la lista de vértices con valencia de salida igual a 0.\n",
    "    Esta es una función auxiliar usada por la función \"kernel\".\n",
    "    '''\n",
    "    \n",
    "    degree0=[]\n",
    "    for v in digrafo.vertices():\n",
    "        if digrafo.out_degree(v)==0:\n",
    "            degree0.append(v)\n",
    "    return degree0\n",
    "    \n",
    "def kernel(digrafo0):\n",
    "    '''\n",
    "    Recibe un grafo dirigido y devuelve una lista con los vértices del núcleo.\n",
    "    '''\n",
    "    digrafo=copy(digrafo0)\n",
    "    degree0=outdegree0(digrafo)\n",
    "    if len(degree0)==0:\n",
    "        print(\"Esta función no puede calcular el núcleo de este digrafo pues no tiene vértices de valencia de salida igual a 0\")\n",
    "        return \n",
    "    kernel=[]\n",
    "    while degree0!=[]:\n",
    "        for v in degree0:\n",
    "            kernel.append(v)\n",
    "            for u in digrafo.neighbors(v):\n",
    "                digrafo.delete_vertex(u)\n",
    "            digrafo.delete_vertex(v)\n",
    "        degree0=outdegree0(digrafo)\n",
    "    if digrafo.order()<1:\n",
    "        kernel.sort()\n",
    "        return kernel\n",
    "    else:\n",
    "        print(\"No existe el núcleo\")"
   ]
  },
  {
   "cell_type": "code",
   "execution_count": null,
   "metadata": {},
   "outputs": [],
   "source": []
  },
  {
   "cell_type": "markdown",
   "metadata": {},
   "source": [
    "<p><span>Hemos definido dos funciones: </span><em>outdegree0</em><span> y </span><em>kernel</em><span>.</span></p>\n",
    "<p>- La primera lo que hace es calcular los vértices que tienen valencia de salida igual a 0, <span style=\"text-decoration: underline;\">ya que queremos que las posiciones ganadoras (que son vértices de valencia de salida 0) pertenezcan al núcleo</span>. </p>\n",
    "<p>- La segunda lo que hace es calcular el núcleo en el caso de que modelemos un juego. Para ello, encuentra (usando la primera función) los vértices de valencia de salida igual a 0, después elimina dichos vértices y sus vecinos y vuelve a calcular aquellos que, en el nuevo grafo, tienen valencia de salida 0.</p>\n",
    "<p>Si aplicamos esta rutina al grafo que modelaba el juego anterior (sumar 31), obtenemos el conjunto $S$ de objetivos parciales que ya habíamos deducido antes. </p>"
   ]
  },
  {
   "cell_type": "code",
   "execution_count": null,
   "metadata": {},
   "outputs": [],
   "source": [
    "kernel(DJ1)"
   ]
  },
  {
   "cell_type": "markdown",
   "metadata": {},
   "source": [
    "<p><strong><strong>EJERCICIO</strong> 1:</strong> Consideremos ahora la variante del juego del ejemplo 1 (\"sumar 31\") en el que <span style=\"text-decoration: underline;\">pierde</span> el jugador que llega a 31. </p>\n",
    "<p>a) Encontrar el grafo que modela esta variante del juego y diseñar, si existe, una estrategia ganadora. ¿Quién tiene las de ganar, el jugador que comienza o el segundo en mover?</p>\n",
    "<p>b) En un determinado momento del juego, nuestro adversario ha elegido el número 16, ¿cuál debería ser nuestro siguiente movimiento?</p>"
   ]
  },
  {
   "cell_type": "code",
   "execution_count": null,
   "metadata": {},
   "outputs": [],
   "source": []
  },
  {
   "cell_type": "markdown",
   "metadata": {},
   "source": [
    "<p><strong>EJEMPLO 2 (LLEGAR A LA META).</strong> El siguiente juego (para dos jugadores) se juega en una cuadrícula del tamaño que se desee, en este caso vamos a considerar una de tamaño $5\\times 5$. Una esquina (por ejemplo la superior izquierda) es la casilla de salida, y la esquina opuesta (la inferior derecha) es la casilla de llegada. Colocamos una ficha en la casilla de salida. En cada turno, el jugador hace avanzar la ficha una posición a la derecha, o bien una posición hacia abajo, o bien un posición en diagonal hacia abajo y la derecha. Gana el jugador que llegue a la casilla señalada como meta.</p>\n",
    "<p>Vamos a llamar $(0,0)$ a la posición de salida, de forma que la meta será la posición $(4,4)$. El grafo que modela este juego es el siguiente:</p>"
   ]
  },
  {
   "cell_type": "code",
   "execution_count": null,
   "metadata": {},
   "outputs": [],
   "source": [
    "n=4\n",
    "m=4\n",
    "DJ2=DiGraph()\n",
    "V=[(i,j) for (i,j) in cartesian_product([[0..n],[0..m]])] \n",
    "E1=[ ((i,j),(i,j+1)) for (i,j) in V if j<m  ]\n",
    "E2=[ ((i,j),(i+1,j)) for (i,j) in V if i<n  ]\n",
    "E3=[ ((i,j),(i+1,j+1)) for (i,j) in V if (i<n and j<m)  ]\n",
    "DJ2.add_vertices(V)\n",
    "DJ2.add_edges(E1)\n",
    "DJ2.add_edges(E2)\n",
    "DJ2.add_edges(E3)"
   ]
  },
  {
   "cell_type": "markdown",
   "metadata": {},
   "source": [
    "<p>Dibujemos el grafo en forma de cuadŕicula:</p>"
   ]
  },
  {
   "cell_type": "code",
   "execution_count": null,
   "metadata": {},
   "outputs": [],
   "source": [
    "lista_pos= [ (v,[100*v[0],10000-100*v[1]]) for v in DJ2.vertices() ]\n",
    "posiciones=dict( lista_pos)\n",
    "DJ2.plot(pos=posiciones,figsize=6,vertex_size=1000)"
   ]
  },
  {
   "cell_type": "code",
   "execution_count": null,
   "metadata": {},
   "outputs": [],
   "source": [
    "kernel(DJ2)"
   ]
  },
  {
   "cell_type": "markdown",
   "metadata": {},
   "source": [
    "<p>A la vista del núcleo del grafo vemos que esta vez la estrategia ganadora es para el jugador que mueve en segundo lugar. El que comienza lo hace desde la posición $(0,0)$ que está en el núcleo y deberá mover la ficha a $(1,0), (0,1)$ ó $(1,1)$, que son de fuera del núcleo. Desde cualquiera de esas posiciones el siguiente jugador puede ocupar una casilla del núcleo (serían las casillas $(2,0)$, $(0,2)$ ó $(2,2)$ respectivamente).</p>"
   ]
  },
  {
   "cell_type": "code",
   "execution_count": null,
   "metadata": {},
   "outputs": [],
   "source": [
    "#Realizar diferentes pruebas del juego con distintos valores de n y m"
   ]
  },
  {
   "cell_type": "markdown",
   "metadata": {},
   "source": [
    "<p><strong>EJERCICIO 2:</strong> Consideremos ahora la variante del juego anterior (llegar a la meta), en el que se juega sobre una cuadrícula de tamaño $7\\times 8$ y cada jugador puede moverse una o dos posiciones a la derecha o una o dos posiciones hacia abajo y no en diagonal.</p>\n",
    "<p>a) Diseñar el grafo que modela el juego y obtener una estrategia ganadora. ¿Quién tiene las de ganar?</p>\n",
    "<p>b) Si un jugador se situa en la casilla $(3,5)$, ¿qué movimiento ha de hacer el otro jugador para ganar la partida?</p>"
   ]
  },
  {
   "cell_type": "code",
   "execution_count": null,
   "metadata": {},
   "outputs": [],
   "source": []
  },
  {
   "cell_type": "code",
   "execution_count": null,
   "metadata": {},
   "outputs": [],
   "source": []
  },
  {
   "cell_type": "markdown",
   "metadata": {},
   "source": [
    "<p><a name=\"indep-clique\"></a><strong style=\"font-size: 1.5em;\">3. Números de independencia y de clique de un grafo.</strong></p>\n",
    "<p>Definimos el <strong>número de independencia $\\alpha(G)$</strong> de un grafo $G$ como el  tamaño del mayor conjunto independiente de vértices de dicho grafo. Recordemos que un conjunto de vértices de G se dice que es independiente si no contiene ninguna pareja de vértices adyacentes.</p>"
   ]
  },
  {
   "cell_type": "code",
   "execution_count": null,
   "metadata": {},
   "outputs": [],
   "source": [
    "G1=graphs.RandomGNP(10,0.5)\n",
    "G1.plot(figsize=4)"
   ]
  },
  {
   "cell_type": "markdown",
   "metadata": {},
   "source": [
    "<p>Aunque el problema de encontrar el número de independencia de un grafo es un problema <strong>NP-duro</strong>, Sage dispone de herramientas para calcular el número de independencia de un grafo <strong>$G$ </strong>(o digrafo) en grafos no muy complejos.  Sage dispone del método \"<em>independent_set<strong>\" </strong></em>que busca <span style=\"text-decoration: underline;\">un</span> conjunto máximo de vértices independientes (nótese que dicho conjunto no tiene por qué ser único).</p>"
   ]
  },
  {
   "cell_type": "code",
   "execution_count": null,
   "metadata": {},
   "outputs": [],
   "source": [
    "Indep=G1.independent_set()\n",
    "print(Indep)"
   ]
  },
  {
   "cell_type": "markdown",
   "metadata": {},
   "source": [
    "<p>Para obtener el número de independencia del grafo $G$ (<strong>$\\alpha(G)$</strong>) bastará calcular el tamaño de este conjunto independiente:</p>"
   ]
  },
  {
   "cell_type": "code",
   "execution_count": null,
   "metadata": {},
   "outputs": [],
   "source": [
    "len(Indep)"
   ]
  },
  {
   "cell_type": "markdown",
   "metadata": {},
   "source": [
    "<p>O bien, podemos usar directamente el método \"<em>independent_set</em>\" con el parámetrro \"<em>value_only=True</em>\"</p>"
   ]
  },
  {
   "cell_type": "code",
   "execution_count": null,
   "metadata": {},
   "outputs": [],
   "source": [
    "G1.independent_set(value_only=True)"
   ]
  },
  {
   "cell_type": "markdown",
   "metadata": {},
   "source": [
    "<p>El siguiente grupo de ejecución representa el grafo, poniendo los vértices del conjunto independiente de un color diferente para resaltarlos.</p>"
   ]
  },
  {
   "cell_type": "code",
   "execution_count": null,
   "metadata": {},
   "outputs": [],
   "source": [
    "colores={'yellow':Indep}\n",
    "G1.plot(vertex_colors=colores,figsize=4)"
   ]
  },
  {
   "cell_type": "markdown",
   "metadata": {},
   "source": [
    "<p>OJO!! Para algunos grafos el dibujo puede llevar a engaño, pues puede parecer que hay aristas entre los vértices independientes debido a la posición de los vértices. Pruébese a hacer distintas representaciones del grafo para comprobar que en efecto se trata de conjuntos independientes de vértices.</p>"
   ]
  },
  {
   "cell_type": "code",
   "execution_count": null,
   "metadata": {},
   "outputs": [],
   "source": []
  },
  {
   "cell_type": "markdown",
   "metadata": {},
   "source": [
    "<p>Este concepto de conjunto independiente de vértices puede utilizarse para resolver multitud de problemas. Véase el siguiente ejemplo.</p>\n",
    "<p><strong>EJEMPLO 3</strong>: ¿Cuál es el mayor tamaño de un conjunto de números enteros entre $n_1$ y $n_2$ (por ejemplo, entre $1$ y $16$) de modo que para cualquier par de ellos se verifica que su diferencia no es el cuadrado de ningún otro número?</p>\n",
    "<p>Este problema lo podemos trasladar a grafos de la siguiente forma: Encontrar el mayor conjunto independiente de vértices en el grafo cuyos vértices son todos los enteros entre $n_1$ y $n_2$ y dos vértices son adyacentes si su diferencia (en valor absoluto) es un cuadrado perfecto:</p>"
   ]
  },
  {
   "cell_type": "code",
   "execution_count": null,
   "metadata": {},
   "outputs": [],
   "source": [
    "n1=1\n",
    "n2=16\n",
    "G2=Graph()\n",
    "G2.add_vertices([n1..n2])\n",
    "edges=[(i,j) for (i,j) in cartesian_product([G2.vertices(),G2.vertices()]) if (i!=j and is_square(abs(i-j)) )]\n",
    "G2.add_edges(edges)"
   ]
  },
  {
   "cell_type": "code",
   "execution_count": null,
   "metadata": {},
   "outputs": [],
   "source": [
    "colores={'yellow':G2.independent_set()}\n",
    "G2.plot(vertex_colors=colores,figsize=4)"
   ]
  },
  {
   "cell_type": "code",
   "execution_count": null,
   "metadata": {},
   "outputs": [],
   "source": [
    "print(G2.independent_set())\n",
    "print(G2.independent_set(value_only=True))"
   ]
  },
  {
   "cell_type": "markdown",
   "metadata": {},
   "source": [
    "<p> </p>\n",
    "<p> </p>\n",
    "<p>Este problema también lo podíamos haber planteado usando el grafo complementario del anterior, es decir el grafo cuyos vértices fuesen los mismos y dos vértices fuesen adyacentes si sus diferencias <strong>NO</strong> son el cuadrado de ningún entero.</p>"
   ]
  },
  {
   "cell_type": "code",
   "execution_count": null,
   "metadata": {},
   "outputs": [],
   "source": [
    "n1=1\n",
    "n2=16\n",
    "H=Graph()\n",
    "H.add_vertices([n1..n2])\n",
    "edges=[(i,j) for (i,j) in cartesian_product([H.vertices(),H.vertices()]) if not (is_square(abs(i-j)) )]\n",
    "H.add_edges(edges)"
   ]
  },
  {
   "cell_type": "code",
   "execution_count": null,
   "metadata": {},
   "outputs": [],
   "source": [
    "H.plot(figsize=4)"
   ]
  },
  {
   "cell_type": "code",
   "execution_count": null,
   "metadata": {},
   "outputs": [],
   "source": [
    "H.is_isomorphic(G2.complement())"
   ]
  },
  {
   "cell_type": "markdown",
   "metadata": {},
   "source": [
    "<p>En este caso para resolver el problema deberíamos encontrar el mayor conjunto de vértices tales que cualesquiera dos son adyacentes, esto está relacionado con el concepto de \"<strong>clique</strong>\".</p>\n",
    "<p><span>En teoría de grafos, un </span><strong>clique</strong><span> en un grafo no dirigido </span><em>G</em><span> es un subconjunto de vértices que son mutuamente adyacentes en G</span><span>. En otras palabras, el subgrafo inducido por los vértices del clique es un grafo completo.</span></p>\n",
    "<p>El Problema del clique, que consiste en dado un grafo, decidir si existe en él un clique con un tamaño particular, es NP-completo, (del mismo modo que el problema equivalente de encontrar el número de independencia de un grafo), no obstante para grafos no demasiado grandes, Sage encuentra todos los cliques. Con la siguiente instrucción le pedimos que nos muestre los <strong>cliques maximales</strong>, es decir aquellos cliques que no están contenidos en otro clique mayor. </p>"
   ]
  },
  {
   "cell_type": "code",
   "execution_count": null,
   "metadata": {},
   "outputs": [],
   "source": [
    "H.cliques_maximal()"
   ]
  },
  {
   "cell_type": "markdown",
   "metadata": {},
   "source": [
    "<p>De todos ellos se llaman <strong>cliques máximos</strong> a aquellos que tiene mayor cardinal. En Sage la orden siguiente obtiene todos los cliques máximos de un grafo.</p>\n",
    "<p>Observa que uno de ellos debe coincidir con el conjunto máximo de vértices independientes del grafo que obtuvimos anteriormente y que coincidía con su complementario.</p>"
   ]
  },
  {
   "cell_type": "code",
   "execution_count": null,
   "metadata": {},
   "outputs": [],
   "source": [
    "H.cliques_maximum()"
   ]
  },
  {
   "cell_type": "code",
   "execution_count": null,
   "metadata": {},
   "outputs": [],
   "source": []
  },
  {
   "cell_type": "markdown",
   "metadata": {},
   "source": [
    "<p>Al cardinal de los cliques máximos se le llama<strong> número de clique del grafo</strong> y se representa por $\\omega(G)$.</p>\n",
    "<p>La siguiente instrucción nos da el número de clique.</p>"
   ]
  },
  {
   "cell_type": "code",
   "execution_count": null,
   "metadata": {},
   "outputs": [],
   "source": [
    "H.clique_number()"
   ]
  },
  {
   "cell_type": "markdown",
   "metadata": {},
   "source": [
    "<p>Vamos a comprobar que el subgrafo inducido por los 7 vértices correspondientes forman en efecto un grafo $K_7$.</p>\n",
    "<p>NOTA: El método \"<em>subgraph(lista)</em>\" nos proporciona el subgrafo inducido por los vértices de <em>lista</em>.</p>"
   ]
  },
  {
   "cell_type": "code",
   "execution_count": null,
   "metadata": {},
   "outputs": [],
   "source": [
    "mi_clique=H.subgraph(H.cliques_maximum()[3])\n",
    "mi_clique.is_isomorphic(graphs.CompleteGraph(7))"
   ]
  },
  {
   "cell_type": "markdown",
   "metadata": {},
   "source": [
    "<p>Dibujamos el grafo $H$ resaltando los vértices del clique máximo.</p>"
   ]
  },
  {
   "cell_type": "code",
   "execution_count": null,
   "metadata": {},
   "outputs": [],
   "source": [
    "d={'yellow':H.cliques_maximum()[3]}\n",
    "H.plot(vertex_colors=d,figsize=4, layout='spring')"
   ]
  },
  {
   "cell_type": "code",
   "execution_count": null,
   "metadata": {},
   "outputs": [],
   "source": []
  },
  {
   "cell_type": "markdown",
   "metadata": {},
   "source": [
    "<p><strong>EJERCICIO 3</strong>:  ¿Cual es el mayor tamaño de un conjunto de números primos entre sí que hay entre $20$ y $40$, ambos inclusive?</p>\n",
    "<p>NOTA: En Sage, la función \"<em>gcd(a,b)</em>\" devuelve el máximo común divisor de <em>a</em> y <em>b</em>.</p>"
   ]
  },
  {
   "cell_type": "code",
   "execution_count": null,
   "metadata": {},
   "outputs": [],
   "source": []
  },
  {
   "cell_type": "code",
   "execution_count": null,
   "metadata": {},
   "outputs": [],
   "source": []
  },
  {
   "cell_type": "markdown",
   "metadata": {},
   "source": [
    "<p>En el siguiente problema aparecen los dos conceptos anteriores relacionados:</p>\n",
    "<p><strong>EJEMPLO 4</strong>: Probar que en cualquier grupo de 6 personas siempre hay 3 de ellas que se conocen mutuamente o bien tres que se desconocen entre ellas.</p>\n",
    "<p> Este problema podemos modelarlo mediante un grafo de modo que cada persona sería un vértice y dos vértices serán adyacentes si las personas a las que representan se conocen entre ellas. Así la afirmación anterior en términos de grafos sería:</p>\n",
    "<p>\"Cualquier grafo de 6 vértices o bien contiene un conjunto independiente de 3 vértices o un clique de orden 3\" o lo que es lo mismo \"En cualquier grafo de 6 vértices uno de estos dos parámetros anterores, número de clique o número de independencia, es mayor o igual que 3\".</p>\n",
    "<p>Lo vamos a comprobar calculando el número de independencia y el número de clique de todos los grafos de 6 vértices. En Sage la orden \"<strong>graphs(n)</strong>\" nos proporciona la lista de todos los grafos de n vértices. La siguiente orden muestra tales grafos</p>"
   ]
  },
  {
   "cell_type": "code",
   "execution_count": null,
   "metadata": {},
   "outputs": [],
   "source": [
    "graphs_list.show_graphs(graphs(4))"
   ]
  },
  {
   "cell_type": "code",
   "execution_count": null,
   "metadata": {},
   "outputs": [],
   "source": [
    "s=True\n",
    "for P in graphs(6):\n",
    "    ind=P.independent_set(value_only=True)\n",
    "    cl=P.clique_number()\n",
    "    if ind<3 and cl<3:\n",
    "        print('este grafo tiene numero de clique:',cl, 'y numero de independencia:',ind)\n",
    "        show(P)\n",
    "        s=False\n",
    "        break\n",
    "if s:\n",
    "    print('cualquier grafo de 6 vértices o contiene un K3 o un conjunto independiente de 3 vértices')"
   ]
  },
  {
   "cell_type": "code",
   "execution_count": null,
   "metadata": {},
   "outputs": [],
   "source": []
  },
  {
   "cell_type": "markdown",
   "metadata": {},
   "source": [
    "<p><strong>EJERCICIO 4</strong>: ¿Es cierto que en cualquier grupo de 7 personas o hay 4 que se conocen mutuamente o hay 3 que son mutuamente desconocidas?</p>"
   ]
  },
  {
   "cell_type": "code",
   "execution_count": null,
   "metadata": {},
   "outputs": [],
   "source": []
  },
  {
   "cell_type": "code",
   "execution_count": null,
   "metadata": {},
   "outputs": [],
   "source": []
  },
  {
   "cell_type": "markdown",
   "metadata": {},
   "source": [
    "<h1><a name=\"cuestiones\"></a><strong>Otros ejercicios propuestos<br /></strong></h1>\n",
    "<p><strong>EJERCICIO 5.</strong></p>\n",
    "<p>Se considera la variante del juego \"<em>llegar a la meta</em>\" (en un tablero $5\\times 5$) en la que <span>pierde</span> el jugador que llegue a la meta.</p>\n",
    "<p>a) Diseñar, si existe, una estrategia ganadora para este caso. ¿Quién tiene las de ganar, el jugador que comienza o el segundo en mover? </p>\n",
    "<p>b) En un determinado momento del juego, después del movimiento de nuestro adversario la ficha se encuentra en la posición $(2,3)$, ¿cuál debe ser nuestro siguiente movimiento?</p>\n",
    "<p> </p>"
   ]
  },
  {
   "cell_type": "code",
   "execution_count": null,
   "metadata": {},
   "outputs": [],
   "source": []
  },
  {
   "cell_type": "code",
   "execution_count": null,
   "metadata": {},
   "outputs": [],
   "source": []
  },
  {
   "cell_type": "markdown",
   "metadata": {},
   "source": [
    "<p><strong><strong>EJERCICIO</strong> 6:</strong> Este es un juego para dos jugadores. Sobre una mesa hay dos montones de fósforos con siete fósforos cada uno. Cada jugador, por turno, puede coger un fósforo del montón que elija o un fósforo de cada montón. Pierde el que coge el último fósforo.</p>\n",
    "<p>a) ¿Tiene ventaja alguno de los jugadores? Si es así, ¿cuál debe ser su primer movimiento?</p>\n",
    "<p>b) En un determinado momento de la partida quedan 5 fósforos en un montón y 6 en el otro, ¿cuál debe ser nuestro siguiente movimiento? ¿y si quedan 4 fósforos en uno y 2 en otro?</p>\n",
    "<p>c) ¿Qué pasaría si tuviéramos dos montones con un número diferente de fósforos?</p>\n",
    "<p>d) ¿Qué pasaría si ganase el jugador que coge el último fósforo?</p>"
   ]
  },
  {
   "cell_type": "code",
   "execution_count": null,
   "metadata": {},
   "outputs": [],
   "source": []
  },
  {
   "cell_type": "code",
   "execution_count": null,
   "metadata": {},
   "outputs": [],
   "source": []
  },
  {
   "cell_type": "code",
   "execution_count": null,
   "metadata": {},
   "outputs": [],
   "source": []
  },
  {
   "cell_type": "markdown",
   "metadata": {},
   "source": [
    "<p><strong><strong>EJERCICIO</strong> 7. </strong>Este es un juego para dos jugadores, A y B. Se coloca un montón de 45 piedrecillas sobre la mesa. Juega A y puede quitar entre 1 y 7 piedras. Juega B y puede quitar entre 1 y 7 piedras. Empieza jugando A. Gana el que se lleve la última piedra. ¿Hay alguna estrategia para alguno de los jugadores, de modo que esté seguro de ganar? ¿Cómo varía la situación cuando se varía el número de piedras? ¿Y si pierde el que se lleve la última?</p>"
   ]
  },
  {
   "cell_type": "code",
   "execution_count": null,
   "metadata": {},
   "outputs": [],
   "source": []
  },
  {
   "cell_type": "code",
   "execution_count": null,
   "metadata": {},
   "outputs": [],
   "source": []
  },
  {
   "cell_type": "code",
   "execution_count": null,
   "metadata": {},
   "outputs": [],
   "source": []
  },
  {
   "cell_type": "markdown",
   "metadata": {},
   "source": [
    "<p><strong>EJERCICIO 8</strong>. En el <strong>juego del NIM</strong> , de origen posiblemtente chino por su parecido con el juego llamado Jianshizi, dos jugadores colocan un número arbitrario de fichas (cerillas, palillos, guijarros, puchis) sobre una superficie, separadas en filas o grupos. Tanto el número de filas como el número de fichas en cada fila son también arbitrarios. El primer jugador toma cualquier número de fichas de una fila, entre uno y el total de la fila, pero sólo de una fila. El siguiente jugador hace su jugada de manera similar, retirando algunos de las fichas que quedan, y los jugadores van alternándose en sus jugadas. Se puede jugar de modo que gane el que retire la última ficha, que es el modo más fácil, o el \"<em>modo miseria</em>\" en el que perdería el que retire la última ficha.</p>\n",
    "<p><img style=\"display: block; margin-left: auto; margin-right: auto;\" src=\"NIM-game.jpg\" alt=\"\" width=\"267\" height=\"250\" /></p>\n",
    "<p>Para el caso de la figura (tres filas, con 5, 3 y 4 fichas, respectivamente), modelar el juego mediante un digrafo y establecer una estrategia ganadora,</p>\n",
    "<p>a) Si gana el jugador que retira la última ficha.</p>\n",
    "<p>b) Si pierde el jugador que retira la última ficha (<em>modo miseria</em>).</p>"
   ]
  },
  {
   "cell_type": "code",
   "execution_count": null,
   "metadata": {},
   "outputs": [],
   "source": []
  },
  {
   "cell_type": "code",
   "execution_count": null,
   "metadata": {},
   "outputs": [],
   "source": []
  },
  {
   "cell_type": "code",
   "execution_count": null,
   "metadata": {},
   "outputs": [],
   "source": []
  },
  {
   "cell_type": "markdown",
   "metadata": {},
   "source": [
    "<p><strong>EJERCICIO 9</strong>: Encontrar el mayor tamaño de un conjunto de números, menores que 500, de forma que dos cualesquiera de ellos puedan ser catetos de un triángulo rectángulo cuyos tres lados son enteros.</p>"
   ]
  },
  {
   "cell_type": "code",
   "execution_count": null,
   "metadata": {},
   "outputs": [],
   "source": []
  },
  {
   "cell_type": "code",
   "execution_count": null,
   "metadata": {},
   "outputs": [],
   "source": []
  }
 ],
 "metadata": {
  "kernelspec": {
   "display_name": "SageMath 9.1",
   "language": "sage",
   "name": "sagemath"
  },
  "language": "python",
  "language_info": {
   "codemirror_mode": {
    "name": "ipython",
    "version": 3
   },
   "file_extension": ".py",
   "mimetype": "text/x-python",
   "name": "python",
   "nbconvert_exporter": "python",
   "pygments_lexer": "ipython3",
   "version": "3.7.3"
  }
 },
 "nbformat": 4,
 "nbformat_minor": 2
}
